{
 "cells": [
  {
   "cell_type": "markdown",
   "metadata": {
    "collapsed": true,
    "id": "CXYIkyiwqH7K"
   },
   "source": [
    "# Exercise 2: Shape Classification and Segmentation\n",
    "\n",
    "**Submission Deadline**: 12.12.2023, 23:55\n",
    "\n",
    "In this exercise, we will dive into Machine Learning on 3D shapes by taking a look at shape classification and segmentation."
   ]
  },
  {
   "cell_type": "markdown",
   "metadata": {
    "id": "QME_yMLCqH7N"
   },
   "source": [
    "## 2.0. Running this notebook\n",
    "We recommend running this notebook on a CUDA compatible local gpu. You can also run training on cpu, it will just take longer.\n",
    "\n",
    "You have three options for running this exercise on a GPU, choose one of them and start the exercise below in section \"Imports\":\n",
    "1. Locally on your own GPU\n",
    "2. On our dedicated compute cluster\n",
    "3. On Google Colab\n",
    "\n",
    "We describe every option in more detail below:"
   ]
  },
  {
   "cell_type": "markdown",
   "metadata": {
    "id": "ShHla7HNqH7N"
   },
   "source": [
    "---\n",
    "\n",
    "### (a) Local Execution\n",
    "\n",
    "If you run this notebook locally, you have to first install the python dependiencies again. They are the same as for exercise 1 so you can re-use the environment you used last time. If you use [poetry](https://python-poetry.org), you can also simply re-install everything (`poetry install`) and then run this notebook via `poetry run jupyter notebook`.\n",
    "\n",
    "In case you are working with a RTX 3000-series GPU, you need to install a patched version of pytorch:"
   ]
  },
  {
   "cell_type": "code",
   "execution_count": 1,
   "metadata": {
    "ExecuteTime": {
     "end_time": "2023-12-05T19:39:00.898503812Z",
     "start_time": "2023-12-05T19:38:52.939392678Z"
    },
    "id": "t3EfNhusqH7N"
   },
   "outputs": [
    {
     "name": "stdout",
     "output_type": "stream",
     "text": [
      "Looking in indexes: https://pypi.org/simple, https://download.pytorch.org/whl/cu113\n",
      "Requirement already satisfied: torch in /home/berfin/venvs/python3.7/ml43d/lib/python3.7/site-packages (1.13.1)\n",
      "Requirement already satisfied: torchvision in /home/berfin/venvs/python3.7/ml43d/lib/python3.7/site-packages (0.14.1)\n",
      "Requirement already satisfied: typing-extensions in /home/berfin/venvs/python3.7/ml43d/lib/python3.7/site-packages (from torch) (4.7.1)\n",
      "Requirement already satisfied: nvidia-cuda-runtime-cu11==11.7.99 in /home/berfin/venvs/python3.7/ml43d/lib/python3.7/site-packages (from torch) (11.7.99)\n",
      "Requirement already satisfied: nvidia-cudnn-cu11==8.5.0.96 in /home/berfin/venvs/python3.7/ml43d/lib/python3.7/site-packages (from torch) (8.5.0.96)\n",
      "Requirement already satisfied: nvidia-cublas-cu11==11.10.3.66 in /home/berfin/venvs/python3.7/ml43d/lib/python3.7/site-packages (from torch) (11.10.3.66)\n",
      "Requirement already satisfied: nvidia-cuda-nvrtc-cu11==11.7.99 in /home/berfin/venvs/python3.7/ml43d/lib/python3.7/site-packages (from torch) (11.7.99)\n",
      "Requirement already satisfied: setuptools in /home/berfin/venvs/python3.7/ml43d/lib/python3.7/site-packages (from nvidia-cublas-cu11==11.10.3.66->torch) (47.1.0)\n",
      "Requirement already satisfied: wheel in /home/berfin/venvs/python3.7/ml43d/lib/python3.7/site-packages (from nvidia-cublas-cu11==11.10.3.66->torch) (0.41.3)\n",
      "Requirement already satisfied: numpy in /home/berfin/venvs/python3.7/ml43d/lib/python3.7/site-packages (from torchvision) (1.21.6)\n",
      "Requirement already satisfied: requests in /home/berfin/venvs/python3.7/ml43d/lib/python3.7/site-packages (from torchvision) (2.31.0)\n",
      "Requirement already satisfied: pillow!=8.3.*,>=5.3.0 in /home/berfin/venvs/python3.7/ml43d/lib/python3.7/site-packages (from torchvision) (9.5.0)\n",
      "Requirement already satisfied: charset-normalizer<4,>=2 in /home/berfin/venvs/python3.7/ml43d/lib/python3.7/site-packages (from requests->torchvision) (3.3.2)\n",
      "Requirement already satisfied: idna<4,>=2.5 in /home/berfin/venvs/python3.7/ml43d/lib/python3.7/site-packages (from requests->torchvision) (3.4)\n",
      "Requirement already satisfied: urllib3<3,>=1.21.1 in /home/berfin/venvs/python3.7/ml43d/lib/python3.7/site-packages (from requests->torchvision) (2.0.7)\n",
      "Requirement already satisfied: certifi>=2017.4.17 in /home/berfin/venvs/python3.7/ml43d/lib/python3.7/site-packages (from requests->torchvision) (2023.7.22)\n"
     ]
    }
   ],
   "source": [
    "!pip install torch torchvision --extra-index-url https://download.pytorch.org/whl/cu113"
   ]
  },
  {
   "cell_type": "markdown",
   "metadata": {
    "id": "mCpvVjaqqH7O"
   },
   "source": [
    "### (b) Compute Cluster\n",
    "\n",
    "We provide access to a small compute cluster for the exercises and projects, consisting of a login node and 4 compute nodes with one dedicated RTX 3090 GPU each.\n",
    "Please send us a short email with your name and preferred username so we can add you as a user.\n",
    "\n",
    "We uploaded a PDF to Moodle with detailed information on how to access and use the cluster.\n",
    "\n",
    "Since the cluster contains RTX 3000-series GPUs, you will need to install a patched version of pytorch:"
   ]
  },
  {
   "cell_type": "code",
   "execution_count": 2,
   "metadata": {
    "ExecuteTime": {
     "end_time": "2023-12-05T19:39:00.902820309Z",
     "start_time": "2023-12-05T19:39:00.899926067Z"
    },
    "id": "jhAnPSLyqH7O"
   },
   "outputs": [],
   "source": [
    "# !pip install torch torchvision --extra-index-url https://download.pytorch.org/whl/cu113"
   ]
  },
  {
   "cell_type": "markdown",
   "metadata": {
    "id": "v-55jOd8qH7O"
   },
   "source": [
    "### (c) Google Colab\n",
    "\n",
    "If you don't have access to a GPU and don't want to use our cluster, you can also use Google Colab. However, we experienced the issue that inline visualization of shapes or inline images didn't work on colab, so just keep that in mind.\n",
    "What you can also do is only train networks on colab, download the checkpoint, and visualize inference locally.\n",
    "\n",
    "In case you're using Google Colab, you can upload the exercise folder (containing `exercise_2.ipynb`, directory `exercise_2` and the file `requirements.txt`) as `3d-machine-learning` to google drive (make sure you don't upload extracted datasets files).\n",
    "Additionally you'd need to open the notebook `exercise_2.ipynb` in Colab using `File > Open Notebook > Upload`.\n",
    "\n",
    "Next you'll need to run these two cells for setting up the environment. Before you do that make sure your instance has a GPU."
   ]
  },
  {
   "cell_type": "code",
   "execution_count": 3,
   "metadata": {
    "ExecuteTime": {
     "end_time": "2023-12-05T19:39:00.988383779Z",
     "start_time": "2023-12-05T19:39:00.903046322Z"
    },
    "id": "swicdFnDqH7P"
   },
   "outputs": [],
   "source": [
    "# import os\n",
    "# from google.colab import drive\n",
    "# drive.mount('/content/drive', force_remount=True)\n",
    "\n",
    "# We assume you uploaded the exercise folder in root Google Drive folder\n",
    "\n",
    "# !cp -r /content/drive/MyDrive/3d-machine-learning 3d-machine-learning/\n",
    "# os.chdir('/content/3d-machine-learning/')\n",
    "# print('Installing requirements')\n",
    "# !pip install -r requirements.txt\n",
    "\n",
    "# Make sure you restart runtime when directed by Colab"
   ]
  },
  {
   "cell_type": "code",
   "execution_count": 4,
   "metadata": {
    "ExecuteTime": {
     "end_time": "2023-12-05T19:39:00.989185802Z",
     "start_time": "2023-12-05T19:39:00.935299003Z"
    },
    "colab": {
     "base_uri": "https://localhost:8080/"
    },
    "executionInfo": {
     "elapsed": 9671,
     "status": "ok",
     "timestamp": 1701723904734,
     "user": {
      "displayName": "Berfin Kavşut",
      "userId": "14341270727018230240"
     },
     "user_tz": -60
    },
    "id": "MG_WqUOvsldv",
    "outputId": "618acd94-f572-46f7-86a1-ae0c4694ca5e"
   },
   "outputs": [
    {
     "data": {
      "text/plain": [
       "\"from google.colab import drive\\nimport os\\n\\ngdrive_path='/content/gdrive/MyDrive/ml43d/ml43d-exercises/exercise2'\\n\\n# This will mount your google drive under 'MyDrive'\\ndrive.mount('/content/gdrive', force_remount=True)\\n# In order to access the files in this notebook we have to navigate to the correct folder\\nos.chdir(gdrive_path)\\n# Check manually if all files are present\\nprint(sorted(os.listdir()))\\n\\n!pip install -r requirements.txt\\n\""
      ]
     },
     "execution_count": 4,
     "metadata": {},
     "output_type": "execute_result"
    }
   ],
   "source": [
    "\"\"\"from google.colab import drive\n",
    "import os\n",
    "\n",
    "gdrive_path='/content/gdrive/MyDrive/ml43d/ml43d-exercises/exercise2'\n",
    "\n",
    "# This will mount your google drive under 'MyDrive'\n",
    "drive.mount('/content/gdrive', force_remount=True)\n",
    "# In order to access the files in this notebook we have to navigate to the correct folder\n",
    "os.chdir(gdrive_path)\n",
    "# Check manually if all files are present\n",
    "print(sorted(os.listdir()))\n",
    "\n",
    "!pip install -r requirements.txt\n",
    "\"\"\""
   ]
  },
  {
   "cell_type": "markdown",
   "metadata": {
    "id": "lLtsyhZdqH7P"
   },
   "source": [
    "Run this cell after restarting your colab runtime"
   ]
  },
  {
   "cell_type": "markdown",
   "metadata": {
    "id": "LcgwiDh-qH7P"
   },
   "source": [
    "---\n",
    "\n",
    "### Imports\n",
    "\n",
    "The following imports should work regardless of whether you are using Colab or local execution."
   ]
  },
  {
   "cell_type": "code",
   "execution_count": 3,
   "metadata": {
    "ExecuteTime": {
     "end_time": "2023-12-05T19:39:02.403835514Z",
     "start_time": "2023-12-05T19:39:00.956229883Z"
    },
    "colab": {
     "base_uri": "https://localhost:8080/"
    },
    "executionInfo": {
     "elapsed": 495,
     "status": "ok",
     "timestamp": 1701723918443,
     "user": {
      "displayName": "Berfin Kavşut",
      "userId": "14341270727018230240"
     },
     "user_tz": -60
    },
    "id": "bJjPXBJOqH7P",
    "outputId": "8b22456b-78c3-4f4c-a96e-cae5ce322246"
   },
   "outputs": [],
   "source": [
    "%load_ext autoreload\n",
    "%autoreload 2\n",
    "from pathlib import Path\n",
    "import numpy as np\n",
    "import matplotlib as plt\n",
    "import k3d\n",
    "import trimesh\n",
    "import torch"
   ]
  },
  {
   "cell_type": "markdown",
   "metadata": {
    "id": "FOz9wco-qH7P"
   },
   "source": [
    "Use the next cell to test whether a GPU was detected by pytorch."
   ]
  },
  {
   "cell_type": "code",
   "execution_count": 4,
   "metadata": {
    "ExecuteTime": {
     "end_time": "2023-12-05T19:39:02.467323740Z",
     "start_time": "2023-12-05T19:39:02.404783930Z"
    },
    "colab": {
     "base_uri": "https://localhost:8080/"
    },
    "executionInfo": {
     "elapsed": 2,
     "status": "ok",
     "timestamp": 1701723918798,
     "user": {
      "displayName": "Berfin Kavşut",
      "userId": "14341270727018230240"
     },
     "user_tz": -60
    },
    "id": "2aHvXjq8qH7Q",
    "outputId": "8c401f3c-38a7-42b9-e257-d6f8e63144a9"
   },
   "outputs": [
    {
     "data": {
      "text/plain": [
       "False"
      ]
     },
     "execution_count": 4,
     "metadata": {},
     "output_type": "execute_result"
    }
   ],
   "source": [
    "torch.cuda.is_available()"
   ]
  },
  {
   "cell_type": "markdown",
   "metadata": {
    "id": "ntPyf5rEqH7Q"
   },
   "source": [
    "## 2.1. ShapeNet Terms of Use\n",
    "\n",
    "We provide pre-processed shapes from the [ShapeNet](//shapenet.org) database for this exercise. ShapeNet is an ongoing effort to establish a richly-annotated, large-scale dataset of 3D shapes and is a collaborative effort between researchers at Princeton, Stanford and TTIC.\n",
    "\n",
    "<img src=\"exercise_2/images/shapenet.png\" alt=\"shapenet\" style=\"width: 512px;\"/>\n",
    "\n",
    "In order to be able to use the data, we ask you to read and agree to their Terms of Use as stated below (this is a requirement for passing this exercise):\n",
    "\n",
    "1. Researcher shall use the Database only for non-commercial research and educational purposes.\n",
    "2. Princeton University and Stanford University make no representations or warranties regarding the Database, including but not limited to warranties of non-infringement or fitness for a particular purpose.\n",
    "3. Researcher accepts full responsibility for his or her use of the Database and shall defend and indemnify Princeton University and Stanford University, including their employees, Trustees, officers and agents, against any and all claims arising from Researcher's use of the Database, including but not limited to Researcher's use of any copies of copyrighted 3D models that he or she may create from the Database.\n",
    "4. Researcher may provide research associates and colleagues with access to the Database provided that they first agree to be bound by these terms and conditions.\n",
    "5. Princeton University and Stanford University reserve the right to terminate Researcher's access to the Database at any time.\n",
    "6. If Researcher is employed by a for-profit, commercial entity, Researcher's employer shall also be bound by these terms and conditions, and Researcher hereby represents that he or she is fully authorized to enter into this agreement on behalf of such employer.\n",
    "7. The law of the State of New Jersey shall apply to all disputes under this agreement.\n",
    "\n",
    "To agree, simply type `I agree to the Terms of Use` in the next code cell."
   ]
  },
  {
   "cell_type": "code",
   "execution_count": 7,
   "metadata": {
    "ExecuteTime": {
     "end_time": "2023-12-05T19:39:02.480258211Z",
     "start_time": "2023-12-05T19:39:02.426009374Z"
    },
    "executionInfo": {
     "elapsed": 419,
     "status": "ok",
     "timestamp": 1701723920988,
     "user": {
      "displayName": "Berfin Kavşut",
      "userId": "14341270727018230240"
     },
     "user_tz": -60
    },
    "id": "p4VCro0GqH7Q"
   },
   "outputs": [],
   "source": [
    "# I agree to the Terms of Use"
   ]
  },
  {
   "cell_type": "markdown",
   "metadata": {
    "id": "Lvwi-9tEqH7Q"
   },
   "source": [
    "## 2.2. A simple 3D CNN with pytorch\n",
    "\n",
    "Here, we will create a very simple 3D Convolutional Neural Network on some toy data. This is meant as a quick introduction into the pytorch framework if you haven't used it yet. It will cover everything you need to know for the following parts of the exercise; if you want to go into a bit more detail about the framework, a good place to start is the official [pytorch quickstart tutorial](https://pytorch.org/tutorials/beginner/basics/quickstart_tutorial.html).\n",
    "\n",
    "A very useful resource if you want to know more about a certain class or function are the [official docs](https://pytorch.org/docs/stable/index.html). Take a minute to look at the documentation of a [Tensor](https://pytorch.org/docs/stable/tensors.html?highlight=tensor#torch.Tensor) which is the data structure pytorch uses throughout their APIs. It is comparable to a numpy array, with added functionality such as the ability to move seamlessly between cpu host memory and cuda device memory or the integrated autograd functionality for automatic differentiation. Most importantly, you can create a tensor from a numpy array with `torch.from_numpy(array)` and the other way around with `array = tensor.numpy()`.\n",
    "\n",
    "Our objective with this 3D CNN is to simply classify if a given SDF is containing a sphere or a torus. The data is generated the same way we did it in the last exercise (we randomize the shape parameters a bit so the task is not too trivial). Each such sample has a scalar label associated with it, either 0 or 1, depending on the shape it contains.\n",
    "\n",
    "All of the implementation in this part will take place in `exercise_2/simple_nn.py`. This makes sense for now but note that we would usually spread things over multiple different files like in the following exercise parts.\n",
    "\n",
    "The important bits we need for every training in pytorch are:\n",
    "1. The **dataset** implementation. This is a class responsible for providing the data used by the training procedure sample-by-sample. In its simplest form, it just loads data samples (eg. point clouds or voxel grids) from disk. However, it is usually also used to transform raw data from disk into the correct format and to apply various kinds of augmentations.\n",
    "2. The network definition (\"**model**\") that we want to train. It specifies the network structure (number and type of layers, activation functions, normalization layers etc.) as well as how exactly input data is processed.\n",
    "3. The **loss function**: For classification, this is usually a Cross Entropy Loss; we will also see reconstruction losses like l1 and l2 in exercise 3.\n",
    "4. The **optimizer**: Usually chosen from a set of pre-defined classes like SGD or ADAM.\n",
    "5. The **training loop**: For each batch of data, it does the following: Loads data from the dataloader, passes it through the model (\"forward pass\"), computes the loss, calculates the gradients (\"backward pass\"), and finally, adjusts the network weights using the optimizer.\n",
    "\n",
    "Let's walk through everything step-by-step:"
   ]
  },
  {
   "cell_type": "markdown",
   "metadata": {
    "id": "sYBMv09BqH7R"
   },
   "source": [
    "### (a) Dataset\n",
    "\n",
    "We start by implementing the data source, which is called `Dataset` in pytorch. Take a look at the `SimpleDataset` class, it contains everything we have to implement to make it work:\n",
    "1. The `__init__` function that takes paramters and prepares the dataset by setting paths etc. Here, the one thing you always have to do is to load at least a list of samples you want to use - they don't have to be loaded from disk yet, but you need to know which and how many samples there are. This usually also depends on the current split - you use a different set of samples for training than for validation or testing.\n",
    "2. The `__len__` function that returns the total number of samples. In most cases, this will simply be the length of the list of samples you prepared in `__init__`.\n",
    "3. The `__getitem__` function. This is where the actual dataloading takes place. The function gets an index between 0 and the length you returned with `__len__`. Your job is then to return some data corresponding to the index. You do not need to worry about putting data onto the GPU here yet; instead, you load the data and return a tuple containing numpy arrays and other data like sample ids you might need in your training loop. Overall, you should take the index parameter in this function, find the sample id it belongs to, load that data, and then return it in a format that can be used in the training loop.\n",
    "\n",
    "Note that it is also fine to load all data into a list in the `__init__` function for small datasets like our toy dataset in this exercise part. You would then just index this pre-loaded data in your `__getitem__` function.\n",
    "\n",
    "Add and implement functions `__init__`, `__len__`, and `__getitem__` in class `SimpleDataset`.\n",
    "\n",
    "First, implement `__init__`: It takes a single parameter (called `split`) that determines if we are using train or val split at the moment. Based on that, it should generate toy data: 4096 samples if the split is train and 1024 if it is val. Use `generate_toy_data` from `exercise_2/util/toy_data.py` for this which generates two numpy arrays: The first one containing sphere and torus SDFs generated with randomized parameters and the second one classification labels, a 0 if the corresponding SDF in the first array is a sphere and 1 if it is a torus.\n",
    "\n",
    "Then, implement `__len__` by simply returning the length of the data you generated in `__init__`.\n",
    "\n",
    "Lastly, implement `__getitem__` which takes an integer index and returns a tuple: A numpy array containing the input SDF volume as generated by `generate_toy_data` before and a scalar value that represents the target class label for this volume.\n",
    "\n",
    "Note: You have to add an additional dimension of size 1 to the input volume you return in `__getitem__` to make everything work later on, i.e. instead of returning a numpy array of shape (32, 32, 32), you should return an array of shape (1, 32, 32, 32).\n",
    "\n",
    "Test your implementation with the checks below:"
   ]
  },
  {
   "cell_type": "code",
   "execution_count": 8,
   "metadata": {
    "ExecuteTime": {
     "end_time": "2023-12-05T19:39:05.254328596Z",
     "start_time": "2023-12-05T19:39:02.447904831Z"
    },
    "colab": {
     "base_uri": "https://localhost:8080/"
    },
    "executionInfo": {
     "elapsed": 4253,
     "status": "ok",
     "timestamp": 1701723927084,
     "user": {
      "displayName": "Berfin Kavşut",
      "userId": "14341270727018230240"
     },
     "user_tz": -60
    },
    "id": "Gava5d0LqH7R",
    "outputId": "19b0f351-8601-4279-de72-3ace21112646"
   },
   "outputs": [
    {
     "name": "stdout",
     "output_type": "stream",
     "text": [
      "Generating toy data ...\n",
      "Generating toy data ...\n",
      "Length of train set: 4096\n",
      "Length of val set: 1024\n",
      "(1, 32, 32, 32)\n",
      "Class = 0\n",
      "(1, 32, 32, 32)\n",
      "Class = 1\n"
     ]
    }
   ],
   "source": [
    "from exercise_2.simple_nn import SimpleDataset\n",
    "\n",
    "# Create datasets with train and val splits\n",
    "train_dataset = SimpleDataset('train')\n",
    "val_dataset = SimpleDataset('val')\n",
    "\n",
    "# Test lengths\n",
    "print(f'Length of train set: {len(train_dataset)}')  # expected output: 4096\n",
    "print(f'Length of val set: {len(val_dataset)}')  # expected output: 1024\n",
    "\n",
    "# Get sample at index 0\n",
    "train_sample = train_dataset[0]\n",
    "print(train_sample[0].shape)  # Expected output (1, 32, 32, 32) (the leading 1 is important for later)\n",
    "print(f\"Class = {train_sample[1]}\")  # Expected output: Scalar value 0\n",
    "val_sample = val_dataset[-1]\n",
    "print(val_sample[0].shape)  # Expected output (1, 32, 32, 32) (the leading 1 is important for later)\n",
    "print(f\"Class = {val_sample[1]}\")  # Expected output: Scalar value 1"
   ]
  },
  {
   "cell_type": "code",
   "execution_count": 9,
   "metadata": {
    "ExecuteTime": {
     "end_time": "2023-12-05T19:39:05.409247074Z",
     "start_time": "2023-12-05T19:39:05.254660568Z"
    },
    "colab": {
     "base_uri": "https://localhost:8080/"
    },
    "executionInfo": {
     "elapsed": 4,
     "status": "ok",
     "timestamp": 1701723927084,
     "user": {
      "displayName": "Berfin Kavşut",
      "userId": "14341270727018230240"
     },
     "user_tz": -60
    },
    "id": "2IJ1OCNuqH7R",
    "outputId": "6a4ea532-b606-4587-9b52-4c4e0808d61b"
   },
   "outputs": [
    {
     "name": "stdout",
     "output_type": "stream",
     "text": [
      "(1, 32, 32, 32)\n",
      "Creating SDF visualization for 32^3 grid ...\n",
      "Exported to /home/berfin/Desktop/ML for 3D Geometry/exercises/ml43d-exercises/exercise2/toy_data.ply\n"
     ]
    }
   ],
   "source": [
    "from exercise_2.util.visualization import visualize_sdf\n",
    "\n",
    "train_sample = train_dataset[0]\n",
    "print(train_sample[0].shape)\n",
    "visualize_sdf(train_sample[0].squeeze(0), filename=Path.cwd() / 'toy_data.ply')"
   ]
  },
  {
   "cell_type": "markdown",
   "metadata": {
    "id": "iHPvdDPNqH7S"
   },
   "source": [
    "### (b) Model\n",
    "The model is defined in class `SimpleModel`. Two functions are important here: `__init__` which sets up the architecture by instantiating layers with the correct parameters and adapting them to possible input parameters and `forward` which takes an input tensor (we call it `x` here). The output of `forward` is another tensor that contains the result of the network - in our case, this is a vector of logits which will then be used for classification. It could also be a volume of labels if you do segmentation or a volume of the same size as the input if you do reconstruction.\n",
    "\n",
    "Analogous to `forward`, you could also define a custom `backward` function that describes how to calculate the gradients for your model. However, this is not necessary for most architectures as pytorch's autograd implementation takes care of all of that.\n",
    "\n",
    "For now, we will implement a very simple model: We stack together three 3D Convolution layers and have a fully connected layer at the end for classification. This is a schematic for the overall model structure:\n",
    "<img src=\"exercise_2/images/simplenn.png\" alt=\"simplenn_architecture\" style=\"width: 512px;\"/>\n",
    "\n",
    "Each layer starts with a 3d convolution, followed by a batch normalization layer and a ReLU activation function. We left the implementation of the first layer in there; your task is to fill out the missing parts in `__init__` for layers 2 and 3 (use the same parameters as for the first convolution: kernel size 4, stride 3, padding 1). Each convolution should double the number of feature channels, such that you get a volume of size 16 x 1 x 1 x 1 after layer 3. You also need to define the ReLU and the fully connected layer (for this, use `torch.nn.Linear` to reduce the number of dimensions from 16 to 2).\n",
    "\n",
    "In `forward`, you can repeat the first line to move the input tensor through all three convolutional layers. Then, reshape the resulting tensor to dimension batchsize x 16 (the batch size is always the first dimension) and apply the linear layer to it. Return the result as-is.\n",
    "\n",
    "Hint: The ease of debugging is one of the main reasons why pytorch is preferred in research over alternatives like tensorflow. You can set breakpoints in the `forward` function and watch as the input tensor gets modified by each layer to find bugs or things like wrongly calculated convolution parameters.\n",
    "\n",
    "Use the following sanity checks to verify your model:"
   ]
  },
  {
   "cell_type": "code",
   "execution_count": 10,
   "metadata": {
    "ExecuteTime": {
     "end_time": "2023-12-05T19:39:05.480052248Z",
     "start_time": "2023-12-05T19:39:05.410967748Z"
    },
    "colab": {
     "base_uri": "https://localhost:8080/"
    },
    "executionInfo": {
     "elapsed": 12,
     "status": "ok",
     "timestamp": 1701723932979,
     "user": {
      "displayName": "Berfin Kavşut",
      "userId": "14341270727018230240"
     },
     "user_tz": -60
    },
    "id": "5VGlepWmqH7S",
    "outputId": "c9db5fad-35e5-45c9-9bad-8ae513ec6e26"
   },
   "outputs": [
    {
     "name": "stdout",
     "output_type": "stream",
     "text": [
      "  | Name         | Type        | Params\n",
      "---------------------------------------------\n",
      "0 | conv1        | Conv3d      | 260   \n",
      "1 | bn1          | BatchNorm3d | 8     \n",
      "2 | conv2        | Conv3d      | 2056  \n",
      "3 | bn2          | BatchNorm3d | 16    \n",
      "4 | conv3        | Conv3d      | 8208  \n",
      "5 | bn3          | BatchNorm3d | 32    \n",
      "6 | linear_layer | Linear      | 34    \n",
      "7 | relu         | ReLU        | 0     \n",
      "8 | TOTAL        | SimpleModel | 10614 \n",
      "Output tensor shape:  torch.Size([32, 2])\n"
     ]
    }
   ],
   "source": [
    "from exercise_2.simple_nn import SimpleModel\n",
    "from exercise_2.util.model import summarize_model\n",
    "\n",
    "simple_nn = SimpleModel()\n",
    "print(summarize_model(simple_nn))  # Expected: Rows 0-8 and TOTAL = 10614\n",
    "\n",
    "# batch size = 32, voxel grid: (1 x 32 x 32 x 32)\n",
    "# 1 for SDF, e.g. 3 for RGB volumes\n",
    "input_tensor = torch.randn(32, 1, 32, 32, 32)\n",
    "predictions = simple_nn(input_tensor)\n",
    "\n",
    "print('Output tensor shape: ', predictions.shape)  # Expected: torch.Size([32, 2])"
   ]
  },
  {
   "cell_type": "markdown",
   "metadata": {
    "id": "YPVW-OPeqH7S"
   },
   "source": [
    "### (c) Training"
   ]
  },
  {
   "cell_type": "markdown",
   "metadata": {
    "id": "NCOadxzvqH7S"
   },
   "source": [
    "We already laid out most of the code structure you need to start training once you have your dataset and model defined. This code usually does not change much between projects; this is why there exist many different libraries to simplify it even more (you can take a look at pytorch lightning for example if you are interested). We will stick to the standard pytorch way of doing things for these exercises.\n",
    "\n",
    "The most important things left to do are:\n",
    "1. Define the data loaders. They take the samples you provide in your dataset implementation and take care of loading multiple samples in parallel, shuffling the dataset, and combining samples into batches.\n",
    "2. Define a loss function. For classification, this is usually `torch.nn.CrossEntropyLoss`\n",
    "3. Instantiate the optimizer. Mostly, this will be ADAM (`torch.optim.Adam`) unless you have a good reason to use another one.\n",
    "4. Implement the training loop: Get a batch of data from the data loader, move it to the GPU, perform a forward pass, compute the loss, calculate gradients in the backward pass, adjust weights in an optimizer step, repeat.\n",
    "\n",
    "Note: You have to move some stuff to the correct compute device (usually the GPU) by calling `.to(device)`: The model and loss function as well as the data you get from each batch.\n",
    "\n",
    "Take a look at the structure of `main` since you will also use it for the next exercise parts and fill in code in `train` at the blanks marked with TODO. Then, start the training below. For this exercise, we don't care too much about the results since it is a very easy classification task anyways. Your model should be able to get to > 98% validation accuracy, though. You can stop the training once that is the case."
   ]
  },
  {
   "cell_type": "code",
   "execution_count": 11,
   "metadata": {
    "ExecuteTime": {
     "end_time": "2023-12-05T19:39:48.087108814Z",
     "start_time": "2023-12-05T19:39:05.444157385Z"
    },
    "colab": {
     "base_uri": "https://localhost:8080/",
     "height": 1000
    },
    "executionInfo": {
     "elapsed": 34316,
     "status": "error",
     "timestamp": 1701723970117,
     "user": {
      "displayName": "Berfin Kavşut",
      "userId": "14341270727018230240"
     },
     "user_tz": -60
    },
    "id": "ZBBosdatqH7S",
    "outputId": "b270149a-94a5-4ae8-89fd-482df08f0f16",
    "scrolled": true
   },
   "outputs": [
    {
     "name": "stdout",
     "output_type": "stream",
     "text": [
      "Using CPU\n",
      "Generating toy data ...\n",
      "Generating toy data ...\n",
      "[000/00024] train_loss: 0.424\n",
      "[000/00049] train_loss: 0.292\n",
      "[000/00074] train_loss: 0.235\n",
      "[000/00099] train_loss: 0.173\n",
      "[000/00099] val_loss: 0.165, val_accuracy: 95.215%\n",
      "[000/00124] train_loss: 0.159\n",
      "[001/00021] train_loss: 0.129\n",
      "[001/00046] train_loss: 0.129\n",
      "[001/00071] train_loss: 0.122\n",
      "[001/00071] val_loss: 0.122, val_accuracy: 96.777%\n",
      "[001/00096] train_loss: 0.094\n",
      "[001/00121] train_loss: 0.106\n",
      "[002/00018] train_loss: 0.071\n",
      "[002/00043] train_loss: 0.121\n",
      "[002/00043] val_loss: 0.136, val_accuracy: 96.484%\n",
      "[002/00068] train_loss: 0.119\n",
      "[002/00093] train_loss: 0.080\n",
      "[002/00118] train_loss: 0.062\n",
      "[003/00015] train_loss: 0.050\n",
      "[003/00015] val_loss: 0.094, val_accuracy: 96.973%\n",
      "[003/00040] train_loss: 0.085\n",
      "[003/00065] train_loss: 0.054\n",
      "[003/00090] train_loss: 0.076\n",
      "[003/00115] train_loss: 0.097\n",
      "[003/00115] val_loss: 0.113, val_accuracy: 97.559%\n",
      "[004/00012] train_loss: 0.040\n",
      "[004/00037] train_loss: 0.086\n",
      "[004/00062] train_loss: 0.105\n",
      "[004/00087] train_loss: 0.060\n",
      "[004/00087] val_loss: 0.125, val_accuracy: 97.168%\n",
      "[004/00112] train_loss: 0.061\n",
      "[005/00009] train_loss: 0.025\n",
      "[005/00034] train_loss: 0.039\n",
      "[005/00059] train_loss: 0.050\n",
      "[005/00059] val_loss: 0.094, val_accuracy: 97.754%\n",
      "[005/00084] train_loss: 0.050\n",
      "[005/00109] train_loss: 0.051\n",
      "[006/00006] train_loss: 0.011\n",
      "[006/00031] train_loss: 0.075\n",
      "[006/00031] val_loss: 0.101, val_accuracy: 98.242%\n",
      "[006/00056] train_loss: 0.068\n",
      "[006/00081] train_loss: 0.086\n",
      "[006/00106] train_loss: 0.041\n",
      "[007/00003] train_loss: 0.007\n",
      "[007/00003] val_loss: 0.073, val_accuracy: 98.145%\n",
      "[007/00028] train_loss: 0.058\n",
      "[007/00053] train_loss: 0.058\n",
      "[007/00078] train_loss: 0.065\n",
      "[007/00103] train_loss: 0.061\n",
      "[007/00103] val_loss: 0.069, val_accuracy: 97.852%\n",
      "[008/00000] train_loss: 0.006\n",
      "[008/00025] train_loss: 0.033\n",
      "[008/00050] train_loss: 0.081\n",
      "[008/00075] train_loss: 0.073\n",
      "[008/00075] val_loss: 0.073, val_accuracy: 98.145%\n",
      "[008/00100] train_loss: 0.038\n",
      "[008/00125] train_loss: 0.081\n",
      "[009/00022] train_loss: 0.061\n",
      "[009/00047] train_loss: 0.097\n",
      "[009/00047] val_loss: 0.115, val_accuracy: 96.582%\n",
      "[009/00072] train_loss: 0.093\n",
      "[009/00097] train_loss: 0.086\n",
      "[009/00122] train_loss: 0.083\n",
      "[010/00019] train_loss: 0.061\n",
      "[010/00019] val_loss: 0.070, val_accuracy: 98.145%\n",
      "[010/00044] train_loss: 0.070\n",
      "[010/00069] train_loss: 0.035\n",
      "[010/00094] train_loss: 0.061\n",
      "[010/00119] train_loss: 0.067\n",
      "[010/00119] val_loss: 0.091, val_accuracy: 97.559%\n",
      "[011/00016] train_loss: 0.049\n",
      "[011/00041] train_loss: 0.040\n",
      "[011/00066] train_loss: 0.055\n",
      "[011/00091] train_loss: 0.054\n",
      "[011/00091] val_loss: 0.056, val_accuracy: 98.340%\n",
      "[011/00116] train_loss: 0.060\n",
      "[012/00013] train_loss: 0.026\n",
      "[012/00038] train_loss: 0.055\n",
      "[012/00063] train_loss: 0.033\n",
      "[012/00063] val_loss: 0.064, val_accuracy: 98.047%\n",
      "[012/00088] train_loss: 0.062\n",
      "[012/00113] train_loss: 0.038\n",
      "[013/00010] train_loss: 0.018\n",
      "[013/00035] train_loss: 0.052\n",
      "[013/00035] val_loss: 0.056, val_accuracy: 98.535%\n",
      "[013/00060] train_loss: 0.059\n",
      "[013/00085] train_loss: 0.037\n",
      "[013/00110] train_loss: 0.058\n",
      "[014/00007] train_loss: 0.018\n",
      "[014/00007] val_loss: 0.044, val_accuracy: 98.730%\n",
      "[014/00032] train_loss: 0.048\n",
      "[014/00057] train_loss: 0.046\n",
      "[014/00082] train_loss: 0.054\n",
      "[014/00107] train_loss: 0.045\n",
      "[014/00107] val_loss: 0.068, val_accuracy: 98.047%\n",
      "[015/00004] train_loss: 0.011\n",
      "[015/00029] train_loss: 0.049\n",
      "[015/00054] train_loss: 0.057\n",
      "[015/00079] train_loss: 0.048\n",
      "[015/00079] val_loss: 0.036, val_accuracy: 99.023%\n",
      "[015/00104] train_loss: 0.040\n",
      "[016/00001] train_loss: 0.006\n",
      "[016/00026] train_loss: 0.063\n",
      "[016/00051] train_loss: 0.075\n",
      "[016/00051] val_loss: 0.065, val_accuracy: 98.535%\n",
      "[016/00076] train_loss: 0.040\n",
      "[016/00101] train_loss: 0.026\n",
      "[016/00126] train_loss: 0.051\n",
      "[017/00023] train_loss: 0.035\n",
      "[017/00023] val_loss: 0.057, val_accuracy: 98.535%\n",
      "[017/00048] train_loss: 0.071\n",
      "[017/00073] train_loss: 0.022\n",
      "[017/00098] train_loss: 0.020\n",
      "[017/00123] train_loss: 0.019\n",
      "[017/00123] val_loss: 0.063, val_accuracy: 98.145%\n",
      "[018/00020] train_loss: 0.037\n",
      "[018/00045] train_loss: 0.066\n",
      "[018/00070] train_loss: 0.068\n",
      "[018/00095] train_loss: 0.056\n",
      "[018/00095] val_loss: 0.047, val_accuracy: 98.828%\n",
      "[018/00120] train_loss: 0.069\n",
      "[019/00017] train_loss: 0.059\n",
      "[019/00042] train_loss: 0.055\n",
      "[019/00067] train_loss: 0.042\n",
      "[019/00067] val_loss: 0.065, val_accuracy: 98.145%\n",
      "[019/00092] train_loss: 0.036\n",
      "[019/00117] train_loss: 0.031\n",
      "[020/00014] train_loss: 0.030\n",
      "[020/00039] train_loss: 0.045\n",
      "[020/00039] val_loss: 0.070, val_accuracy: 98.535%\n",
      "[020/00064] train_loss: 0.096\n",
      "[020/00089] train_loss: 0.073\n",
      "[020/00114] train_loss: 0.029\n",
      "[021/00011] train_loss: 0.034\n",
      "[021/00011] val_loss: 0.054, val_accuracy: 98.535%\n",
      "[021/00036] train_loss: 0.047\n",
      "[021/00061] train_loss: 0.076\n",
      "[021/00086] train_loss: 0.023\n",
      "[021/00111] train_loss: 0.022\n",
      "[021/00111] val_loss: 0.154, val_accuracy: 89.941%\n",
      "[022/00008] train_loss: 0.010\n",
      "[022/00033] train_loss: 0.033\n",
      "[022/00058] train_loss: 0.045\n",
      "[022/00083] train_loss: 0.036\n",
      "[022/00083] val_loss: 0.048, val_accuracy: 98.926%\n",
      "[022/00108] train_loss: 0.033\n",
      "[023/00005] train_loss: 0.012\n",
      "[023/00030] train_loss: 0.039\n",
      "[023/00055] train_loss: 0.031\n",
      "[023/00055] val_loss: 0.057, val_accuracy: 98.633%\n",
      "[023/00080] train_loss: 0.041\n",
      "[023/00105] train_loss: 0.036\n",
      "[024/00002] train_loss: 0.000\n",
      "[024/00027] train_loss: 0.056\n",
      "[024/00027] val_loss: 0.058, val_accuracy: 99.121%\n",
      "[024/00052] train_loss: 0.031\n",
      "[024/00077] train_loss: 0.053\n",
      "[024/00102] train_loss: 0.023\n",
      "[024/00127] train_loss: 0.030\n",
      "[024/00127] val_loss: 0.059, val_accuracy: 99.219%\n"
     ]
    }
   ],
   "source": [
    "from exercise_2 import simple_nn\n",
    "\n",
    "config={\n",
    "    'experiment_name': '2_2_simple_nn',\n",
    "    'device': 'cuda:0',  # change this to cpu if you do not have a GPU\n",
    "    'batch_size': 32,\n",
    "    'resume_ckpt': None,\n",
    "    'learning_rate': 0.001,\n",
    "    'max_epochs': 25,\n",
    "    'print_every_n': 25,\n",
    "    'validate_every_n': 100\n",
    "}\n",
    "\n",
    "simple_nn.main(config)  # should have val_accuracy > 99%"
   ]
  },
  {
   "cell_type": "markdown",
   "metadata": {
    "id": "ITOjhrtqqH7S"
   },
   "source": [
    "That's it! In the following parts, we will now move on to more complicated problems and more involved network models."
   ]
  },
  {
   "cell_type": "markdown",
   "metadata": {
    "id": "Q7xA4uZiqH7S"
   },
   "source": [
    "## 2.3. Shape Classification using 3DCNN\n",
    "\n",
    "### (a) Download and extract voxelized ShapeNet training data"
   ]
  },
  {
   "cell_type": "markdown",
   "metadata": {
    "id": "-43gC_x-qH7S"
   },
   "source": [
    "Each folder in the `exercise_2/data/ShapeNetVox32` directory represents a shape category represented by a number, e.g. `02691156`.\n",
    "We provide the mapping between these numbers and the corresponding names in `exercise_2/data/shape_info.json`. Each of these shape category folders contains a number of shapes\n",
    "represented as voxels and stored in a `binvox` format.\n",
    "\n",
    "```\n",
    "# contents of exercise_2/data/ShapeNetVox32\n",
    "\n",
    "02691156/                                   # Shape category folder with all it's shapes\n",
    "    ├── 1a04e3eab45ca15dd86060f189eb133/    # A single shape of the category\n",
    "        ├── model.binvox                    # Voxel representation of the shape in binvox format\n",
    "    ├── 1a6ad7a24bb89733f412783097373bdc/   # Another shape of the category\n",
    "    ├── 1a9b552befd6306cc8f2d5fe7449af61/\n",
    "    ├── :                                   # And so on ...\n",
    "    ├── :\n",
    "02828884/                                   # Another shape category folder\n",
    "02933112/                                   # In total you should have 13 shape category folders\n",
    ":\n",
    ":\n",
    "```"
   ]
  },
  {
   "cell_type": "code",
   "execution_count": 12,
   "metadata": {
    "ExecuteTime": {
     "end_time": "2023-12-05T19:40:30.167239249Z",
     "start_time": "2023-12-05T19:39:48.089534568Z"
    },
    "colab": {
     "base_uri": "https://localhost:8080/"
    },
    "executionInfo": {
     "elapsed": 1670303,
     "status": "ok",
     "timestamp": 1701725969029,
     "user": {
      "displayName": "Berfin Kavşut",
      "userId": "14341270727018230240"
     },
     "user_tz": -60
    },
    "id": "0OaLyFUuqH7T",
    "outputId": "c4c286dc-7708-4eed-fc7d-1a04dc4ef3a8"
   },
   "outputs": [
    {
     "data": {
      "text/plain": [
       "\"print('Downloading ...')\\n!wget http://cvgl.stanford.edu/data2/ShapeNetVox32.tgz -P exercise_2/data\\nprint('Extracting ...')\\n!tar -xzf exercise_2/data/ShapeNetVox32.tgz -C exercise_2/data\\n!rm exercise_2/data/ShapeNetVox32.tgz\\nprint('Done.')\\n\""
      ]
     },
     "execution_count": 12,
     "metadata": {},
     "output_type": "execute_result"
    }
   ],
   "source": [
    "\"\"\"print('Downloading ...')\n",
    "!wget http://cvgl.stanford.edu/data2/ShapeNetVox32.tgz -P exercise_2/data\n",
    "print('Extracting ...')\n",
    "!tar -xzf exercise_2/data/ShapeNetVox32.tgz -C exercise_2/data\n",
    "!rm exercise_2/data/ShapeNetVox32.tgz\n",
    "print('Done.')\n",
    "\"\"\""
   ]
  },
  {
   "cell_type": "markdown",
   "metadata": {
    "id": "4XPCFH85qH7T"
   },
   "source": [
    "### (b) Dataloading and exploring the data\n",
    "\n",
    "We already provide you with a training and validation split in files `train.txt` and `val.txt` in folder `exercise_2/data/splits/shapenet`.\n",
    "All the shapes in the list `train.txt` make up the training samples, while all the samples in `val.txt` constitute the validation set.\n",
    "Additionally, we provide `overfit.txt` as the set of shapes we'll use for overfitting / debugging later.\n",
    "\n",
    "Now let's write a Pytorch Dataset class that can load this data from the disk. Check out `ShapeNetVox` class in file `exercise_2/data/shapenet.py`\n",
    "for a partial implementation of such a dataset.\n",
    "\n",
    "The dataset class is instantiated with the type of the split, e.g. `train`, `val` or `overfit` and loads all\n",
    "shape names for that split as a list in its member variable `self.items`. The class also provides utility method `get_shape_voxels(shapenet_id)`\n",
    "which given a `shapenet_id` of the form `<shape_class>/<shape_identifier>` returns a 32x32x32 numpy array representing the voxels of the shape.\n",
    "The class also provides a list of all shape categories as the static member `ShapeNetVox.classes`.\n",
    "\n",
    "Your task is to fill out the missing implementations of functions `__getitem__` and `__len__` as specified by their docstrings.\n",
    "Once done, test your implementation below."
   ]
  },
  {
   "cell_type": "code",
   "execution_count": 13,
   "metadata": {
    "ExecuteTime": {
     "end_time": "2023-12-05T19:40:30.237200005Z",
     "start_time": "2023-12-05T19:40:30.167487825Z"
    },
    "executionInfo": {
     "elapsed": 3672,
     "status": "ok",
     "timestamp": 1701723978051,
     "user": {
      "displayName": "Berfin Kavşut",
      "userId": "14341270727018230240"
     },
     "user_tz": -60
    },
    "id": "7G7UUWXBqH7T"
   },
   "outputs": [],
   "source": [
    "from exercise_2.data.shapenet import ShapeNetVox\n",
    "# Let's test your implementation"
   ]
  },
  {
   "cell_type": "code",
   "execution_count": 14,
   "metadata": {
    "ExecuteTime": {
     "end_time": "2023-12-05T19:40:30.344989849Z",
     "start_time": "2023-12-05T19:40:30.220324810Z"
    },
    "colab": {
     "base_uri": "https://localhost:8080/"
    },
    "executionInfo": {
     "elapsed": 455,
     "status": "ok",
     "timestamp": 1701723978505,
     "user": {
      "displayName": "Berfin Kavşut",
      "userId": "14341270727018230240"
     },
     "user_tz": -60
    },
    "id": "Hud7SQQqqH7T",
    "outputId": "2769b9b1-f2d7-493c-b8b0-b8f16875d0b8"
   },
   "outputs": [
    {
     "name": "stdout",
     "output_type": "stream",
     "text": [
      "Length of train set: 21705\n"
     ]
    }
   ],
   "source": [
    "# Create a dataset with train split\n",
    "trainset = ShapeNetVox('train')\n",
    "\n",
    "# Get length, which is a call to __len__ function\n",
    "print(f'Length of train set: {len(trainset)}')  # expected output: 21705"
   ]
  },
  {
   "cell_type": "code",
   "execution_count": 15,
   "metadata": {
    "ExecuteTime": {
     "end_time": "2023-12-05T19:40:30.395513160Z",
     "start_time": "2023-12-05T19:40:30.345194673Z"
    },
    "colab": {
     "base_uri": "https://localhost:8080/"
    },
    "executionInfo": {
     "elapsed": 653,
     "status": "ok",
     "timestamp": 1701723979155,
     "user": {
      "displayName": "Berfin Kavşut",
      "userId": "14341270727018230240"
     },
     "user_tz": -60
    },
    "id": "QLmLVTr7qH7T",
    "outputId": "8083cf00-7105-44ec-8ccd-aeca5811f249"
   },
   "outputs": [
    {
     "name": "stdout",
     "output_type": "stream",
     "text": [
      "Length of validation set: 5426\n"
     ]
    }
   ],
   "source": [
    "# Create a dataset with val split and print its length\n",
    "valset = ShapeNetVox('val')\n",
    "print(f'Length of validation set: {len(valset)}')  # expected output: 5426"
   ]
  },
  {
   "cell_type": "code",
   "execution_count": 16,
   "metadata": {
    "ExecuteTime": {
     "end_time": "2023-12-05T19:40:47.876072643Z",
     "start_time": "2023-12-05T19:40:47.787545435Z"
    },
    "colab": {
     "base_uri": "https://localhost:8080/",
     "height": 584,
     "referenced_widgets": [
      "c31e6301159649aaa36ad6b9b9f8cce1",
      "2280e10bd6224e949130b21e4836f1c1",
      "1c7dcdd227884c53bff767cb1d578d13",
      "0ca249bcbd43434aac6d0b04bc88e8d8"
     ]
    },
    "executionInfo": {
     "elapsed": 37089,
     "status": "ok",
     "timestamp": 1701724018246,
     "user": {
      "displayName": "Berfin Kavşut",
      "userId": "14341270727018230240"
     },
     "user_tz": -60
    },
    "id": "XV7BIYD6qH7T",
    "outputId": "323485f6-6a0c-4a29-a0e3-ac054ea6f1eb"
   },
   "outputs": [
    {
     "name": "stdout",
     "output_type": "stream",
     "text": [
      "Name: 04379243/d120d47f8c9bc5028640bc5712201c4a\n",
      "Voxel Dimensions: (1, 32, 32, 32)\n",
      "Label: 10 | 04379243\n"
     ]
    },
    {
     "data": {
      "application/vnd.jupyter.widget-view+json": {
       "model_id": "3be054609f6e49379f4ebfd6d69b3003",
       "version_major": 2,
       "version_minor": 0
      },
      "text/plain": [
       "Output()"
      ]
     },
     "metadata": {},
     "output_type": "display_data"
    }
   ],
   "source": [
    "# Visualize some shapes\n",
    "from exercise_2.util.visualization import visualize_occupancy\n",
    "\n",
    "shape_data = trainset[0]\n",
    "print(f'Name: {shape_data[\"name\"]}')  # expected output: 04379243/d120d47f8c9bc5028640bc5712201c4a\n",
    "print(f'Voxel Dimensions: {shape_data[\"voxel\"].shape}')  # expected output: (1, 32, 32, 32)\n",
    "print(f'Label: {shape_data[\"label\"]} | {ShapeNetVox.classes[shape_data[\"label\"]]}')  # expected output: 10, 04379243\n",
    "\n",
    "visualize_occupancy(shape_data[\"voxel\"].squeeze(), flip_axes=True)"
   ]
  },
  {
   "cell_type": "code",
   "execution_count": 17,
   "metadata": {
    "ExecuteTime": {
     "end_time": "2023-12-05T19:40:53.750123662Z",
     "start_time": "2023-12-05T19:40:53.665888174Z"
    },
    "colab": {
     "base_uri": "https://localhost:8080/",
     "height": 584,
     "referenced_widgets": [
      "0c9a28680ad948fcbcd84447249adedf",
      "5047c7a6340847d881f0da803b4f75dd",
      "979e4e552e2c4c74adc58e8bf4481652",
      "3b51fa19699d4c50997a1126d5c1b1eb"
     ]
    },
    "executionInfo": {
     "elapsed": 9969,
     "status": "ok",
     "timestamp": 1701724028212,
     "user": {
      "displayName": "Berfin Kavşut",
      "userId": "14341270727018230240"
     },
     "user_tz": -60
    },
    "id": "yvU51CcBqH7T",
    "outputId": "22cb7bb8-de46-4794-9414-51b676a3fe5a"
   },
   "outputs": [
    {
     "name": "stdout",
     "output_type": "stream",
     "text": [
      "Name: 03211117/edfc3a8ecc5b07e9feb0fb1dff94c98a\n",
      "Voxel Dimensions: (1, 32, 32, 32)\n",
      "Label: 5 | 03211117\n"
     ]
    },
    {
     "data": {
      "application/vnd.jupyter.widget-view+json": {
       "model_id": "38cb3c026b4740f6aa52341359f04f74",
       "version_major": 2,
       "version_minor": 0
      },
      "text/plain": [
       "Output()"
      ]
     },
     "metadata": {},
     "output_type": "display_data"
    }
   ],
   "source": [
    "shape_data = trainset[7]\n",
    "print(f'Name: {shape_data[\"name\"]}')  # expected output: 03211117/edfc3a8ecc5b07e9feb0fb1dff94c98a\n",
    "print(f'Voxel Dimensions: {shape_data[\"voxel\"].shape}')  # expected output: (1, 32, 32, 32)\n",
    "print(f'Label: {shape_data[\"label\"]} | {ShapeNetVox.classes[shape_data[\"label\"]]}')  # expected output: 5, 03211117\n",
    "\n",
    "visualize_occupancy(shape_data[\"voxel\"].squeeze(), flip_axes=True)"
   ]
  },
  {
   "cell_type": "markdown",
   "metadata": {
    "id": "gkihkMTcqH7T"
   },
   "source": [
    "### (c) Defining the model\n",
    "\n",
    "We'll be using the 3DCNN model introduced by Qi et al.[1] to classify shapes. In particular, we'll be using\n",
    "the \"Auxiliary Training by Subvolume Supervision\" model presented in `Section 4.2` / `Fig. 3` of the paper.\n",
    "\n",
    "<img src=\"exercise_2/images/3dcnn.png\" alt=\"3dcnn_architecture\" style=\"width: 1024px;\"/>\n",
    "\n",
    "Fill in the model implementation of `MLPConv` and `ThreeDeeCNN`(which would use `MLPConv` layers) in the file `exercise_2/model/cnn3d.py`.\n",
    "Since the 3DCNN model predicts 9 labels for each samples (1 global + 8 local), we expect the output tensor to be of the shape `(B, 9, N_cls)` where `B` is the batch size, `N_cls` are number of classes (13 in our case).\n",
    "This means that the global and auxilary parts of the network output a score per class.\n",
    "\n",
    "Here are some basic sanity tests for your implemetation."
   ]
  },
  {
   "cell_type": "code",
   "execution_count": 18,
   "metadata": {
    "ExecuteTime": {
     "end_time": "2023-12-05T19:40:56.595598147Z",
     "start_time": "2023-12-05T19:40:56.409343354Z"
    },
    "colab": {
     "base_uri": "https://localhost:8080/"
    },
    "executionInfo": {
     "elapsed": 442,
     "status": "ok",
     "timestamp": 1701724101469,
     "user": {
      "displayName": "Berfin Kavşut",
      "userId": "14341270727018230240"
     },
     "user_tz": -60
    },
    "id": "BLLRc-beqH7U",
    "outputId": "79a6f86f-8d3e-4dca-b621-c2ee39f94605"
   },
   "outputs": [
    {
     "name": "stdout",
     "output_type": "stream",
     "text": [
      "   | Name                   | Type        | Params  \n",
      "----------------------------------------------------------\n",
      "0  | backbone               | Sequential  | 3764464 \n",
      "1  | backbone.0             | MLPConv     | 15120   \n",
      "2  | backbone.0.model       | Sequential  | 15120   \n",
      "3  | backbone.0.model.conv1 | Conv3d      | 10416   \n",
      "4  | backbone.0.model.relu1 | ReLU        | 0       \n",
      "5  | backbone.0.model.conv2 | Conv3d      | 2352    \n",
      "6  | backbone.0.model.relu2 | ReLU        | 0       \n",
      "7  | backbone.0.model.conv3 | Conv3d      | 2352    \n",
      "8  | backbone.0.model.relu3 | ReLU        | 0       \n",
      "9  | backbone.1             | MLPConv     | 1011680 \n",
      "10 | backbone.1.model       | Sequential  | 1011680 \n",
      "11 | backbone.1.model.conv1 | Conv3d      | 960160  \n",
      "12 | backbone.1.model.relu1 | ReLU        | 0       \n",
      "13 | backbone.1.model.conv2 | Conv3d      | 25760   \n",
      "14 | backbone.1.model.relu2 | ReLU        | 0       \n",
      "15 | backbone.1.model.conv3 | Conv3d      | 25760   \n",
      "16 | backbone.1.model.relu3 | ReLU        | 0       \n",
      "17 | backbone.2             | MLPConv     | 2737664 \n",
      "18 | backbone.2.model       | Sequential  | 2737664 \n",
      "19 | backbone.2.model.conv1 | Conv3d      | 2212352 \n",
      "20 | backbone.2.model.relu1 | ReLU        | 0       \n",
      "21 | backbone.2.model.conv2 | Conv3d      | 262656  \n",
      "22 | backbone.2.model.relu2 | ReLU        | 0       \n",
      "23 | backbone.2.model.conv3 | Conv3d      | 262656  \n",
      "24 | backbone.2.model.relu3 | ReLU        | 0       \n",
      "25 | partial_predictors     | ModuleList  | 53352   \n",
      "26 | partial_predictors.0   | Linear      | 6669    \n",
      "27 | partial_predictors.1   | Linear      | 6669    \n",
      "28 | partial_predictors.2   | Linear      | 6669    \n",
      "29 | partial_predictors.3   | Linear      | 6669    \n",
      "30 | partial_predictors.4   | Linear      | 6669    \n",
      "31 | partial_predictors.5   | Linear      | 6669    \n",
      "32 | partial_predictors.6   | Linear      | 6669    \n",
      "33 | partial_predictors.7   | Linear      | 6669    \n",
      "34 | full_predictor         | Sequential  | 12613645\n",
      "35 | full_predictor.0       | Linear      | 8390656 \n",
      "36 | full_predictor.1       | ReLU        | 0       \n",
      "37 | full_predictor.2       | Linear      | 4196352 \n",
      "38 | full_predictor.3       | ReLU        | 0       \n",
      "39 | full_predictor.4       | Linear      | 26637   \n",
      "40 | TOTAL                  | ThreeDeeCNN | 16431461\n",
      "Output tensor shape:  torch.Size([8, 9, 13])\n",
      "Number of traininable params: 16.43M\n"
     ]
    }
   ],
   "source": [
    "from exercise_2.model.cnn3d import ThreeDeeCNN\n",
    "from exercise_2.util.model import summarize_model\n",
    "\n",
    "cnn3d = ThreeDeeCNN(13)\n",
    "print(summarize_model(cnn3d))  # Expected: Rows 0-40 and TOTAL = 16431461\n",
    "\n",
    "input_tensor = torch.randn(8, 1, 32, 32, 32)\n",
    "predictions = cnn3d(input_tensor)\n",
    "\n",
    "print('Output tensor shape: ', predictions.shape)  # expected output: 8, 9, 13\n",
    "\n",
    "num_trainable_params = sum(p.numel() for p in cnn3d.parameters() if p.requires_grad) / 1e6\n",
    "print(f'Number of traininable params: {num_trainable_params:.2f}M')  # expected output: ~16M"
   ]
  },
  {
   "cell_type": "code",
   "execution_count": 19,
   "metadata": {
    "ExecuteTime": {
     "start_time": "2023-12-05T19:40:30.505104539Z"
    },
    "id": "oOiYUggzKgpW"
   },
   "outputs": [],
   "source": [
    "# 35 | full_predictor.0 | Linear | 8390656  => weight(512*2*2*2*2048) + bias(2048)"
   ]
  },
  {
   "cell_type": "code",
   "execution_count": 20,
   "metadata": {
    "ExecuteTime": {
     "start_time": "2023-12-05T19:40:30.505364406Z"
    },
    "id": "1CkdICdDLPyu"
   },
   "outputs": [],
   "source": [
    "# 37 | full_predictor.2 | Linear | 4196352 => (2048*2048 + 2048)"
   ]
  },
  {
   "cell_type": "markdown",
   "metadata": {
    "id": "Qzo4i6hnqH7V"
   },
   "source": [
    "### (d) Training Script\n",
    "\n",
    "Now that we have the dataset class and the model class, we just need a training script\n",
    "that trains the model using data from train dataset and evaluates the model's validation\n",
    "performance during training. A partial script is provided in `exercise_2/training/train_3dcnn.py`.\n",
    "Fill in the missing blocks to make the training work."
   ]
  },
  {
   "cell_type": "markdown",
   "metadata": {
    "id": "Dm4dnsGIqH7V"
   },
   "source": [
    "### (e) Overfitting to a few samples\n",
    "Before training on entire data, it is usually a good idea to try training on a small subset of data,\n",
    "to see if your model can do forward and backward passes without any errors, your metrics work, and that you model can\n",
    "overfit with a very low error on this small set."
   ]
  },
  {
   "cell_type": "code",
   "execution_count": 21,
   "metadata": {
    "ExecuteTime": {
     "end_time": "2023-12-05T19:44:21.265048804Z",
     "start_time": "2023-12-05T19:41:30.020074546Z"
    },
    "colab": {
     "base_uri": "https://localhost:8080/"
    },
    "executionInfo": {
     "elapsed": 41234,
     "status": "ok",
     "timestamp": 1701726010260,
     "user": {
      "displayName": "Berfin Kavşut",
      "userId": "14341270727018230240"
     },
     "user_tz": -60
    },
    "id": "hek1kPCFqH7V",
    "outputId": "3b974f47-d4ed-4e01-f4b1-2f644f12579d"
   },
   "outputs": [
    {
     "name": "stdout",
     "output_type": "stream",
     "text": [
      "Using CPU\n",
      "[024/00003] train_loss: 18.048\n",
      "[024/00003] val_loss: 0.537, val_accuracy: 82.812%\n",
      "[049/00003] train_loss: 3.527\n",
      "[049/00003] val_loss: 0.011, val_accuracy: 100.000%\n",
      "[074/00003] train_loss: 0.419\n",
      "[074/00003] val_loss: 0.000, val_accuracy: 100.000%\n",
      "[099/00003] train_loss: 0.024\n",
      "[099/00003] val_loss: 0.000, val_accuracy: 100.000%\n"
     ]
    }
   ],
   "source": [
    "from exercise_2.training import train_3dcnn\n",
    "config = {\n",
    "    'experiment_name': '2_3_3dcnn_overfitting',\n",
    "    'device': 'cuda:0',                      # change this to cpu if you do not have a GPU\n",
    "    'is_overfit': True,                      # True since we're doing overfitting\n",
    "    'batch_size': 16,\n",
    "    'resume_ckpt': None,\n",
    "    'learning_rate': 0.0005,\n",
    "    'max_epochs': 100,\n",
    "    'print_every_n': 100,\n",
    "    'validate_every_n': 100,\n",
    "}\n",
    "\n",
    "train_3dcnn.main(config)  # should be able to get ~0 loss, 100% accuracy"
   ]
  },
  {
   "cell_type": "markdown",
   "metadata": {
    "id": "amRW-pTXqH7a"
   },
   "source": [
    "### (f) Training over the entire training set\n",
    "If the overfitting works, we can go ahead with training on the entire dataset."
   ]
  },
  {
   "cell_type": "code",
   "execution_count": 22,
   "metadata": {
    "ExecuteTime": {
     "start_time": "2023-12-05T19:46:24.345662035Z"
    },
    "colab": {
     "base_uri": "https://localhost:8080/"
    },
    "id": "rEMw9cMSqH7b",
    "is_executing": true,
    "outputId": "dd365216-0b1f-4182-9f02-936083889b43"
   },
   "outputs": [
    {
     "name": "stdout",
     "output_type": "stream",
     "text": [
      "Using CPU\n",
      "[000/00099] train_loss: 20.736\n",
      "[000/00199] train_loss: 15.015\n",
      "[000/00249] val_loss: 0.815, val_accuracy: 73.959%\n",
      "[000/00299] train_loss: 9.856\n",
      "[000/00399] train_loss: 7.458\n",
      "[000/00499] train_loss: 6.399\n",
      "[000/00499] val_loss: 0.470, val_accuracy: 83.856%\n",
      "[000/00599] train_loss: 5.097\n",
      "[000/00699] train_loss: 5.201\n",
      "[000/00749] val_loss: 0.412, val_accuracy: 86.602%\n",
      "[000/00799] train_loss: 4.662\n",
      "[000/00899] train_loss: 4.515\n",
      "[000/00999] train_loss: 4.208\n",
      "[000/00999] val_loss: 0.384, val_accuracy: 87.449%\n",
      "[000/01099] train_loss: 4.188\n",
      "[000/01199] train_loss: 4.142\n",
      "[000/01249] val_loss: 0.376, val_accuracy: 87.726%\n",
      "[000/01299] train_loss: 4.042\n",
      "[001/00042] train_loss: 3.516\n",
      "[001/00142] train_loss: 3.690\n",
      "[001/00142] val_loss: 0.319, val_accuracy: 89.366%\n",
      "[001/00242] train_loss: 3.816\n",
      "[001/00342] train_loss: 3.667\n",
      "[001/00392] val_loss: 0.308, val_accuracy: 89.845%\n",
      "[001/00442] train_loss: 3.618\n",
      "[001/00542] train_loss: 3.725\n",
      "[001/00642] train_loss: 3.317\n",
      "[001/00642] val_loss: 0.292, val_accuracy: 90.877%\n",
      "[001/00742] train_loss: 3.436\n",
      "[001/00842] train_loss: 3.665\n",
      "[001/00892] val_loss: 0.298, val_accuracy: 90.675%\n",
      "[001/00942] train_loss: 3.408\n",
      "[001/01042] train_loss: 3.294\n",
      "[001/01142] train_loss: 3.049\n",
      "[001/01142] val_loss: 0.283, val_accuracy: 90.490%\n",
      "[001/01242] train_loss: 2.890\n",
      "[001/01342] train_loss: 3.145\n",
      "[002/00035] val_loss: 0.288, val_accuracy: 90.361%\n",
      "[002/00085] train_loss: 2.946\n",
      "[002/00185] train_loss: 3.021\n",
      "[002/00285] train_loss: 2.973\n",
      "[002/00285] val_loss: 0.273, val_accuracy: 90.951%\n",
      "[002/00385] train_loss: 3.058\n",
      "[002/00485] train_loss: 2.970\n",
      "[002/00535] val_loss: 0.304, val_accuracy: 90.324%\n",
      "[002/00585] train_loss: 3.241\n",
      "[002/00685] train_loss: 3.110\n",
      "[002/00785] train_loss: 3.011\n",
      "[002/00785] val_loss: 0.261, val_accuracy: 91.614%\n",
      "[002/00885] train_loss: 2.778\n",
      "[002/00985] train_loss: 2.673\n",
      "[002/01035] val_loss: 0.254, val_accuracy: 91.817%\n",
      "[002/01085] train_loss: 2.703\n",
      "[002/01185] train_loss: 2.964\n",
      "[002/01285] train_loss: 2.915\n",
      "[002/01285] val_loss: 0.259, val_accuracy: 91.578%\n",
      "[003/00028] train_loss: 2.697\n",
      "[003/00128] train_loss: 2.741\n",
      "[003/00178] val_loss: 0.263, val_accuracy: 91.485%\n",
      "[003/00228] train_loss: 2.705\n",
      "[003/00328] train_loss: 2.953\n",
      "[003/00428] train_loss: 2.727\n",
      "[003/00428] val_loss: 0.243, val_accuracy: 91.909%\n",
      "[003/00528] train_loss: 2.423\n",
      "[003/00628] train_loss: 2.885\n",
      "[003/00678] val_loss: 0.269, val_accuracy: 91.393%\n",
      "[003/00728] train_loss: 2.656\n",
      "[003/00828] train_loss: 2.812\n",
      "[003/00928] train_loss: 2.801\n",
      "[003/00928] val_loss: 0.259, val_accuracy: 91.891%\n",
      "[003/01028] train_loss: 2.481\n",
      "[003/01128] train_loss: 2.712\n",
      "[003/01178] val_loss: 0.254, val_accuracy: 91.983%\n",
      "[003/01228] train_loss: 2.422\n",
      "[003/01328] train_loss: 2.231\n",
      "[004/00071] train_loss: 2.330\n",
      "[004/00071] val_loss: 0.238, val_accuracy: 92.407%\n",
      "[004/00171] train_loss: 2.534\n",
      "[004/00271] train_loss: 2.452\n",
      "[004/00321] val_loss: 0.229, val_accuracy: 92.683%\n",
      "[004/00371] train_loss: 2.245\n",
      "[004/00471] train_loss: 2.557\n",
      "[004/00571] train_loss: 2.652\n",
      "[004/00571] val_loss: 0.237, val_accuracy: 92.518%\n",
      "[004/00671] train_loss: 2.471\n",
      "[004/00771] train_loss: 2.583\n",
      "[004/00821] val_loss: 0.239, val_accuracy: 92.186%\n",
      "[004/00871] train_loss: 2.175\n",
      "[004/00971] train_loss: 2.468\n",
      "[004/01071] train_loss: 2.369\n",
      "[004/01071] val_loss: 0.277, val_accuracy: 90.877%\n",
      "[004/01171] train_loss: 2.471\n",
      "[004/01271] train_loss: 2.255\n",
      "[004/01321] val_loss: 0.237, val_accuracy: 92.425%\n"
     ]
    }
   ],
   "source": [
    "config = {\n",
    "    'experiment_name': '2_3_3dcnn_generalization',\n",
    "    'device': 'cuda:0',                     # change this to cpu if you do not have a GPU\n",
    "    'is_overfit': False,\n",
    "    'batch_size': 16,\n",
    "    'resume_ckpt': None,\n",
    "    'learning_rate': 0.0005,\n",
    "    'max_epochs': 5,\n",
    "    'print_every_n': 100,\n",
    "    'validate_every_n': 250,\n",
    "}\n",
    "\n",
    "train_3dcnn.main(config)                    # should have accuracy > 88% on val set"
   ]
  },
  {
   "cell_type": "markdown",
   "metadata": {
    "id": "Behi3z6XqH7b"
   },
   "source": [
    "### (g) Inference using the trained model\n",
    "\n",
    "We would now like to make shape category inference given shapes from validation set.\n",
    "Implement the function `infer_single` of class `InferenceHandler3DCNN` in file `exercise_2/inference/infer_3dcnn.py` such that it returns the\n",
    "shape category name predicted by the model given its numpy voxel representation (32x32x32). Note that the network predicts a label in range [0, 12],\n",
    "which can be mapped to a class ID (e.g. 03001627) using `ShapeNetVox.classes` which can further be mapped to a category name (e.g. chair for 03001627) using\n",
    "`ShapeNetVox.class_name_mapping`."
   ]
  },
  {
   "cell_type": "code",
   "execution_count": 23,
   "metadata": {
    "ExecuteTime": {
     "start_time": "2023-12-05T19:46:21.669594745Z"
    },
    "colab": {
     "base_uri": "https://localhost:8080/",
     "height": 403
    },
    "executionInfo": {
     "elapsed": 6,
     "status": "error",
     "timestamp": 1701728562521,
     "user": {
      "displayName": "Berfin Kavşut",
      "userId": "14341270727018230240"
     },
     "user_tz": -60
    },
    "id": "zFXd7VoTqH7b",
    "outputId": "07b76774-8e51-4603-9d41-7cd58b062741"
   },
   "outputs": [],
   "source": [
    "from exercise_2.inference.infer_3dcnn import InferenceHandler3DCNN\n",
    "\n",
    "# create a handler for inference using a trained checkpoint\n",
    "inferer = InferenceHandler3DCNN('exercise_2/runs/2_3_3dcnn_generalization/model_best.ckpt')"
   ]
  },
  {
   "cell_type": "code",
   "execution_count": 24,
   "metadata": {
    "ExecuteTime": {
     "end_time": "2023-12-05T19:46:21.718539663Z",
     "start_time": "2023-12-05T19:46:21.681450523Z"
    },
    "id": "coK8NUB3qH7b"
   },
   "outputs": [
    {
     "data": {
      "application/vnd.jupyter.widget-view+json": {
       "model_id": "acea9a8d863b4a42a5b85c481b3a1245",
       "version_major": 2,
       "version_minor": 0
      },
      "text/plain": [
       "Output()"
      ]
     },
     "metadata": {},
     "output_type": "display_data"
    }
   ],
   "source": [
    "# get shape voxels and visualize\n",
    "shape_voxels = ShapeNetVox.get_shape_voxels('03001627/f913501826c588e89753496ba23f2183')\n",
    "visualize_occupancy(shape_voxels, flip_axes=True)"
   ]
  },
  {
   "cell_type": "code",
   "execution_count": 25,
   "metadata": {
    "ExecuteTime": {
     "start_time": "2023-12-05T19:46:21.695849754Z"
    },
    "id": "YrmcUYNXqH7b"
   },
   "outputs": [
    {
     "name": "stdout",
     "output_type": "stream",
     "text": [
      "Predicted category: 03001627\n"
     ]
    }
   ],
   "source": [
    "# predict category\n",
    "print('Predicted category:', inferer.infer_single(shape_voxels))  # expected output: chair"
   ]
  },
  {
   "cell_type": "code",
   "execution_count": 26,
   "metadata": {
    "ExecuteTime": {
     "start_time": "2023-12-05T19:46:21.743121546Z"
    },
    "id": "Adfbl4ibqH7b"
   },
   "outputs": [
    {
     "data": {
      "application/vnd.jupyter.widget-view+json": {
       "model_id": "ba3f70a1fb344130825cd93224f14daf",
       "version_major": 2,
       "version_minor": 0
      },
      "text/plain": [
       "Output()"
      ]
     },
     "metadata": {},
     "output_type": "display_data"
    }
   ],
   "source": [
    "# get shape voxels and visualize\n",
    "shape_voxels = ShapeNetVox.get_shape_voxels('02691156/6af4383123972f2262b600da24e0965')\n",
    "visualize_occupancy(shape_voxels, flip_axes=True)"
   ]
  },
  {
   "cell_type": "code",
   "execution_count": 27,
   "metadata": {
    "ExecuteTime": {
     "end_time": "2023-12-05T19:46:21.757608584Z",
     "start_time": "2023-12-05T19:46:21.743529593Z"
    },
    "id": "r-6TYwRvqH7b"
   },
   "outputs": [
    {
     "name": "stdout",
     "output_type": "stream",
     "text": [
      "Predicted category: 02691156\n"
     ]
    }
   ],
   "source": [
    "# predict category\n",
    "print('Predicted category:', inferer.infer_single(shape_voxels))"
   ]
  },
  {
   "cell_type": "code",
   "execution_count": 28,
   "metadata": {
    "ExecuteTime": {
     "start_time": "2023-12-05T19:46:21.743805228Z"
    },
    "id": "t5dOOjSDqH7b"
   },
   "outputs": [
    {
     "data": {
      "application/vnd.jupyter.widget-view+json": {
       "model_id": "d6aac156fc6d4277823dec569b6b26e2",
       "version_major": 2,
       "version_minor": 0
      },
      "text/plain": [
       "Output()"
      ]
     },
     "metadata": {},
     "output_type": "display_data"
    }
   ],
   "source": [
    "# get shape voxels and visualize\n",
    "shape_voxels = ShapeNetVox.get_shape_voxels('04090263/eae96ddf483e896c805d3d8e378d155e')\n",
    "visualize_occupancy(shape_voxels, flip_axes=True)"
   ]
  },
  {
   "cell_type": "code",
   "execution_count": 29,
   "metadata": {
    "ExecuteTime": {
     "start_time": "2023-12-05T19:46:21.744052188Z"
    },
    "id": "IClryizHqH7b"
   },
   "outputs": [
    {
     "name": "stdout",
     "output_type": "stream",
     "text": [
      "Predicted category: 04090263\n"
     ]
    }
   ],
   "source": [
    "# predict category\n",
    "print('Predicted category:', inferer.infer_single(shape_voxels))"
   ]
  },
  {
   "cell_type": "markdown",
   "metadata": {
    "id": "glYtVFHYqH7b"
   },
   "source": [
    "Make sure you submit the trained model `exercise_2/runs/2_3_3dcnn_generalization/model_best.ckpt` in your zip\n",
    "so that we can evaluate it on the test set at our end."
   ]
  },
  {
   "cell_type": "markdown",
   "metadata": {
    "id": "OorOBvp_qH7c"
   },
   "source": [
    "## 2.4. Shape Classification using PointNet"
   ]
  },
  {
   "cell_type": "markdown",
   "metadata": {
    "id": "0KlbHtRzqH7c"
   },
   "source": [
    "The approach you used above works very well when there is voxelized data available. However, many applications require that points are used instead and voxelizing them every time is cumbersome and might lead to unexpected artifacts.\n",
    "\n",
    "This is where PointNet [2] is very useful: It directly takes in a set of points and can perform both classification and semantic segmentation without the need for any gridification or other form of conversion.\n",
    "\n",
    "You already heard a lot about the approach and architecture in the lecture; here, our goal is to create an implementation of it from scratch and try it out on some ShapeNet data."
   ]
  },
  {
   "cell_type": "markdown",
   "metadata": {
    "id": "R9M62T-9qH7c"
   },
   "source": [
    "### (a) Download and prepare the ShapeNetPointClouds dataset\n",
    "We generated point clouds from ShapeNet meshes via uniform sampling. Each point cloud contains 1024 xyz points.\n",
    "\n",
    "The data layout is basically the same as in 2.3.:\n",
    "Each folder in the `exercise_2/data/ShapeNetPointClouds` directory contains one shape category represented by a number, e.g. `02691156`.\n",
    "We provide the mapping between these numbers and the corresponding names in `exercise_2/data/shape_info.json`. Each of these shape category folders contains a number of shapes in obj format.\n",
    "\n",
    "```\n",
    "# contents of exercise_2/data/ShapeNetPointClouds\n",
    "\n",
    "02691156/                                      # Shape category folder with all its shapes\n",
    "    ├── 1a04e3eab45ca15dd86060f189eb133.obj    # A single shape of the category\n",
    "    ├── 1a6ad7a24bb89733f412783097373bdc.obj   # Another shape of the category\n",
    "    ├── :                                      # And so on ...\n",
    "    ├── :\n",
    "02828884/                                      # Another shape category folder\n",
    "02933112/                                      # In total you should have 13 shape category folders\n",
    ":\n",
    ":\n",
    "```"
   ]
  },
  {
   "cell_type": "code",
   "execution_count": 30,
   "metadata": {
    "ExecuteTime": {
     "start_time": "2023-12-05T19:46:21.744314848Z"
    },
    "id": "BaS1veNIqH7c",
    "scrolled": true
   },
   "outputs": [
    {
     "name": "stdout",
     "output_type": "stream",
     "text": [
      "Downloading ...\n",
      "--2023-12-05 23:19:57--  http://kaldir.vc.in.tum.de/cdiller/ShapeNetPointClouds.zip\n",
      "Resolving kaldir.vc.in.tum.de (kaldir.vc.in.tum.de)... 131.159.98.128\n",
      "Connecting to kaldir.vc.in.tum.de (kaldir.vc.in.tum.de)|131.159.98.128|:80... connected.\n",
      "HTTP request sent, awaiting response... 301 Moved Permanently\n",
      "Location: https://kaldir.vc.in.tum.de:443/cdiller/ShapeNetPointClouds.zip [following]\n",
      "--2023-12-05 23:19:57--  https://kaldir.vc.in.tum.de/cdiller/ShapeNetPointClouds.zip\n",
      "Connecting to kaldir.vc.in.tum.de (kaldir.vc.in.tum.de)|131.159.98.128|:443... connected.\n",
      "HTTP request sent, awaiting response... 200 OK\n",
      "Length: 453765424 (433M) [application/zip]\n",
      "Saving to: ‘exercise_2/data/ShapeNetPointClouds.zip’\n",
      "\n",
      "ShapeNetPointClouds 100%[===================>] 432,74M  8,47MB/s    in 53s     \n",
      "\n",
      "2023-12-05 23:20:50 (8,17 MB/s) - ‘exercise_2/data/ShapeNetPointClouds.zip’ saved [453765424/453765424]\n",
      "\n",
      "Extracting ...\n",
      "Done.\n"
     ]
    }
   ],
   "source": [
    "\"\"\"print('Downloading ...')\n",
    "!wget http://kaldir.vc.in.tum.de/cdiller/ShapeNetPointClouds.zip -P exercise_2/data\n",
    "print('Extracting ...')\n",
    "!unzip -q exercise_2/data/ShapeNetPointClouds.zip -d exercise_2/data\n",
    "!rm exercise_2/data/ShapeNetPointClouds.zip\n",
    "print('Done.')\n",
    "\"\"\""
   ]
  },
  {
   "cell_type": "markdown",
   "metadata": {
    "id": "O0UdwmoDqH7c"
   },
   "source": [
    "### (b) Dataset implementation\n",
    "\n",
    "You can use the same split setup as in 2.3: `overfit.txt` for overfitting, `train.txt` for the train samples, and `val.txt` for the val samples in folder `exercise_2/data/splits/shapenet`.\n",
    "\n",
    "The dataset implementation will therefore be very similar to the one from 2.3: Fill out the missing implementations of functions `__getitem__` and `__len__` in class `ShapeNetPoints` in `exercise_2/data/shapenet.py`.\n",
    "\n",
    "The major difference is how the actual data is loaded: We don't have regular voxel grids anymore and instead load arrays of 1024 points each. In `__getitem__`, we now return 'points' instead of 'voxel' and for loading the point clouds, we use `get_point_cloud` instead of `get_shape_voxels`. You can load the point cloud data either by hand (since it is in the same obj format you used in exercise 1) or simply use `trimesh.load`. The point clouds you return from `__getitem__` should have shape 3 x 1024 and datatype `np.float32`.\n",
    "\n",
    "Otherwise, the implementation is very much the same as in 2.3. Once done, test your implementation below."
   ]
  },
  {
   "cell_type": "code",
   "execution_count": 15,
   "metadata": {
    "ExecuteTime": {
     "start_time": "2023-12-05T19:46:21.744605071Z"
    },
    "id": "vYsM3K6aqH7c"
   },
   "outputs": [
    {
     "name": "stdout",
     "output_type": "stream",
     "text": [
      "Length of train set: 21705\n",
      "Length of val set: 5426\n",
      "Length of overfit set: 64\n"
     ]
    }
   ],
   "source": [
    "from exercise_2.data.shapenet import ShapeNetPoints\n",
    "\n",
    "# Create a dataset with train split\n",
    "train_dataset = ShapeNetPoints('train')\n",
    "val_dataset = ShapeNetPoints('val')\n",
    "overfit_dataset = ShapeNetPoints('overfit')\n",
    "\n",
    "# Get length, which is a call to __len__ function\n",
    "print(f'Length of train set: {len(train_dataset)}')  # expected output: 21705\n",
    "# Get length, which is a call to __len__ function\n",
    "print(f'Length of val set: {len(val_dataset)}')  # expected output: 5426\n",
    "# Get length, which is a call to __len__ function\n",
    "print(f'Length of overfit set: {len(overfit_dataset)}')  # expected output: 64"
   ]
  },
  {
   "cell_type": "code",
   "execution_count": 17,
   "metadata": {
    "ExecuteTime": {
     "start_time": "2023-12-05T19:46:21.744778511Z"
    },
    "id": "7Q2xSE21qH7c"
   },
   "outputs": [
    {
     "name": "stdout",
     "output_type": "stream",
     "text": [
      "Name: 03001627/2031dca3aaeff940f7628281ecb18112\n",
      "Voxel Dimensions: (3, 1024)\n",
      "Label: 4 | 03001627 | chair\n"
     ]
    },
    {
     "data": {
      "application/vnd.jupyter.widget-view+json": {
       "model_id": "48d76e2a1e96419bb342000d740ac86a",
       "version_major": 2,
       "version_minor": 0
      },
      "text/plain": [
       "Output()"
      ]
     },
     "metadata": {},
     "output_type": "display_data"
    }
   ],
   "source": [
    "# Visualize some shapes\n",
    "from exercise_2.util.visualization import visualize_pointcloud\n",
    "\n",
    "shape_data = train_dataset[np.random.randint(len(train_dataset))]\n",
    "print(f'Name: {shape_data[\"name\"]}')  # expected output: 04379243/d120d47f8c9bc5028640bc5712201c4a\n",
    "print(f'Voxel Dimensions: {shape_data[\"points\"].shape}')  # expected output: (3, 1024)\n",
    "print(f'Label: {shape_data[\"label\"]} | {ShapeNetPoints.classes[shape_data[\"label\"]]} | {ShapeNetPoints.class_name_mapping[ShapeNetPoints.classes[shape_data[\"label\"]]]}')  # expected output: 10, 04379243\n",
    "\n",
    "visualize_pointcloud(shape_data[\"points\"].T, point_size=0.025, flip_axes=True)"
   ]
  },
  {
   "cell_type": "markdown",
   "metadata": {
    "id": "GgxeUmYLqH7c"
   },
   "source": [
    "### (c) Defining the model\n",
    "\n",
    "The model architecture of PointNet was discussed in the lecture and is visualized below:\n",
    "<img src=\"exercise_2/images/pointnet.png\" alt=\"pointnet_architecture\" style=\"width: 800px;\"/>\n",
    "\n",
    "Some hints for the actual implementation:\n",
    "1. We use conv1d layers with kernel size 1 for all \"shared\" mlps to expand the feature channel dimension, e.g. when the input is of shape batch_size x 3 x 1024 and we apply conv1d(in_features=3, out_features=64), then we get to shape batch_size x 64 x 1024\n",
    "2. The mlps in the classification network after the max pooling operation are implemented using Linear layers\n",
    "3. The numbers in parenthesis after mlp() in the visualization above descibe the number of layers with their out_features dimension. Note though that the first mlp from nx3 to nx64 is expressed as two layers in the original tensorflow code but can be implemented as a single conv1d layer going from 3 to 64 features in the pytorch version.\n",
    "4. We define all layers up to and including the max pooling operation as the `PointNetEncoder`. The architecture of the model head depends on the task we are trying to solve: Either classification (`PointNetClassification`, used in this part of the exercise) or segmentation (`PointNetSegmentation`, used in 2.5).\n",
    "5. ReLU and Batch Norms are applied after each layer, except after the last classification layer. In the last layer before the max operation, we only apply Batch Norm but no ReLU.\n",
    "6. Dropout is applied for classification only after the second Linear layer, before the Batch Norm.\n",
    "7. The TNets are basically small PointNets.\n",
    "\n",
    "Implement the missing parts of the PointNet architecture in `TNet`, `PointNetEncoder`, and `PointNetClassification`, as indicated by the TODOs. All of them are located in `exercise_2/models/pointnet.py`. Use the following code cell to sanity check your implementation:"
   ]
  },
  {
   "cell_type": "code",
   "execution_count": 7,
   "metadata": {
    "ExecuteTime": {
     "start_time": "2023-12-05T19:46:21.745012957Z"
    },
    "id": "vYScmoeMqH7c"
   },
   "outputs": [
    {
     "name": "stdout",
     "output_type": "stream",
     "text": [
      "   | Name                                | Type                   | Params \n",
      "---------------------------------------------------------------------------------\n",
      "0  | encoder                             | PointNetEncoder        | 2803529\n",
      "1  | encoder.conv1                       | Conv1d                 | 256    \n",
      "2  | encoder.conv2                       | Conv1d                 | 8320   \n",
      "3  | encoder.conv3                       | Conv1d                 | 132096 \n",
      "4  | encoder.bn1                         | BatchNorm1d            | 128    \n",
      "5  | encoder.bn2                         | BatchNorm1d            | 256    \n",
      "6  | encoder.bn3                         | BatchNorm1d            | 2048   \n",
      "7  | encoder.relu                        | ReLU                   | 0      \n",
      "8  | encoder.input_transform_net         | TNet                   | 803081 \n",
      "9  | encoder.input_transform_net.conv1   | Conv1d                 | 256    \n",
      "10 | encoder.input_transform_net.conv2   | Conv1d                 | 8320   \n",
      "11 | encoder.input_transform_net.conv3   | Conv1d                 | 132096 \n",
      "12 | encoder.input_transform_net.fc1     | Linear                 | 524800 \n",
      "13 | encoder.input_transform_net.fc2     | Linear                 | 131328 \n",
      "14 | encoder.input_transform_net.fc3     | Linear                 | 2313   \n",
      "15 | encoder.input_transform_net.relu    | ReLU                   | 0      \n",
      "16 | encoder.input_transform_net.bn1     | BatchNorm1d            | 128    \n",
      "17 | encoder.input_transform_net.bn2     | BatchNorm1d            | 256    \n",
      "18 | encoder.input_transform_net.bn3     | BatchNorm1d            | 2048   \n",
      "19 | encoder.input_transform_net.bn4     | BatchNorm1d            | 1024   \n",
      "20 | encoder.input_transform_net.bn5     | BatchNorm1d            | 512    \n",
      "21 | encoder.feature_transform_net       | TNet                   | 1857344\n",
      "22 | encoder.feature_transform_net.conv1 | Conv1d                 | 4160   \n",
      "23 | encoder.feature_transform_net.conv2 | Conv1d                 | 8320   \n",
      "24 | encoder.feature_transform_net.conv3 | Conv1d                 | 132096 \n",
      "25 | encoder.feature_transform_net.fc1   | Linear                 | 524800 \n",
      "26 | encoder.feature_transform_net.fc2   | Linear                 | 131328 \n",
      "27 | encoder.feature_transform_net.fc3   | Linear                 | 1052672\n",
      "28 | encoder.feature_transform_net.relu  | ReLU                   | 0      \n",
      "29 | encoder.feature_transform_net.bn1   | BatchNorm1d            | 128    \n",
      "30 | encoder.feature_transform_net.bn2   | BatchNorm1d            | 256    \n",
      "31 | encoder.feature_transform_net.bn3   | BatchNorm1d            | 2048   \n",
      "32 | encoder.feature_transform_net.bn4   | BatchNorm1d            | 1024   \n",
      "33 | encoder.feature_transform_net.bn5   | BatchNorm1d            | 512    \n",
      "34 | fc1                                 | Linear                 | 524800 \n",
      "35 | fc2                                 | Linear                 | 131328 \n",
      "36 | fc3                                 | Linear                 | 3341   \n",
      "37 | dropout                             | Dropout                | 0      \n",
      "38 | bn1                                 | BatchNorm1d            | 1024   \n",
      "39 | bn2                                 | BatchNorm1d            | 512    \n",
      "40 | relu                                | ReLU                   | 0      \n",
      "41 | TOTAL                               | PointNetClassification | 3464534\n",
      "Output tensor shape:  torch.Size([8, 13])\n",
      "Number of traininable params: 3.46M\n"
     ]
    }
   ],
   "source": [
    "from exercise_2.model.pointnet import PointNetClassification\n",
    "from exercise_2.util.model import summarize_model\n",
    "\n",
    "pointnet = PointNetClassification(13)\n",
    "print(summarize_model(pointnet))  # Expected: Rows 0-40 and TOTAL = 3464534\n",
    "\n",
    "input_tensor = torch.randn(8, 3, 1024)\n",
    "predictions = pointnet(input_tensor)\n",
    "\n",
    "print('Output tensor shape: ', predictions.shape)  # Expected: 8, 13\n",
    "num_trainable_params = sum(p.numel() for p in pointnet.parameters() if p.requires_grad) / 1e6\n",
    "print(f'Number of traininable params: {num_trainable_params:.2f}M')  # Expected: ~3M"
   ]
  },
  {
   "cell_type": "markdown",
   "metadata": {
    "id": "RG8NgGuYqH7d"
   },
   "source": [
    "### (d) Training Script and Overfitting\n",
    "\n",
    "You can now go to the train script in `train_pointnet_classification.py` and fill in the missing pieces as in 2.3. Then, verify that your training works by overfitting to a few samples below."
   ]
  },
  {
   "cell_type": "code",
   "execution_count": 20,
   "metadata": {
    "ExecuteTime": {
     "start_time": "2023-12-05T19:46:21.745290787Z"
    },
    "id": "MrofNMjAqH7d"
   },
   "outputs": [
    {
     "name": "stdout",
     "output_type": "stream",
     "text": [
      "Using CPU\n",
      "[049/00001] train_loss: 0.625\n",
      "[049/00001] val_loss: 0.319, val_accuracy: 89.062%\n",
      "[099/00001] train_loss: 0.098\n",
      "[099/00001] val_loss: 0.040, val_accuracy: 100.000%\n"
     ]
    },
    {
     "name": "stderr",
     "output_type": "stream",
     "text": [
      "Exception ignored in: <function _releaseLock at 0x7fac33e72dd0>\n",
      "Traceback (most recent call last):\n",
      "  File \"/usr/lib/python3.7/logging/__init__.py\", line 221, in _releaseLock\n",
      "    def _releaseLock():\n",
      "KeyboardInterrupt\n"
     ]
    },
    {
     "ename": "RuntimeError",
     "evalue": "DataLoader worker (pid(s) 94056) exited unexpectedly",
     "output_type": "error",
     "traceback": [
      "\u001b[0;31m---------------------------------------------------------------------------\u001b[0m",
      "\u001b[0;31mEmpty\u001b[0m                                     Traceback (most recent call last)",
      "\u001b[0;32m~/venvs/python3.7/ml43d/lib/python3.7/site-packages/torch/utils/data/dataloader.py\u001b[0m in \u001b[0;36m_try_get_data\u001b[0;34m(self, timeout)\u001b[0m\n\u001b[1;32m   1119\u001b[0m         \u001b[0;32mtry\u001b[0m\u001b[0;34m:\u001b[0m\u001b[0;34m\u001b[0m\u001b[0;34m\u001b[0m\u001b[0m\n\u001b[0;32m-> 1120\u001b[0;31m             \u001b[0mdata\u001b[0m \u001b[0;34m=\u001b[0m \u001b[0mself\u001b[0m\u001b[0;34m.\u001b[0m\u001b[0m_data_queue\u001b[0m\u001b[0;34m.\u001b[0m\u001b[0mget\u001b[0m\u001b[0;34m(\u001b[0m\u001b[0mtimeout\u001b[0m\u001b[0;34m=\u001b[0m\u001b[0mtimeout\u001b[0m\u001b[0;34m)\u001b[0m\u001b[0;34m\u001b[0m\u001b[0;34m\u001b[0m\u001b[0m\n\u001b[0m\u001b[1;32m   1121\u001b[0m             \u001b[0;32mreturn\u001b[0m \u001b[0;34m(\u001b[0m\u001b[0;32mTrue\u001b[0m\u001b[0;34m,\u001b[0m \u001b[0mdata\u001b[0m\u001b[0;34m)\u001b[0m\u001b[0;34m\u001b[0m\u001b[0;34m\u001b[0m\u001b[0m\n",
      "\u001b[0;32m/usr/lib/python3.7/multiprocessing/queues.py\u001b[0m in \u001b[0;36mget\u001b[0;34m(self, block, timeout)\u001b[0m\n\u001b[1;32m    104\u001b[0m                     \u001b[0;32mif\u001b[0m \u001b[0;32mnot\u001b[0m \u001b[0mself\u001b[0m\u001b[0;34m.\u001b[0m\u001b[0m_poll\u001b[0m\u001b[0;34m(\u001b[0m\u001b[0mtimeout\u001b[0m\u001b[0;34m)\u001b[0m\u001b[0;34m:\u001b[0m\u001b[0;34m\u001b[0m\u001b[0;34m\u001b[0m\u001b[0m\n\u001b[0;32m--> 105\u001b[0;31m                         \u001b[0;32mraise\u001b[0m \u001b[0mEmpty\u001b[0m\u001b[0;34m\u001b[0m\u001b[0;34m\u001b[0m\u001b[0m\n\u001b[0m\u001b[1;32m    106\u001b[0m                 \u001b[0;32melif\u001b[0m \u001b[0;32mnot\u001b[0m \u001b[0mself\u001b[0m\u001b[0;34m.\u001b[0m\u001b[0m_poll\u001b[0m\u001b[0;34m(\u001b[0m\u001b[0;34m)\u001b[0m\u001b[0;34m:\u001b[0m\u001b[0;34m\u001b[0m\u001b[0;34m\u001b[0m\u001b[0m\n",
      "\u001b[0;31mEmpty\u001b[0m: ",
      "\nThe above exception was the direct cause of the following exception:\n",
      "\u001b[0;31mRuntimeError\u001b[0m                              Traceback (most recent call last)",
      "\u001b[0;32m/tmp/ipykernel_79529/1143959190.py\u001b[0m in \u001b[0;36m<module>\u001b[0;34m\u001b[0m\n\u001b[1;32m     12\u001b[0m }\n\u001b[1;32m     13\u001b[0m \u001b[0;34m\u001b[0m\u001b[0m\n\u001b[0;32m---> 14\u001b[0;31m \u001b[0mtrain_pointnet_classification\u001b[0m\u001b[0;34m.\u001b[0m\u001b[0mmain\u001b[0m\u001b[0;34m(\u001b[0m\u001b[0mconfig\u001b[0m\u001b[0;34m)\u001b[0m  \u001b[0;31m# should be able to get ~0 loss, 100% accuracy\u001b[0m\u001b[0;34m\u001b[0m\u001b[0;34m\u001b[0m\u001b[0m\n\u001b[0m",
      "\u001b[0;32m~/Desktop/ML for 3D Geometry/exercises/ml43d-exercises/exercise2/exercise_2/training/train_pointnet_classification.py\u001b[0m in \u001b[0;36mmain\u001b[0;34m(config)\u001b[0m\n\u001b[1;32m    157\u001b[0m \u001b[0;34m\u001b[0m\u001b[0m\n\u001b[1;32m    158\u001b[0m     \u001b[0;31m# Start training\u001b[0m\u001b[0;34m\u001b[0m\u001b[0;34m\u001b[0m\u001b[0;34m\u001b[0m\u001b[0m\n\u001b[0;32m--> 159\u001b[0;31m     \u001b[0mtrain\u001b[0m\u001b[0;34m(\u001b[0m\u001b[0mmodel\u001b[0m\u001b[0;34m,\u001b[0m \u001b[0mtrain_dataloader\u001b[0m\u001b[0;34m,\u001b[0m \u001b[0mval_dataloader\u001b[0m\u001b[0;34m,\u001b[0m \u001b[0mdevice\u001b[0m\u001b[0;34m,\u001b[0m \u001b[0mconfig\u001b[0m\u001b[0;34m)\u001b[0m\u001b[0;34m\u001b[0m\u001b[0;34m\u001b[0m\u001b[0m\n\u001b[0m",
      "\u001b[0;32m~/Desktop/ML for 3D Geometry/exercises/ml43d-exercises/exercise2/exercise_2/training/train_pointnet_classification.py\u001b[0m in \u001b[0;36mtrain\u001b[0;34m(model, trainloader, valloader, device, config)\u001b[0m\n\u001b[1;32m     31\u001b[0m \u001b[0;34m\u001b[0m\u001b[0m\n\u001b[1;32m     32\u001b[0m     \u001b[0;32mfor\u001b[0m \u001b[0mepoch\u001b[0m \u001b[0;32min\u001b[0m \u001b[0mrange\u001b[0m\u001b[0;34m(\u001b[0m\u001b[0mconfig\u001b[0m\u001b[0;34m[\u001b[0m\u001b[0;34m'max_epochs'\u001b[0m\u001b[0;34m]\u001b[0m\u001b[0;34m)\u001b[0m\u001b[0;34m:\u001b[0m\u001b[0;34m\u001b[0m\u001b[0;34m\u001b[0m\u001b[0m\n\u001b[0;32m---> 33\u001b[0;31m         \u001b[0;32mfor\u001b[0m \u001b[0mi\u001b[0m\u001b[0;34m,\u001b[0m \u001b[0mbatch\u001b[0m \u001b[0;32min\u001b[0m \u001b[0menumerate\u001b[0m\u001b[0;34m(\u001b[0m\u001b[0mtrainloader\u001b[0m\u001b[0;34m)\u001b[0m\u001b[0;34m:\u001b[0m\u001b[0;34m\u001b[0m\u001b[0;34m\u001b[0m\u001b[0m\n\u001b[0m\u001b[1;32m     34\u001b[0m             \u001b[0;31m# move batch to device\u001b[0m\u001b[0;34m\u001b[0m\u001b[0;34m\u001b[0m\u001b[0;34m\u001b[0m\u001b[0m\n\u001b[1;32m     35\u001b[0m             \u001b[0mShapeNetPoints\u001b[0m\u001b[0;34m.\u001b[0m\u001b[0mmove_batch_to_device\u001b[0m\u001b[0;34m(\u001b[0m\u001b[0mbatch\u001b[0m\u001b[0;34m,\u001b[0m \u001b[0mdevice\u001b[0m\u001b[0;34m)\u001b[0m\u001b[0;34m\u001b[0m\u001b[0;34m\u001b[0m\u001b[0m\n",
      "\u001b[0;32m~/venvs/python3.7/ml43d/lib/python3.7/site-packages/torch/utils/data/dataloader.py\u001b[0m in \u001b[0;36m__next__\u001b[0;34m(self)\u001b[0m\n\u001b[1;32m    626\u001b[0m                 \u001b[0;31m# TODO(https://github.com/pytorch/pytorch/issues/76750)\u001b[0m\u001b[0;34m\u001b[0m\u001b[0;34m\u001b[0m\u001b[0;34m\u001b[0m\u001b[0m\n\u001b[1;32m    627\u001b[0m                 \u001b[0mself\u001b[0m\u001b[0;34m.\u001b[0m\u001b[0m_reset\u001b[0m\u001b[0;34m(\u001b[0m\u001b[0;34m)\u001b[0m  \u001b[0;31m# type: ignore[call-arg]\u001b[0m\u001b[0;34m\u001b[0m\u001b[0;34m\u001b[0m\u001b[0m\n\u001b[0;32m--> 628\u001b[0;31m             \u001b[0mdata\u001b[0m \u001b[0;34m=\u001b[0m \u001b[0mself\u001b[0m\u001b[0;34m.\u001b[0m\u001b[0m_next_data\u001b[0m\u001b[0;34m(\u001b[0m\u001b[0;34m)\u001b[0m\u001b[0;34m\u001b[0m\u001b[0;34m\u001b[0m\u001b[0m\n\u001b[0m\u001b[1;32m    629\u001b[0m             \u001b[0mself\u001b[0m\u001b[0;34m.\u001b[0m\u001b[0m_num_yielded\u001b[0m \u001b[0;34m+=\u001b[0m \u001b[0;36m1\u001b[0m\u001b[0;34m\u001b[0m\u001b[0;34m\u001b[0m\u001b[0m\n\u001b[1;32m    630\u001b[0m             \u001b[0;32mif\u001b[0m \u001b[0mself\u001b[0m\u001b[0;34m.\u001b[0m\u001b[0m_dataset_kind\u001b[0m \u001b[0;34m==\u001b[0m \u001b[0m_DatasetKind\u001b[0m\u001b[0;34m.\u001b[0m\u001b[0mIterable\u001b[0m \u001b[0;32mand\u001b[0m\u001b[0;31m \u001b[0m\u001b[0;31m\\\u001b[0m\u001b[0;34m\u001b[0m\u001b[0;34m\u001b[0m\u001b[0m\n",
      "\u001b[0;32m~/venvs/python3.7/ml43d/lib/python3.7/site-packages/torch/utils/data/dataloader.py\u001b[0m in \u001b[0;36m_next_data\u001b[0;34m(self)\u001b[0m\n\u001b[1;32m   1314\u001b[0m \u001b[0;34m\u001b[0m\u001b[0m\n\u001b[1;32m   1315\u001b[0m             \u001b[0;32massert\u001b[0m \u001b[0;32mnot\u001b[0m \u001b[0mself\u001b[0m\u001b[0;34m.\u001b[0m\u001b[0m_shutdown\u001b[0m \u001b[0;32mand\u001b[0m \u001b[0mself\u001b[0m\u001b[0;34m.\u001b[0m\u001b[0m_tasks_outstanding\u001b[0m \u001b[0;34m>\u001b[0m \u001b[0;36m0\u001b[0m\u001b[0;34m\u001b[0m\u001b[0;34m\u001b[0m\u001b[0m\n\u001b[0;32m-> 1316\u001b[0;31m             \u001b[0midx\u001b[0m\u001b[0;34m,\u001b[0m \u001b[0mdata\u001b[0m \u001b[0;34m=\u001b[0m \u001b[0mself\u001b[0m\u001b[0;34m.\u001b[0m\u001b[0m_get_data\u001b[0m\u001b[0;34m(\u001b[0m\u001b[0;34m)\u001b[0m\u001b[0;34m\u001b[0m\u001b[0;34m\u001b[0m\u001b[0m\n\u001b[0m\u001b[1;32m   1317\u001b[0m             \u001b[0mself\u001b[0m\u001b[0;34m.\u001b[0m\u001b[0m_tasks_outstanding\u001b[0m \u001b[0;34m-=\u001b[0m \u001b[0;36m1\u001b[0m\u001b[0;34m\u001b[0m\u001b[0;34m\u001b[0m\u001b[0m\n\u001b[1;32m   1318\u001b[0m             \u001b[0;32mif\u001b[0m \u001b[0mself\u001b[0m\u001b[0;34m.\u001b[0m\u001b[0m_dataset_kind\u001b[0m \u001b[0;34m==\u001b[0m \u001b[0m_DatasetKind\u001b[0m\u001b[0;34m.\u001b[0m\u001b[0mIterable\u001b[0m\u001b[0;34m:\u001b[0m\u001b[0;34m\u001b[0m\u001b[0;34m\u001b[0m\u001b[0m\n",
      "\u001b[0;32m~/venvs/python3.7/ml43d/lib/python3.7/site-packages/torch/utils/data/dataloader.py\u001b[0m in \u001b[0;36m_get_data\u001b[0;34m(self)\u001b[0m\n\u001b[1;32m   1280\u001b[0m         \u001b[0;32melse\u001b[0m\u001b[0;34m:\u001b[0m\u001b[0;34m\u001b[0m\u001b[0;34m\u001b[0m\u001b[0m\n\u001b[1;32m   1281\u001b[0m             \u001b[0;32mwhile\u001b[0m \u001b[0;32mTrue\u001b[0m\u001b[0;34m:\u001b[0m\u001b[0;34m\u001b[0m\u001b[0;34m\u001b[0m\u001b[0m\n\u001b[0;32m-> 1282\u001b[0;31m                 \u001b[0msuccess\u001b[0m\u001b[0;34m,\u001b[0m \u001b[0mdata\u001b[0m \u001b[0;34m=\u001b[0m \u001b[0mself\u001b[0m\u001b[0;34m.\u001b[0m\u001b[0m_try_get_data\u001b[0m\u001b[0;34m(\u001b[0m\u001b[0;34m)\u001b[0m\u001b[0;34m\u001b[0m\u001b[0;34m\u001b[0m\u001b[0m\n\u001b[0m\u001b[1;32m   1283\u001b[0m                 \u001b[0;32mif\u001b[0m \u001b[0msuccess\u001b[0m\u001b[0;34m:\u001b[0m\u001b[0;34m\u001b[0m\u001b[0;34m\u001b[0m\u001b[0m\n\u001b[1;32m   1284\u001b[0m                     \u001b[0;32mreturn\u001b[0m \u001b[0mdata\u001b[0m\u001b[0;34m\u001b[0m\u001b[0;34m\u001b[0m\u001b[0m\n",
      "\u001b[0;32m~/venvs/python3.7/ml43d/lib/python3.7/site-packages/torch/utils/data/dataloader.py\u001b[0m in \u001b[0;36m_try_get_data\u001b[0;34m(self, timeout)\u001b[0m\n\u001b[1;32m   1131\u001b[0m             \u001b[0;32mif\u001b[0m \u001b[0mlen\u001b[0m\u001b[0;34m(\u001b[0m\u001b[0mfailed_workers\u001b[0m\u001b[0;34m)\u001b[0m \u001b[0;34m>\u001b[0m \u001b[0;36m0\u001b[0m\u001b[0;34m:\u001b[0m\u001b[0;34m\u001b[0m\u001b[0;34m\u001b[0m\u001b[0m\n\u001b[1;32m   1132\u001b[0m                 \u001b[0mpids_str\u001b[0m \u001b[0;34m=\u001b[0m \u001b[0;34m', '\u001b[0m\u001b[0;34m.\u001b[0m\u001b[0mjoin\u001b[0m\u001b[0;34m(\u001b[0m\u001b[0mstr\u001b[0m\u001b[0;34m(\u001b[0m\u001b[0mw\u001b[0m\u001b[0;34m.\u001b[0m\u001b[0mpid\u001b[0m\u001b[0;34m)\u001b[0m \u001b[0;32mfor\u001b[0m \u001b[0mw\u001b[0m \u001b[0;32min\u001b[0m \u001b[0mfailed_workers\u001b[0m\u001b[0;34m)\u001b[0m\u001b[0;34m\u001b[0m\u001b[0;34m\u001b[0m\u001b[0m\n\u001b[0;32m-> 1133\u001b[0;31m                 \u001b[0;32mraise\u001b[0m \u001b[0mRuntimeError\u001b[0m\u001b[0;34m(\u001b[0m\u001b[0;34m'DataLoader worker (pid(s) {}) exited unexpectedly'\u001b[0m\u001b[0;34m.\u001b[0m\u001b[0mformat\u001b[0m\u001b[0;34m(\u001b[0m\u001b[0mpids_str\u001b[0m\u001b[0;34m)\u001b[0m\u001b[0;34m)\u001b[0m \u001b[0;32mfrom\u001b[0m \u001b[0me\u001b[0m\u001b[0;34m\u001b[0m\u001b[0;34m\u001b[0m\u001b[0m\n\u001b[0m\u001b[1;32m   1134\u001b[0m             \u001b[0;32mif\u001b[0m \u001b[0misinstance\u001b[0m\u001b[0;34m(\u001b[0m\u001b[0me\u001b[0m\u001b[0;34m,\u001b[0m \u001b[0mqueue\u001b[0m\u001b[0;34m.\u001b[0m\u001b[0mEmpty\u001b[0m\u001b[0;34m)\u001b[0m\u001b[0;34m:\u001b[0m\u001b[0;34m\u001b[0m\u001b[0;34m\u001b[0m\u001b[0m\n\u001b[1;32m   1135\u001b[0m                 \u001b[0;32mreturn\u001b[0m \u001b[0;34m(\u001b[0m\u001b[0;32mFalse\u001b[0m\u001b[0;34m,\u001b[0m \u001b[0;32mNone\u001b[0m\u001b[0;34m)\u001b[0m\u001b[0;34m\u001b[0m\u001b[0;34m\u001b[0m\u001b[0m\n",
      "\u001b[0;31mRuntimeError\u001b[0m: DataLoader worker (pid(s) 94056) exited unexpectedly"
     ]
    }
   ],
   "source": [
    "from exercise_2.training import train_pointnet_classification\n",
    "config = {\n",
    "    'experiment_name': '2_4_pointnet_classification_overfitting',\n",
    "    'device': 'cuda:0',                   # change this to cpu if you do not have a GPU\n",
    "    'is_overfit': True,                   # True since we're doing overfitting\n",
    "    'batch_size': 32,\n",
    "    'resume_ckpt': None,\n",
    "    'learning_rate': 0.001,\n",
    "    'max_epochs': 300,\n",
    "    'print_every_n': 100,\n",
    "    'validate_every_n': 100,\n",
    "}\n",
    "\n",
    "train_pointnet_classification.main(config)  # should be able to get ~0 loss, 100% accuracy"
   ]
  },
  {
   "cell_type": "markdown",
   "metadata": {
    "id": "NuyfJduNqH7d"
   },
   "source": [
    "### (e) Training over the entire training set\n",
    "\n",
    "Once your overfitting completes successfully, you can move on to training on the entire dataset again."
   ]
  },
  {
   "cell_type": "code",
   "execution_count": null,
   "metadata": {
    "ExecuteTime": {
     "start_time": "2023-12-05T19:46:21.745500526Z"
    },
    "id": "3WtDD0eGqH7d",
    "scrolled": true
   },
   "outputs": [],
   "source": [
    "from exercise_2.training import train_pointnet_classification\n",
    "config = {\n",
    "    'experiment_name': '2_4_pointnet_classification_generalization',\n",
    "    'device': 'cuda:0',                    # change this to cpu if you do not have a GPU\n",
    "    'is_overfit': False,\n",
    "    'batch_size': 32,\n",
    "    'resume_ckpt': None,\n",
    "    'learning_rate': 0.001,\n",
    "    'max_epochs': 10,\n",
    "    'print_every_n': 100,\n",
    "    'validate_every_n': 250,\n",
    "}\n",
    "\n",
    "train_pointnet_classification.main(config)  # Should be able to get > 92% accuracy on the val set"
   ]
  },
  {
   "cell_type": "markdown",
   "metadata": {
    "id": "fP0wuYUTqH7d"
   },
   "source": [
    "### (f) Inference using the trained model"
   ]
  },
  {
   "cell_type": "code",
   "execution_count": null,
   "metadata": {
    "ExecuteTime": {
     "start_time": "2023-12-05T19:46:21.745692291Z"
    },
    "id": "WXFYdI-PqH7d"
   },
   "outputs": [],
   "source": [
    "from exercise_2.inference.infer_pointnet_classification import InferenceHandlerPointNetClassification\n",
    "\n",
    "\n",
    "# create a handler for inference using a trained checkpoint\n",
    "inferer = InferenceHandlerPointNetClassification('exercise_2/runs/2_4_pointnet_classification_generalization/model_best.ckpt')"
   ]
  },
  {
   "cell_type": "code",
   "execution_count": null,
   "metadata": {
    "ExecuteTime": {
     "start_time": "2023-12-05T19:46:21.745871162Z"
    },
    "id": "8L3n2fg7qH7d"
   },
   "outputs": [],
   "source": [
    "# get shape point cloud and visualize\n",
    "shape_points = ShapeNetPoints.get_point_cloud('03001627/f913501826c588e89753496ba23f2183')\n",
    "print('Predicted category:', inferer.infer_single(shape_points))  # expected output: chair\n",
    "visualize_pointcloud(shape_points.T, point_size=0.025, flip_axes=True)"
   ]
  },
  {
   "cell_type": "code",
   "execution_count": null,
   "metadata": {
    "ExecuteTime": {
     "start_time": "2023-12-05T19:46:21.746057988Z"
    },
    "id": "iR6_9eFaqH7d"
   },
   "outputs": [],
   "source": [
    "# get shape point cloud and visualize\n",
    "shape_points = ShapeNetPoints.get_point_cloud('02691156/6af4383123972f2262b600da24e0965')\n",
    "print('Predicted category:', inferer.infer_single(shape_points))\n",
    "visualize_pointcloud(shape_points.T, point_size=0.025, flip_axes=True)"
   ]
  },
  {
   "cell_type": "code",
   "execution_count": null,
   "metadata": {
    "ExecuteTime": {
     "start_time": "2023-12-05T19:46:21.746240946Z"
    },
    "id": "qXPxZM9sqH7d"
   },
   "outputs": [],
   "source": [
    "# get shape point cloud and visualize\n",
    "shape_points = ShapeNetPoints.get_point_cloud('04090263/eae96ddf483e896c805d3d8e378d155e')\n",
    "print('Predicted category:', inferer.infer_single(shape_points))\n",
    "visualize_pointcloud(shape_points.T, point_size=0.025, flip_axes=True)"
   ]
  },
  {
   "cell_type": "markdown",
   "metadata": {
    "id": "JqrWJJv8qH7d"
   },
   "source": [
    "Make sure you submit the trained model `exercise_2/runs/2_4_pointnet_classification_generalization/model_best.ckpt` in your zip\n",
    "so that we can evaluate it on the test set at our end."
   ]
  },
  {
   "cell_type": "markdown",
   "metadata": {
    "id": "T8zShYR8qH7e"
   },
   "source": [
    "## 2.5. Shape Parts Segmentation using PointNet\n",
    "\n",
    "We now go one step further: We do not just want to learn the overall class label for a given shape but instead for each point in a shape the part it belongs to. We call this Part Segmentation. The good thing is that we can actually re-use most of the PointNet architecture from 2.4."
   ]
  },
  {
   "cell_type": "markdown",
   "metadata": {
    "id": "Qwd3_CM3qH7e"
   },
   "source": [
    "### (a) Download the ShapeNetPart dataset\n",
    "\n",
    "Annotating data for segmentation is a lot of effort since labelling has to be performed within the shape for each part instead of globally for the entire shape.\n",
    "\n",
    "Luckily, there are existing datasets we can use for this. In our case, this is the ShapeNet Part Segmenation dataset that you can download in the cell below.\n",
    "\n",
    "In terms of data layout, the general idea of shape class identifiers and shape IDs is the same; we just have slightly different shape categories now. Also, each point cloud now has a correponding file specifying the part class for every point.\n",
    "\n",
    "We put the shape class labels for this dataset in `exercise_2/data/shape_parts_info.json`, analogous to `shape_info.json` from exercise parts 2.3 and 2.4.\n",
    "\n",
    "The point cloud data is stored as pts files which is basically an even simpler version of obj. It omits the v in front of each line that represents a point and does not support faces. Each line therefore represents one point with its xyz coordinates, separated by a space.\n",
    "\n",
    "```\n",
    "# contents of exercise_2/data/shapenetcore_partanno_segmentation_benchmark_v0\n",
    "\n",
    "02691156/                                         # Shape category folder with all its shapes\n",
    "    ├── points                                    # All point clouds go here\n",
    "        ├── 1a04e3eab45ca15dd86060f189eb133.pts   # Point cloud data\n",
    "        ├── 1a32f10b20170883663e90eaf6b4ca52.pts  # Another point cloud\n",
    "        :\n",
    "        :\n",
    "    ├── points_label                              # Part labels for each point in the corresponding pts file\n",
    "        ├── 1a04e3eab45ca15dd86060f189eb133.seg   # Each line represents the local part class of a point\n",
    "        ├── 1a32f10b20170883663e90eaf6b4ca52.seg  # Another segmentation file\n",
    "        :\n",
    "        :\n",
    "    ├── seg_img                                   # Visualizations of the original mesh part segmentation\n",
    "02773838/                                         # Another shape category folder\n",
    "02954340/                                         # In total you should have 16 shape category folders\n",
    ":\n",
    ":\n",
    "train_test_split/                                 # Official split IDs\n",
    "```"
   ]
  },
  {
   "cell_type": "code",
   "execution_count": 34,
   "metadata": {
    "ExecuteTime": {
     "end_time": "2023-12-05T19:40:30.561547901Z",
     "start_time": "2023-12-05T19:40:30.556324655Z"
    },
    "id": "ST5aom42qH7e"
   },
   "outputs": [
    {
     "name": "stdout",
     "output_type": "stream",
     "text": [
      "Downloading ...\n",
      "--2023-12-05 23:27:46--  https://shapenet.cs.stanford.edu/ericyi/shapenetcore_partanno_segmentation_benchmark_v0.zip\n",
      "Resolving shapenet.cs.stanford.edu (shapenet.cs.stanford.edu)... 171.67.77.19\n",
      "Connecting to shapenet.cs.stanford.edu (shapenet.cs.stanford.edu)|171.67.77.19|:443... connected.\n",
      "WARNING: cannot verify shapenet.cs.stanford.edu's certificate, issued by ‘CN=InCommon RSA Server CA,OU=InCommon,O=Internet2,L=Ann Arbor,ST=MI,C=US’:\n",
      "  Issued certificate has expired.\n",
      "HTTP request sent, awaiting response... 200 OK\n",
      "Length: 666265910 (635M) [application/zip]\n",
      "Saving to: ‘exercise_2/data/shapenetcore_partanno_segmentation_benchmark_v0.zip’\n",
      "\n",
      "shapenetcore_partan 100%[===================>] 635,40M   617KB/s    in 9m 13s  \n",
      "\n",
      "2023-12-05 23:37:01 (1,15 MB/s) - ‘exercise_2/data/shapenetcore_partanno_segmentation_benchmark_v0.zip’ saved [666265910/666265910]\n",
      "\n",
      "Extracting ...\n",
      "Done.\n"
     ]
    }
   ],
   "source": [
    "\"\"\"print('Downloading ...')\n",
    "!wget https://shapenet.cs.stanford.edu/ericyi/shapenetcore_partanno_segmentation_benchmark_v0.zip --no-check-certificate -P exercise_2/data\n",
    "print('Extracting ...')\n",
    "!unzip -q exercise_2/data/shapenetcore_partanno_segmentation_benchmark_v0.zip -d exercise_2/data\n",
    "!rm exercise_2/data/shapenetcore_partanno_segmentation_benchmark_v0.zip\n",
    "print('Done.')\n",
    "\"\"\""
   ]
  },
  {
   "cell_type": "markdown",
   "metadata": {
    "id": "k6dKu5aVqH7e"
   },
   "source": [
    "### (b) Dataset implementation\n",
    "\n",
    "You can use the same split setup as in 2.3 and 2.4: `overfit.txt` for overfitting, `train.txt` for the train samples, and `val.txt` for the val samples; This time, use the files in folder `exercise_2/data/splits/shapenet_parts`.\n",
    "\n",
    "The dataset implementation will be similar to 2.3 and 2.4: Fill out the missing implementations of functions `__getitem__` and `__len__` in class `ShapeNetPoints` in `exercise_2/data/shapenet_parts.py`. Note that you now need to load not only the point cloud but also the per-point segmentation labels in function `get_point_cloud_with_labels`. Since each point cloud in this dataset contains more than 1024 points, we also need to sub-sample the raw points list. Use `np.random.choice` for this: Randomizing the sampling will work as augmentation which in turn helps prevent overfitting. Make sure to sample the corresponding points and labels when doing so.\n",
    "\n",
    "Once done, test your implementation below."
   ]
  },
  {
   "cell_type": "code",
   "execution_count": null,
   "metadata": {
    "ExecuteTime": {
     "start_time": "2023-12-05T19:40:30.556446624Z"
    },
    "id": "h9n9LUMgqH7e"
   },
   "outputs": [],
   "source": [
    "from exercise_2.data.shapenet_parts import ShapeNetParts\n",
    "\n",
    "# Create a dataset with train split\n",
    "train_dataset = ShapeNetParts('train')\n",
    "val_dataset = ShapeNetParts('val')\n",
    "overfit_dataset = ShapeNetParts('overfit')\n",
    "\n",
    "# Get length, which is a call to __len__ function\n",
    "print(f'Length of train set: {len(train_dataset)}')  # expected output: 12137\n",
    "# Get length, which is a call to __len__ function\n",
    "print(f'Length of val set: {len(val_dataset)}')  # expected output: 1870\n",
    "# Get length, which is a call to __len__ function\n",
    "print(f'Length of overfit set: {len(overfit_dataset)}')  # expected output: 64"
   ]
  },
  {
   "cell_type": "markdown",
   "metadata": {
    "id": "W2sFTwn6qH7e"
   },
   "source": [
    "### (c) Modifying the PointNet Model\n",
    "\n",
    "Take a look at the PointNet architecture again:\n",
    "<img src=\"exercise_2/images/pointnet.png\" alt=\"pointnet_architecture\" style=\"width: 800px;\"/>\n",
    "\n",
    "We only cared about the blue classification part in 2.4. Now, we also want to implement the yellow part. You can re-use your encoder from 2.4.\n",
    "\n",
    "The idea is simple: Take the n points with 64-dimensional point features from the correct layer of the encoder and concatenate the global shape descriptor you get after applying the max function to it. Then, implement the remaining layers as conv1ds with batchnorm and relu after all but the last layer. The final layer reduces the dimensionality per point to m which is 50 in our case since we have 50 overall parts.\n",
    "\n",
    "Add the missing layers to `PointNetSegmentation` in `exercise_2/models/pointnet.py` and finish the implementation of the forward pass."
   ]
  },
  {
   "cell_type": "code",
   "execution_count": 9,
   "metadata": {
    "ExecuteTime": {
     "start_time": "2023-12-05T19:40:30.556599590Z"
    },
    "id": "0Gha77iaqH7e"
   },
   "outputs": [
    {
     "name": "stdout",
     "output_type": "stream",
     "text": [
      "   | Name                                | Type                 | Params \n",
      "-------------------------------------------------------------------------------\n",
      "0  | encoder                             | PointNetEncoder      | 2803529\n",
      "1  | encoder.conv1                       | Conv1d               | 256    \n",
      "2  | encoder.conv2                       | Conv1d               | 8320   \n",
      "3  | encoder.conv3                       | Conv1d               | 132096 \n",
      "4  | encoder.bn1                         | BatchNorm1d          | 128    \n",
      "5  | encoder.bn2                         | BatchNorm1d          | 256    \n",
      "6  | encoder.bn3                         | BatchNorm1d          | 2048   \n",
      "7  | encoder.relu                        | ReLU                 | 0      \n",
      "8  | encoder.input_transform_net         | TNet                 | 803081 \n",
      "9  | encoder.input_transform_net.conv1   | Conv1d               | 256    \n",
      "10 | encoder.input_transform_net.conv2   | Conv1d               | 8320   \n",
      "11 | encoder.input_transform_net.conv3   | Conv1d               | 132096 \n",
      "12 | encoder.input_transform_net.fc1     | Linear               | 524800 \n",
      "13 | encoder.input_transform_net.fc2     | Linear               | 131328 \n",
      "14 | encoder.input_transform_net.fc3     | Linear               | 2313   \n",
      "15 | encoder.input_transform_net.relu    | ReLU                 | 0      \n",
      "16 | encoder.input_transform_net.bn1     | BatchNorm1d          | 128    \n",
      "17 | encoder.input_transform_net.bn2     | BatchNorm1d          | 256    \n",
      "18 | encoder.input_transform_net.bn3     | BatchNorm1d          | 2048   \n",
      "19 | encoder.input_transform_net.bn4     | BatchNorm1d          | 1024   \n",
      "20 | encoder.input_transform_net.bn5     | BatchNorm1d          | 512    \n",
      "21 | encoder.feature_transform_net       | TNet                 | 1857344\n",
      "22 | encoder.feature_transform_net.conv1 | Conv1d               | 4160   \n",
      "23 | encoder.feature_transform_net.conv2 | Conv1d               | 8320   \n",
      "24 | encoder.feature_transform_net.conv3 | Conv1d               | 132096 \n",
      "25 | encoder.feature_transform_net.fc1   | Linear               | 524800 \n",
      "26 | encoder.feature_transform_net.fc2   | Linear               | 131328 \n",
      "27 | encoder.feature_transform_net.fc3   | Linear               | 1052672\n",
      "28 | encoder.feature_transform_net.relu  | ReLU                 | 0      \n",
      "29 | encoder.feature_transform_net.bn1   | BatchNorm1d          | 128    \n",
      "30 | encoder.feature_transform_net.bn2   | BatchNorm1d          | 256    \n",
      "31 | encoder.feature_transform_net.bn3   | BatchNorm1d          | 2048   \n",
      "32 | encoder.feature_transform_net.bn4   | BatchNorm1d          | 1024   \n",
      "33 | encoder.feature_transform_net.bn5   | BatchNorm1d          | 512    \n",
      "34 | conv1                               | Conv1d               | 557568 \n",
      "35 | conv2                               | Conv1d               | 131328 \n",
      "36 | conv3                               | Conv1d               | 32896  \n",
      "37 | conv4                               | Conv1d               | 6450   \n",
      "38 | bn1                                 | BatchNorm1d          | 1024   \n",
      "39 | bn2                                 | BatchNorm1d          | 512    \n",
      "40 | bn3                                 | BatchNorm1d          | 256    \n",
      "41 | relu                                | ReLU                 | 0      \n",
      "42 | TOTAL                               | PointNetSegmentation | 3533563\n",
      "Output tensor shape:  torch.Size([8, 1024, 50])\n",
      "Number of traininable params: 3.53M\n"
     ]
    }
   ],
   "source": [
    "from exercise_2.model.pointnet import PointNetSegmentation\n",
    "from exercise_2.util.model import summarize_model\n",
    "\n",
    "pointnet = PointNetSegmentation(50)\n",
    "print(summarize_model(pointnet))  # Expected: Rows 0-40 and TOTAL = 3533563\n",
    "\n",
    "input_tensor = torch.randn(8, 3, 1024)\n",
    "predictions = pointnet(input_tensor)\n",
    "\n",
    "print('Output tensor shape: ', predictions.shape)  # Expected: 8, 1024, 50\n",
    "num_trainable_params = sum(p.numel() for p in pointnet.parameters() if p.requires_grad) / 1e6\n",
    "print(f'Number of traininable params: {num_trainable_params:.2f}M')  # Expected: ~3M"
   ]
  },
  {
   "cell_type": "markdown",
   "metadata": {
    "id": "Rnc8RIuqqH7e"
   },
   "source": [
    "### (d) Training Script and Overfitting\n",
    "\n",
    "You can now go to the train script in `train_pointnet_segmentation.py` and fill in the missing pieces as in 2.3 and 2.4. Then, verify that your training work by overfitting to a few samples below."
   ]
  },
  {
   "cell_type": "code",
   "execution_count": null,
   "metadata": {
    "ExecuteTime": {
     "start_time": "2023-12-05T19:40:30.557895398Z"
    },
    "id": "xLVF-4B5qH7e"
   },
   "outputs": [],
   "source": [
    "from exercise_2.training import train_pointnet_segmentation\n",
    "config = {\n",
    "    'experiment_name': '2_5_pointnet_segmentation_overfitting',\n",
    "    'device': 'cuda:0',                   # change this to cpu if you do not have a GPU\n",
    "    'is_overfit': True,                   # True since we're doing overfitting\n",
    "    'batch_size': 32,\n",
    "    'resume_ckpt': None,\n",
    "    'learning_rate': 0.001,\n",
    "    'max_epochs': 1000,\n",
    "    'print_every_n': 100,\n",
    "    'validate_every_n': 100,\n",
    "}\n",
    "\n",
    "train_pointnet_segmentation.main(config)  # should be able to get ~0.03 loss, >97% accuracy, >0.95 iou"
   ]
  },
  {
   "cell_type": "markdown",
   "metadata": {
    "id": "zclh447xqH7e"
   },
   "source": [
    "### (e) Training over the entire training set\n",
    "\n",
    "Once your overfitting completes successfully, you can move on to training on the entire dataset again."
   ]
  },
  {
   "cell_type": "code",
   "execution_count": null,
   "metadata": {
    "ExecuteTime": {
     "start_time": "2023-12-05T19:40:30.559689409Z"
    },
    "id": "oEA3gqPZqH7f",
    "scrolled": true
   },
   "outputs": [],
   "source": [
    "from exercise_2.training import train_pointnet_segmentation\n",
    "config = {\n",
    "    'experiment_name': '2_5_pointnet_segmentation_generalization',\n",
    "    'device': 'cuda:0',                   # change this to cpu if you do not have a GPU\n",
    "    'is_overfit': False,\n",
    "    'batch_size': 32,\n",
    "    'resume_ckpt': None,\n",
    "    'learning_rate': 0.001,\n",
    "    'max_epochs': 12,\n",
    "    'print_every_n': 100,\n",
    "    'validate_every_n': 250,\n",
    "}\n",
    "\n",
    "train_pointnet_segmentation.main(config)  # Should be able to get > 90% accuracy and > 0.8 iou on the val set"
   ]
  },
  {
   "cell_type": "markdown",
   "metadata": {
    "id": "-JzJgdDLqH7f"
   },
   "source": [
    "### (f) Inference using the trained model"
   ]
  },
  {
   "cell_type": "code",
   "execution_count": null,
   "metadata": {
    "ExecuteTime": {
     "start_time": "2023-12-05T19:40:30.560973124Z"
    },
    "id": "6q9WJe6dqH7f"
   },
   "outputs": [],
   "source": [
    "from exercise_2.inference.infer_pointnet_segmentation import InferenceHandlerPointNetSegmentation\n",
    "from exercise_2.util.visualization import visualize_pointcloud\n",
    "from matplotlib import cm, colors\n",
    "import numpy as np\n",
    "\n",
    "# create a handler for inference using a trained checkpoint\n",
    "inferer = InferenceHandlerPointNetSegmentation('exercise_2/runs/2_5_pointnet_segmentation_generalization/model_best.ckpt')"
   ]
  },
  {
   "cell_type": "code",
   "execution_count": null,
   "metadata": {
    "ExecuteTime": {
     "end_time": "2023-12-05T19:40:30.602598755Z",
     "start_time": "2023-12-05T19:40:30.563058350Z"
    },
    "id": "cG9wl_WiqH7f"
   },
   "outputs": [],
   "source": [
    "# Get shape point cloud, predict labels, and visualize colored point cloud\n",
    "shape_points = ShapeNetParts.get_point_cloud_with_labels('02691156/1c4b8662938adf41da2b0f839aba40f9')[0]\n",
    "point_labels = inferer.infer_single(shape_points)\n",
    "point_labels = (point_labels - min(point_labels)) / (max(point_labels) - min(point_labels))\n",
    "point_colors = cm.get_cmap('hsv')(point_labels)[:, :3]\n",
    "point_colors = np.sum((point_colors * 255).astype(int) * [255*255, 255, 1], axis=1)\n",
    "visualize_pointcloud(shape_points.T, colors=point_colors, point_size=0.025, flip_axes=True)"
   ]
  },
  {
   "cell_type": "code",
   "execution_count": null,
   "metadata": {
    "ExecuteTime": {
     "start_time": "2023-12-05T19:40:30.565757928Z"
    },
    "id": "yuLuZjaeqH7f"
   },
   "outputs": [],
   "source": [
    "# Get shape point cloud, predict labels, and visualize colored point cloud\n",
    "shape_points = ShapeNetParts.get_point_cloud_with_labels('03948459/e017cf5dac1e39b013d74211a209ce')[0]\n",
    "point_labels = inferer.infer_single(shape_points)\n",
    "point_labels = (point_labels - min(point_labels)) / (max(point_labels) - min(point_labels))\n",
    "point_colors = cm.get_cmap('hsv')(point_labels)[:, :3]\n",
    "point_colors = np.sum((point_colors * 255).astype(int) * [255*255, 255, 1], axis=1)\n",
    "visualize_pointcloud(shape_points.T, colors=point_colors, point_size=0.025, flip_axes=True)"
   ]
  },
  {
   "cell_type": "code",
   "execution_count": null,
   "metadata": {
    "ExecuteTime": {
     "start_time": "2023-12-05T19:40:30.568164216Z"
    },
    "id": "n8ATibx_qH7f"
   },
   "outputs": [],
   "source": [
    "# Get shape point cloud, predict labels, and visualize colored point cloud\n",
    "shape_points = ShapeNetParts.get_point_cloud_with_labels('03790512/86b6dc954e1ca8e948272812609617e2')[0]\n",
    "point_labels = inferer.infer_single(shape_points)\n",
    "point_labels = (point_labels - min(point_labels)) / (max(point_labels) - min(point_labels))\n",
    "point_colors = cm.get_cmap('hsv')(point_labels)[:, :3]\n",
    "point_colors = np.sum((point_colors * 255).astype(int) * [255*255, 255, 1], axis=1)\n",
    "visualize_pointcloud(shape_points.T, colors=point_colors, point_size=0.025, flip_axes=True)"
   ]
  },
  {
   "cell_type": "markdown",
   "metadata": {
    "id": "OJFVZiJ3qH7f"
   },
   "source": [
    "Make sure you submit the trained model exercise_2/runs/2_5_pointnet_segmentation_generalization/model_best.ckpt in your zip so that we can evaluate it on the test set at our end."
   ]
  },
  {
   "cell_type": "markdown",
   "metadata": {
    "id": "Cb5qmbXlqH7f"
   },
   "source": [
    "## Submission\n",
    "\n",
    "This is the end of exercise 2 🙂. Please create a zip containing all files we provided, everything you modified, and all of your generated output/visualization files, including your checkpoints. Name it with your matriculation number(s) as described in exercise 1. Make sure this notebook can be run without problems. Then, submit via Moodle.\n",
    "\n",
    "**Submission Deadline**: 12.12.2023, 23:55"
   ]
  },
  {
   "cell_type": "markdown",
   "metadata": {
    "id": "pBqWobuQqH7f"
   },
   "source": [
    "## References\n",
    "\n"
   ]
  },
  {
   "cell_type": "markdown",
   "metadata": {
    "id": "3s_STf89qH7f"
   },
   "source": [
    "[1] Qi, C. et al. “Volumetric and Multi-view CNNs for Object Classification on 3D Data.” 2016 IEEE Conference on Computer Vision and Pattern Recognition (CVPR) (2016): 5648-5656.\n",
    "\n",
    "[2] Qi, C. et al. “PointNet: Deep Learning on Point Sets for 3D Classification and Segmentation.” 2017 IEEE Conference on Computer Vision and Pattern Recognition (CVPR) (2017): 77-85."
   ]
  }
 ],
 "metadata": {
  "colab": {
   "provenance": []
  },
  "kernelspec": {
   "display_name": "Python 3 (ipykernel)",
   "language": "python",
   "name": "python3"
  },
  "language_info": {
   "codemirror_mode": {
    "name": "ipython",
    "version": 3
   },
   "file_extension": ".py",
   "mimetype": "text/x-python",
   "name": "python",
   "nbconvert_exporter": "python",
   "pygments_lexer": "ipython3",
   "version": "3.7.17"
  },
  "widgets": {
   "application/vnd.jupyter.widget-state+json": {
    "0c9a28680ad948fcbcd84447249adedf": {
     "model_module": "@jupyter-widgets/output",
     "model_module_version": "1.0.0",
     "model_name": "OutputModel",
     "state": {
      "_dom_classes": [],
      "_model_module": "@jupyter-widgets/output",
      "_model_module_version": "1.0.0",
      "_model_name": "OutputModel",
      "_view_count": null,
      "_view_module": "@jupyter-widgets/output",
      "_view_module_version": "1.0.0",
      "_view_name": "OutputView",
      "layout": "IPY_MODEL_5047c7a6340847d881f0da803b4f75dd",
      "msg_id": "",
      "outputs": [
       {
        "data": {
         "application/vnd.jupyter.widget-view+json": {
          "model_id": "979e4e552e2c4c74adc58e8bf4481652",
          "version_major": 2,
          "version_minor": 0
         },
         "text/plain": "Plot(antialias=3, axes=['x', 'y', 'z'], axes_helper=1.0, axes_helper_colors=[16711680, 65280, 255], background…"
        },
        "metadata": {
         "application/vnd.jupyter.widget-view+json": {
          "colab": {
           "custom_widget_manager": {
            "url": "https://ssl.gstatic.com/colaboratory-static/widgets/colab-cdn-widget-manager/b3e629b1971e1542/manager.min.js"
           }
          }
         }
        },
        "output_type": "display_data"
       }
      ]
     }
    },
    "0ca249bcbd43434aac6d0b04bc88e8d8": {
     "model_module": "@jupyter-widgets/base",
     "model_module_version": "1.2.0",
     "model_name": "LayoutModel",
     "state": {
      "_model_module": "@jupyter-widgets/base",
      "_model_module_version": "1.2.0",
      "_model_name": "LayoutModel",
      "_view_count": null,
      "_view_module": "@jupyter-widgets/base",
      "_view_module_version": "1.2.0",
      "_view_name": "LayoutView",
      "align_content": null,
      "align_items": null,
      "align_self": null,
      "border": null,
      "bottom": null,
      "display": null,
      "flex": null,
      "flex_flow": null,
      "grid_area": null,
      "grid_auto_columns": null,
      "grid_auto_flow": null,
      "grid_auto_rows": null,
      "grid_column": null,
      "grid_gap": null,
      "grid_row": null,
      "grid_template_areas": null,
      "grid_template_columns": null,
      "grid_template_rows": null,
      "height": null,
      "justify_content": null,
      "justify_items": null,
      "left": null,
      "margin": null,
      "max_height": null,
      "max_width": null,
      "min_height": null,
      "min_width": null,
      "object_fit": null,
      "object_position": null,
      "order": null,
      "overflow": null,
      "overflow_x": null,
      "overflow_y": null,
      "padding": null,
      "right": null,
      "top": null,
      "visibility": null,
      "width": null
     }
    },
    "1c7dcdd227884c53bff767cb1d578d13": {
     "model_module": "k3d",
     "model_module_version": "2.16.0",
     "model_name": "PlotModel",
     "state": {
      "_backend_version": "2.16.0",
      "_dom_classes": [],
      "_model_module": "k3d",
      "_model_module_version": "2.16.0",
      "_model_name": "PlotModel",
      "_view_count": null,
      "_view_module": "k3d",
      "_view_module_version": "2.16.0",
      "_view_name": "PlotView",
      "antialias": 3,
      "auto_rendering": true,
      "axes": [
       "x",
       "y",
       "z"
      ],
      "axes_helper": 1,
      "axes_helper_colors": [
       16711680,
       65280,
       255
      ],
      "background_color": 16777215,
      "camera": [],
      "camera_animation": [],
      "camera_auto_fit": true,
      "camera_damping_factor": 0,
      "camera_fov": 60,
      "camera_mode": "trackball",
      "camera_no_pan": false,
      "camera_no_rotate": false,
      "camera_no_zoom": false,
      "camera_pan_speed": 0.3,
      "camera_rotate_speed": 1,
      "camera_zoom_speed": 1.2,
      "clipping_planes": [],
      "colorbar_object_id": -1,
      "colorbar_scientific": false,
      "custom_data": null,
      "fps": 25,
      "fps_meter": false,
      "grid": [
       -0.55,
       -0.55,
       -0.55,
       0.55,
       0.55,
       0.55
      ],
      "grid_auto_fit": true,
      "grid_color": 15132390,
      "grid_visible": false,
      "height": 512,
      "label_color": 4473924,
      "layout": "IPY_MODEL_0ca249bcbd43434aac6d0b04bc88e8d8",
      "lighting": 1.5,
      "logarithmic_depth_buffer": true,
      "manipulate_mode": "translate",
      "menu_visibility": true,
      "minimum_fps": -1,
      "mode": "view",
      "name": "occupancy_grid",
      "object_ids": [
       135594433894560
      ],
      "rendering_steps": 1,
      "screenshot": "",
      "screenshot_scale": 2,
      "snapshot": "",
      "snapshot_type": "full",
      "time": 0,
      "voxel_paint_color": 0
     }
    },
    "2280e10bd6224e949130b21e4836f1c1": {
     "model_module": "@jupyter-widgets/base",
     "model_module_version": "1.2.0",
     "model_name": "LayoutModel",
     "state": {
      "_model_module": "@jupyter-widgets/base",
      "_model_module_version": "1.2.0",
      "_model_name": "LayoutModel",
      "_view_count": null,
      "_view_module": "@jupyter-widgets/base",
      "_view_module_version": "1.2.0",
      "_view_name": "LayoutView",
      "align_content": null,
      "align_items": null,
      "align_self": null,
      "border": null,
      "bottom": null,
      "display": null,
      "flex": null,
      "flex_flow": null,
      "grid_area": null,
      "grid_auto_columns": null,
      "grid_auto_flow": null,
      "grid_auto_rows": null,
      "grid_column": null,
      "grid_gap": null,
      "grid_row": null,
      "grid_template_areas": null,
      "grid_template_columns": null,
      "grid_template_rows": null,
      "height": null,
      "justify_content": null,
      "justify_items": null,
      "left": null,
      "margin": null,
      "max_height": null,
      "max_width": null,
      "min_height": null,
      "min_width": null,
      "object_fit": null,
      "object_position": null,
      "order": null,
      "overflow": null,
      "overflow_x": null,
      "overflow_y": null,
      "padding": null,
      "right": null,
      "top": null,
      "visibility": null,
      "width": null
     }
    },
    "3b51fa19699d4c50997a1126d5c1b1eb": {
     "model_module": "@jupyter-widgets/base",
     "model_module_version": "1.2.0",
     "model_name": "LayoutModel",
     "state": {
      "_model_module": "@jupyter-widgets/base",
      "_model_module_version": "1.2.0",
      "_model_name": "LayoutModel",
      "_view_count": null,
      "_view_module": "@jupyter-widgets/base",
      "_view_module_version": "1.2.0",
      "_view_name": "LayoutView",
      "align_content": null,
      "align_items": null,
      "align_self": null,
      "border": null,
      "bottom": null,
      "display": null,
      "flex": null,
      "flex_flow": null,
      "grid_area": null,
      "grid_auto_columns": null,
      "grid_auto_flow": null,
      "grid_auto_rows": null,
      "grid_column": null,
      "grid_gap": null,
      "grid_row": null,
      "grid_template_areas": null,
      "grid_template_columns": null,
      "grid_template_rows": null,
      "height": null,
      "justify_content": null,
      "justify_items": null,
      "left": null,
      "margin": null,
      "max_height": null,
      "max_width": null,
      "min_height": null,
      "min_width": null,
      "object_fit": null,
      "object_position": null,
      "order": null,
      "overflow": null,
      "overflow_x": null,
      "overflow_y": null,
      "padding": null,
      "right": null,
      "top": null,
      "visibility": null,
      "width": null
     }
    },
    "5047c7a6340847d881f0da803b4f75dd": {
     "model_module": "@jupyter-widgets/base",
     "model_module_version": "1.2.0",
     "model_name": "LayoutModel",
     "state": {
      "_model_module": "@jupyter-widgets/base",
      "_model_module_version": "1.2.0",
      "_model_name": "LayoutModel",
      "_view_count": null,
      "_view_module": "@jupyter-widgets/base",
      "_view_module_version": "1.2.0",
      "_view_name": "LayoutView",
      "align_content": null,
      "align_items": null,
      "align_self": null,
      "border": null,
      "bottom": null,
      "display": null,
      "flex": null,
      "flex_flow": null,
      "grid_area": null,
      "grid_auto_columns": null,
      "grid_auto_flow": null,
      "grid_auto_rows": null,
      "grid_column": null,
      "grid_gap": null,
      "grid_row": null,
      "grid_template_areas": null,
      "grid_template_columns": null,
      "grid_template_rows": null,
      "height": null,
      "justify_content": null,
      "justify_items": null,
      "left": null,
      "margin": null,
      "max_height": null,
      "max_width": null,
      "min_height": null,
      "min_width": null,
      "object_fit": null,
      "object_position": null,
      "order": null,
      "overflow": null,
      "overflow_x": null,
      "overflow_y": null,
      "padding": null,
      "right": null,
      "top": null,
      "visibility": null,
      "width": null
     }
    },
    "979e4e552e2c4c74adc58e8bf4481652": {
     "model_module": "k3d",
     "model_module_version": "2.16.0",
     "model_name": "PlotModel",
     "state": {
      "_backend_version": "2.16.0",
      "_dom_classes": [],
      "_model_module": "k3d",
      "_model_module_version": "2.16.0",
      "_model_name": "PlotModel",
      "_view_count": null,
      "_view_module": "k3d",
      "_view_module_version": "2.16.0",
      "_view_name": "PlotView",
      "antialias": 3,
      "auto_rendering": true,
      "axes": [
       "x",
       "y",
       "z"
      ],
      "axes_helper": 1,
      "axes_helper_colors": [
       16711680,
       65280,
       255
      ],
      "background_color": 16777215,
      "camera": [],
      "camera_animation": [],
      "camera_auto_fit": true,
      "camera_damping_factor": 0,
      "camera_fov": 60,
      "camera_mode": "trackball",
      "camera_no_pan": false,
      "camera_no_rotate": false,
      "camera_no_zoom": false,
      "camera_pan_speed": 0.3,
      "camera_rotate_speed": 1,
      "camera_zoom_speed": 1.2,
      "clipping_planes": [],
      "colorbar_object_id": -1,
      "colorbar_scientific": false,
      "custom_data": null,
      "fps": 25,
      "fps_meter": false,
      "grid": [
       -0.55,
       -0.55,
       -0.55,
       0.55,
       0.55,
       0.55
      ],
      "grid_auto_fit": true,
      "grid_color": 15132390,
      "grid_visible": false,
      "height": 512,
      "label_color": 4473924,
      "layout": "IPY_MODEL_3b51fa19699d4c50997a1126d5c1b1eb",
      "lighting": 1.5,
      "logarithmic_depth_buffer": true,
      "manipulate_mode": "translate",
      "menu_visibility": true,
      "minimum_fps": -1,
      "mode": "view",
      "name": "occupancy_grid",
      "object_ids": [
       135594433893408
      ],
      "rendering_steps": 1,
      "screenshot": "",
      "screenshot_scale": 2,
      "snapshot": "",
      "snapshot_type": "full",
      "time": 0,
      "voxel_paint_color": 0
     }
    },
    "c31e6301159649aaa36ad6b9b9f8cce1": {
     "model_module": "@jupyter-widgets/output",
     "model_module_version": "1.0.0",
     "model_name": "OutputModel",
     "state": {
      "_dom_classes": [],
      "_model_module": "@jupyter-widgets/output",
      "_model_module_version": "1.0.0",
      "_model_name": "OutputModel",
      "_view_count": null,
      "_view_module": "@jupyter-widgets/output",
      "_view_module_version": "1.0.0",
      "_view_name": "OutputView",
      "layout": "IPY_MODEL_2280e10bd6224e949130b21e4836f1c1",
      "msg_id": "",
      "outputs": [
       {
        "data": {
         "application/vnd.jupyter.widget-view+json": {
          "model_id": "1c7dcdd227884c53bff767cb1d578d13",
          "version_major": 2,
          "version_minor": 0
         },
         "text/plain": "Plot(antialias=3, axes=['x', 'y', 'z'], axes_helper=1.0, axes_helper_colors=[16711680, 65280, 255], background…"
        },
        "metadata": {
         "application/vnd.jupyter.widget-view+json": {
          "colab": {
           "custom_widget_manager": {
            "url": "https://ssl.gstatic.com/colaboratory-static/widgets/colab-cdn-widget-manager/b3e629b1971e1542/manager.min.js"
           }
          }
         }
        },
        "output_type": "display_data"
       }
      ]
     }
    }
   }
  }
 },
 "nbformat": 4,
 "nbformat_minor": 1
}
