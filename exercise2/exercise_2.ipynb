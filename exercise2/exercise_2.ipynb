{
 "cells": [
  {
   "cell_type": "markdown",
   "metadata": {
    "collapsed": true,
    "id": "CXYIkyiwqH7K"
   },
   "source": [
    "# Exercise 2: Shape Classification and Segmentation\n",
    "\n",
    "**Submission Deadline**: 12.12.2023, 23:55\n",
    "\n",
    "In this exercise, we will dive into Machine Learning on 3D shapes by taking a look at shape classification and segmentation."
   ]
  },
  {
   "cell_type": "markdown",
   "metadata": {
    "id": "QME_yMLCqH7N"
   },
   "source": [
    "## 2.0. Running this notebook\n",
    "We recommend running this notebook on a CUDA compatible local gpu. You can also run training on cpu, it will just take longer.\n",
    "\n",
    "You have three options for running this exercise on a GPU, choose one of them and start the exercise below in section \"Imports\":\n",
    "1. Locally on your own GPU\n",
    "2. On our dedicated compute cluster\n",
    "3. On Google Colab\n",
    "\n",
    "We describe every option in more detail below:"
   ]
  },
  {
   "cell_type": "markdown",
   "metadata": {
    "id": "ShHla7HNqH7N"
   },
   "source": [
    "---\n",
    "\n",
    "### (a) Local Execution\n",
    "\n",
    "If you run this notebook locally, you have to first install the python dependiencies again. They are the same as for exercise 1 so you can re-use the environment you used last time. If you use [poetry](https://python-poetry.org), you can also simply re-install everything (`poetry install`) and then run this notebook via `poetry run jupyter notebook`.\n",
    "\n",
    "In case you are working with a RTX 3000-series GPU, you need to install a patched version of pytorch:"
   ]
  },
  {
   "cell_type": "code",
   "execution_count": null,
   "metadata": {
    "ExecuteTime": {
     "end_time": "2023-12-05T19:39:00.898503812Z",
     "start_time": "2023-12-05T19:38:52.939392678Z"
    },
    "id": "t3EfNhusqH7N"
   },
   "outputs": [],
   "source": [
    "# !pip install torch torchvision --extra-index-url https://download.pytorch.org/whl/cu113"
   ]
  },
  {
   "cell_type": "markdown",
   "metadata": {
    "id": "mCpvVjaqqH7O"
   },
   "source": [
    "### (b) Compute Cluster\n",
    "\n",
    "We provide access to a small compute cluster for the exercises and projects, consisting of a login node and 4 compute nodes with one dedicated RTX 3090 GPU each.\n",
    "Please send us a short email with your name and preferred username so we can add you as a user.\n",
    "\n",
    "We uploaded a PDF to Moodle with detailed information on how to access and use the cluster.\n",
    "\n",
    "Since the cluster contains RTX 3000-series GPUs, you will need to install a patched version of pytorch:"
   ]
  },
  {
   "cell_type": "code",
   "execution_count": null,
   "metadata": {
    "ExecuteTime": {
     "end_time": "2023-12-05T19:39:00.902820309Z",
     "start_time": "2023-12-05T19:39:00.899926067Z"
    },
    "id": "jhAnPSLyqH7O"
   },
   "outputs": [],
   "source": [
    "# !pip install torch torchvision --extra-index-url https://download.pytorch.org/whl/cu113"
   ]
  },
  {
   "cell_type": "markdown",
   "metadata": {
    "id": "v-55jOd8qH7O"
   },
   "source": [
    "### (c) Google Colab\n",
    "\n",
    "If you don't have access to a GPU and don't want to use our cluster, you can also use Google Colab. However, we experienced the issue that inline visualization of shapes or inline images didn't work on colab, so just keep that in mind.\n",
    "What you can also do is only train networks on colab, download the checkpoint, and visualize inference locally.\n",
    "\n",
    "In case you're using Google Colab, you can upload the exercise folder (containing `exercise_2.ipynb`, directory `exercise_2` and the file `requirements.txt`) as `3d-machine-learning` to google drive (make sure you don't upload extracted datasets files).\n",
    "Additionally you'd need to open the notebook `exercise_2.ipynb` in Colab using `File > Open Notebook > Upload`.\n",
    "\n",
    "Next you'll need to run these two cells for setting up the environment. Before you do that make sure your instance has a GPU."
   ]
  },
  {
   "cell_type": "code",
   "execution_count": null,
   "metadata": {
    "ExecuteTime": {
     "end_time": "2023-12-05T19:39:00.988383779Z",
     "start_time": "2023-12-05T19:39:00.903046322Z"
    },
    "id": "swicdFnDqH7P"
   },
   "outputs": [],
   "source": [
    "# import os\n",
    "# from google.colab import drive\n",
    "# drive.mount('/content/drive', force_remount=True)\n",
    "\n",
    "# We assume you uploaded the exercise folder in root Google Drive folder\n",
    "\n",
    "# !cp -r /content/drive/MyDrive/3d-machine-learning 3d-machine-learning/\n",
    "# os.chdir('/content/3d-machine-learning/')\n",
    "# print('Installing requirements')\n",
    "# !pip install -r requirements.txt\n",
    "\n",
    "# Make sure you restart runtime when directed by Colab"
   ]
  },
  {
   "cell_type": "code",
   "execution_count": null,
   "metadata": {
    "ExecuteTime": {
     "end_time": "2023-12-05T19:39:00.989185802Z",
     "start_time": "2023-12-05T19:39:00.935299003Z"
    },
    "colab": {
     "base_uri": "https://localhost:8080/"
    },
    "executionInfo": {
     "elapsed": 9671,
     "status": "ok",
     "timestamp": 1701723904734,
     "user": {
      "displayName": "Berfin Kavşut",
      "userId": "14341270727018230240"
     },
     "user_tz": -60
    },
    "id": "MG_WqUOvsldv",
    "outputId": "618acd94-f572-46f7-86a1-ae0c4694ca5e"
   },
   "outputs": [],
   "source": [
    "\"\"\"from google.colab import drive\n",
    "import os\n",
    "\n",
    "gdrive_path='/content/gdrive/MyDrive/ml43d/ml43d-exercises/exercise2'\n",
    "\n",
    "# This will mount your google drive under 'MyDrive'\n",
    "drive.mount('/content/gdrive', force_remount=True)\n",
    "# In order to access the files in this notebook we have to navigate to the correct folder\n",
    "os.chdir(gdrive_path)\n",
    "# Check manually if all files are present\n",
    "print(sorted(os.listdir()))\n",
    "\n",
    "!pip install -r requirements.txt\n",
    "\"\"\""
   ]
  },
  {
   "cell_type": "markdown",
   "metadata": {
    "id": "lLtsyhZdqH7P"
   },
   "source": [
    "Run this cell after restarting your colab runtime"
   ]
  },
  {
   "cell_type": "markdown",
   "metadata": {
    "id": "LcgwiDh-qH7P"
   },
   "source": [
    "---\n",
    "\n",
    "### Imports\n",
    "\n",
    "The following imports should work regardless of whether you are using Colab or local execution."
   ]
  },
  {
   "cell_type": "code",
   "execution_count": 1,
   "metadata": {
    "ExecuteTime": {
     "end_time": "2023-12-05T19:39:02.403835514Z",
     "start_time": "2023-12-05T19:39:00.956229883Z"
    },
    "colab": {
     "base_uri": "https://localhost:8080/"
    },
    "executionInfo": {
     "elapsed": 495,
     "status": "ok",
     "timestamp": 1701723918443,
     "user": {
      "displayName": "Berfin Kavşut",
      "userId": "14341270727018230240"
     },
     "user_tz": -60
    },
    "id": "bJjPXBJOqH7P",
    "outputId": "8b22456b-78c3-4f4c-a96e-cae5ce322246"
   },
   "outputs": [],
   "source": [
    "%load_ext autoreload\n",
    "%autoreload 2\n",
    "from pathlib import Path\n",
    "import numpy as np\n",
    "import matplotlib as plt\n",
    "import k3d\n",
    "import trimesh\n",
    "import torch"
   ]
  },
  {
   "cell_type": "markdown",
   "metadata": {
    "id": "FOz9wco-qH7P"
   },
   "source": [
    "Use the next cell to test whether a GPU was detected by pytorch."
   ]
  },
  {
   "cell_type": "code",
   "execution_count": 2,
   "metadata": {
    "ExecuteTime": {
     "end_time": "2023-12-05T19:39:02.467323740Z",
     "start_time": "2023-12-05T19:39:02.404783930Z"
    },
    "colab": {
     "base_uri": "https://localhost:8080/"
    },
    "executionInfo": {
     "elapsed": 2,
     "status": "ok",
     "timestamp": 1701723918798,
     "user": {
      "displayName": "Berfin Kavşut",
      "userId": "14341270727018230240"
     },
     "user_tz": -60
    },
    "id": "2aHvXjq8qH7Q",
    "outputId": "8c401f3c-38a7-42b9-e257-d6f8e63144a9"
   },
   "outputs": [
    {
     "data": {
      "text/plain": [
       "True"
      ]
     },
     "execution_count": 2,
     "metadata": {},
     "output_type": "execute_result"
    }
   ],
   "source": [
    "torch.cuda.is_available()"
   ]
  },
  {
   "cell_type": "markdown",
   "metadata": {
    "id": "ntPyf5rEqH7Q"
   },
   "source": [
    "## 2.1. ShapeNet Terms of Use\n",
    "\n",
    "We provide pre-processed shapes from the [ShapeNet](//shapenet.org) database for this exercise. ShapeNet is an ongoing effort to establish a richly-annotated, large-scale dataset of 3D shapes and is a collaborative effort between researchers at Princeton, Stanford and TTIC.\n",
    "\n",
    "<img src=\"exercise_2/images/shapenet.png\" alt=\"shapenet\" style=\"width: 512px;\"/>\n",
    "\n",
    "In order to be able to use the data, we ask you to read and agree to their Terms of Use as stated below (this is a requirement for passing this exercise):\n",
    "\n",
    "1. Researcher shall use the Database only for non-commercial research and educational purposes.\n",
    "2. Princeton University and Stanford University make no representations or warranties regarding the Database, including but not limited to warranties of non-infringement or fitness for a particular purpose.\n",
    "3. Researcher accepts full responsibility for his or her use of the Database and shall defend and indemnify Princeton University and Stanford University, including their employees, Trustees, officers and agents, against any and all claims arising from Researcher's use of the Database, including but not limited to Researcher's use of any copies of copyrighted 3D models that he or she may create from the Database.\n",
    "4. Researcher may provide research associates and colleagues with access to the Database provided that they first agree to be bound by these terms and conditions.\n",
    "5. Princeton University and Stanford University reserve the right to terminate Researcher's access to the Database at any time.\n",
    "6. If Researcher is employed by a for-profit, commercial entity, Researcher's employer shall also be bound by these terms and conditions, and Researcher hereby represents that he or she is fully authorized to enter into this agreement on behalf of such employer.\n",
    "7. The law of the State of New Jersey shall apply to all disputes under this agreement.\n",
    "\n",
    "To agree, simply type `I agree to the Terms of Use` in the next code cell."
   ]
  },
  {
   "cell_type": "code",
   "execution_count": null,
   "metadata": {
    "ExecuteTime": {
     "end_time": "2023-12-05T19:39:02.480258211Z",
     "start_time": "2023-12-05T19:39:02.426009374Z"
    },
    "executionInfo": {
     "elapsed": 419,
     "status": "ok",
     "timestamp": 1701723920988,
     "user": {
      "displayName": "Berfin Kavşut",
      "userId": "14341270727018230240"
     },
     "user_tz": -60
    },
    "id": "p4VCro0GqH7Q"
   },
   "outputs": [],
   "source": [
    "# I agree to the Terms of Use"
   ]
  },
  {
   "cell_type": "markdown",
   "metadata": {
    "id": "Lvwi-9tEqH7Q"
   },
   "source": [
    "## 2.2. A simple 3D CNN with pytorch\n",
    "\n",
    "Here, we will create a very simple 3D Convolutional Neural Network on some toy data. This is meant as a quick introduction into the pytorch framework if you haven't used it yet. It will cover everything you need to know for the following parts of the exercise; if you want to go into a bit more detail about the framework, a good place to start is the official [pytorch quickstart tutorial](https://pytorch.org/tutorials/beginner/basics/quickstart_tutorial.html).\n",
    "\n",
    "A very useful resource if you want to know more about a certain class or function are the [official docs](https://pytorch.org/docs/stable/index.html). Take a minute to look at the documentation of a [Tensor](https://pytorch.org/docs/stable/tensors.html?highlight=tensor#torch.Tensor) which is the data structure pytorch uses throughout their APIs. It is comparable to a numpy array, with added functionality such as the ability to move seamlessly between cpu host memory and cuda device memory or the integrated autograd functionality for automatic differentiation. Most importantly, you can create a tensor from a numpy array with `torch.from_numpy(array)` and the other way around with `array = tensor.numpy()`.\n",
    "\n",
    "Our objective with this 3D CNN is to simply classify if a given SDF is containing a sphere or a torus. The data is generated the same way we did it in the last exercise (we randomize the shape parameters a bit so the task is not too trivial). Each such sample has a scalar label associated with it, either 0 or 1, depending on the shape it contains.\n",
    "\n",
    "All of the implementation in this part will take place in `exercise_2/simple_nn.py`. This makes sense for now but note that we would usually spread things over multiple different files like in the following exercise parts.\n",
    "\n",
    "The important bits we need for every training in pytorch are:\n",
    "1. The **dataset** implementation. This is a class responsible for providing the data used by the training procedure sample-by-sample. In its simplest form, it just loads data samples (eg. point clouds or voxel grids) from disk. However, it is usually also used to transform raw data from disk into the correct format and to apply various kinds of augmentations.\n",
    "2. The network definition (\"**model**\") that we want to train. It specifies the network structure (number and type of layers, activation functions, normalization layers etc.) as well as how exactly input data is processed.\n",
    "3. The **loss function**: For classification, this is usually a Cross Entropy Loss; we will also see reconstruction losses like l1 and l2 in exercise 3.\n",
    "4. The **optimizer**: Usually chosen from a set of pre-defined classes like SGD or ADAM.\n",
    "5. The **training loop**: For each batch of data, it does the following: Loads data from the dataloader, passes it through the model (\"forward pass\"), computes the loss, calculates the gradients (\"backward pass\"), and finally, adjusts the network weights using the optimizer.\n",
    "\n",
    "Let's walk through everything step-by-step:"
   ]
  },
  {
   "cell_type": "markdown",
   "metadata": {
    "id": "sYBMv09BqH7R"
   },
   "source": [
    "### (a) Dataset\n",
    "\n",
    "We start by implementing the data source, which is called `Dataset` in pytorch. Take a look at the `SimpleDataset` class, it contains everything we have to implement to make it work:\n",
    "1. The `__init__` function that takes paramters and prepares the dataset by setting paths etc. Here, the one thing you always have to do is to load at least a list of samples you want to use - they don't have to be loaded from disk yet, but you need to know which and how many samples there are. This usually also depends on the current split - you use a different set of samples for training than for validation or testing.\n",
    "2. The `__len__` function that returns the total number of samples. In most cases, this will simply be the length of the list of samples you prepared in `__init__`.\n",
    "3. The `__getitem__` function. This is where the actual dataloading takes place. The function gets an index between 0 and the length you returned with `__len__`. Your job is then to return some data corresponding to the index. You do not need to worry about putting data onto the GPU here yet; instead, you load the data and return a tuple containing numpy arrays and other data like sample ids you might need in your training loop. Overall, you should take the index parameter in this function, find the sample id it belongs to, load that data, and then return it in a format that can be used in the training loop.\n",
    "\n",
    "Note that it is also fine to load all data into a list in the `__init__` function for small datasets like our toy dataset in this exercise part. You would then just index this pre-loaded data in your `__getitem__` function.\n",
    "\n",
    "Add and implement functions `__init__`, `__len__`, and `__getitem__` in class `SimpleDataset`.\n",
    "\n",
    "First, implement `__init__`: It takes a single parameter (called `split`) that determines if we are using train or val split at the moment. Based on that, it should generate toy data: 4096 samples if the split is train and 1024 if it is val. Use `generate_toy_data` from `exercise_2/util/toy_data.py` for this which generates two numpy arrays: The first one containing sphere and torus SDFs generated with randomized parameters and the second one classification labels, a 0 if the corresponding SDF in the first array is a sphere and 1 if it is a torus.\n",
    "\n",
    "Then, implement `__len__` by simply returning the length of the data you generated in `__init__`.\n",
    "\n",
    "Lastly, implement `__getitem__` which takes an integer index and returns a tuple: A numpy array containing the input SDF volume as generated by `generate_toy_data` before and a scalar value that represents the target class label for this volume.\n",
    "\n",
    "Note: You have to add an additional dimension of size 1 to the input volume you return in `__getitem__` to make everything work later on, i.e. instead of returning a numpy array of shape (32, 32, 32), you should return an array of shape (1, 32, 32, 32).\n",
    "\n",
    "Test your implementation with the checks below:"
   ]
  },
  {
   "cell_type": "code",
   "execution_count": 29,
   "metadata": {
    "ExecuteTime": {
     "end_time": "2023-12-05T19:39:05.254328596Z",
     "start_time": "2023-12-05T19:39:02.447904831Z"
    },
    "colab": {
     "base_uri": "https://localhost:8080/"
    },
    "executionInfo": {
     "elapsed": 4253,
     "status": "ok",
     "timestamp": 1701723927084,
     "user": {
      "displayName": "Berfin Kavşut",
      "userId": "14341270727018230240"
     },
     "user_tz": -60
    },
    "id": "Gava5d0LqH7R",
    "outputId": "19b0f351-8601-4279-de72-3ace21112646"
   },
   "outputs": [
    {
     "name": "stdout",
     "output_type": "stream",
     "text": [
      "Generating toy data ...\n",
      "Generating toy data ...\n",
      "Length of train set: 4096\n",
      "Length of val set: 1024\n",
      "(1, 32, 32, 32)\n",
      "Class = 0\n",
      "(1, 32, 32, 32)\n",
      "Class = 1\n"
     ]
    }
   ],
   "source": [
    "from exercise_2.simple_nn import SimpleDataset\n",
    "\n",
    "# Create datasets with train and val splits\n",
    "train_dataset = SimpleDataset('train')\n",
    "val_dataset = SimpleDataset('val')\n",
    "\n",
    "# Test lengths\n",
    "print(f'Length of train set: {len(train_dataset)}')  # expected output: 4096\n",
    "print(f'Length of val set: {len(val_dataset)}')  # expected output: 1024\n",
    "\n",
    "# Get sample at index 0\n",
    "train_sample = train_dataset[0]\n",
    "print(train_sample[0].shape)  # Expected output (1, 32, 32, 32) (the leading 1 is important for later)\n",
    "print(f\"Class = {train_sample[1]}\")  # Expected output: Scalar value 0\n",
    "val_sample = val_dataset[-1]\n",
    "print(val_sample[0].shape)  # Expected output (1, 32, 32, 32) (the leading 1 is important for later)\n",
    "print(f\"Class = {val_sample[1]}\")  # Expected output: Scalar value 1"
   ]
  },
  {
   "cell_type": "code",
   "execution_count": 30,
   "metadata": {
    "ExecuteTime": {
     "end_time": "2023-12-05T19:39:05.409247074Z",
     "start_time": "2023-12-05T19:39:05.254660568Z"
    },
    "colab": {
     "base_uri": "https://localhost:8080/"
    },
    "executionInfo": {
     "elapsed": 4,
     "status": "ok",
     "timestamp": 1701723927084,
     "user": {
      "displayName": "Berfin Kavşut",
      "userId": "14341270727018230240"
     },
     "user_tz": -60
    },
    "id": "2IJ1OCNuqH7R",
    "outputId": "6a4ea532-b606-4587-9b52-4c4e0808d61b"
   },
   "outputs": [
    {
     "name": "stdout",
     "output_type": "stream",
     "text": [
      "(1, 32, 32, 32)\n",
      "Creating SDF visualization for 32^3 grid ...\n",
      "Exported to /home/aleks/ml3d/ml43d-exercises/exercise2/toy_data.ply\n"
     ]
    }
   ],
   "source": [
    "from exercise_2.util.visualization import visualize_sdf\n",
    "\n",
    "train_sample = train_dataset[0]\n",
    "print(train_sample[0].shape)\n",
    "visualize_sdf(train_sample[0].squeeze(0), filename=Path.cwd() / 'toy_data.ply')"
   ]
  },
  {
   "cell_type": "markdown",
   "metadata": {
    "id": "iHPvdDPNqH7S"
   },
   "source": [
    "### (b) Model\n",
    "The model is defined in class `SimpleModel`. Two functions are important here: `__init__` which sets up the architecture by instantiating layers with the correct parameters and adapting them to possible input parameters and `forward` which takes an input tensor (we call it `x` here). The output of `forward` is another tensor that contains the result of the network - in our case, this is a vector of logits which will then be used for classification. It could also be a volume of labels if you do segmentation or a volume of the same size as the input if you do reconstruction.\n",
    "\n",
    "Analogous to `forward`, you could also define a custom `backward` function that describes how to calculate the gradients for your model. However, this is not necessary for most architectures as pytorch's autograd implementation takes care of all of that.\n",
    "\n",
    "For now, we will implement a very simple model: We stack together three 3D Convolution layers and have a fully connected layer at the end for classification. This is a schematic for the overall model structure:\n",
    "<img src=\"exercise_2/images/simplenn.png\" alt=\"simplenn_architecture\" style=\"width: 512px;\"/>\n",
    "\n",
    "Each layer starts with a 3d convolution, followed by a batch normalization layer and a ReLU activation function. We left the implementation of the first layer in there; your task is to fill out the missing parts in `__init__` for layers 2 and 3 (use the same parameters as for the first convolution: kernel size 4, stride 3, padding 1). Each convolution should double the number of feature channels, such that you get a volume of size 16 x 1 x 1 x 1 after layer 3. You also need to define the ReLU and the fully connected layer (for this, use `torch.nn.Linear` to reduce the number of dimensions from 16 to 2).\n",
    "\n",
    "In `forward`, you can repeat the first line to move the input tensor through all three convolutional layers. Then, reshape the resulting tensor to dimension batchsize x 16 (the batch size is always the first dimension) and apply the linear layer to it. Return the result as-is.\n",
    "\n",
    "Hint: The ease of debugging is one of the main reasons why pytorch is preferred in research over alternatives like tensorflow. You can set breakpoints in the `forward` function and watch as the input tensor gets modified by each layer to find bugs or things like wrongly calculated convolution parameters.\n",
    "\n",
    "Use the following sanity checks to verify your model:"
   ]
  },
  {
   "cell_type": "code",
   "execution_count": 31,
   "metadata": {
    "ExecuteTime": {
     "end_time": "2023-12-05T19:39:05.480052248Z",
     "start_time": "2023-12-05T19:39:05.410967748Z"
    },
    "colab": {
     "base_uri": "https://localhost:8080/"
    },
    "executionInfo": {
     "elapsed": 12,
     "status": "ok",
     "timestamp": 1701723932979,
     "user": {
      "displayName": "Berfin Kavşut",
      "userId": "14341270727018230240"
     },
     "user_tz": -60
    },
    "id": "5VGlepWmqH7S",
    "outputId": "c9db5fad-35e5-45c9-9bad-8ae513ec6e26"
   },
   "outputs": [
    {
     "name": "stdout",
     "output_type": "stream",
     "text": [
      "  | Name  | Type        | Params\n",
      "--------------------------------------\n",
      "0 | conv1 | Conv3d      | 260   \n",
      "1 | bn1   | BatchNorm3d | 8     \n",
      "2 | conv2 | Conv3d      | 2056  \n",
      "3 | bn2   | BatchNorm3d | 16    \n",
      "4 | conv3 | Conv3d      | 8208  \n",
      "5 | bn3   | BatchNorm3d | 32    \n",
      "6 | fc    | Linear      | 34    \n",
      "7 | relu  | ReLU        | 0     \n",
      "8 | TOTAL | SimpleModel | 10614 \n",
      "Output tensor shape:  torch.Size([32, 2])\n"
     ]
    }
   ],
   "source": [
    "from exercise_2.simple_nn import SimpleModel\n",
    "from exercise_2.util.model import summarize_model\n",
    "\n",
    "simple_nn = SimpleModel()\n",
    "print(summarize_model(simple_nn))  # Expected: Rows 0-8 and TOTAL = 10614\n",
    "\n",
    "# batch size = 32, voxel grid: (1 x 32 x 32 x 32)\n",
    "# 1 for SDF, e.g. 3 for RGB volumes\n",
    "input_tensor = torch.randn(32, 1, 32, 32, 32)\n",
    "predictions = simple_nn(input_tensor)\n",
    "\n",
    "print('Output tensor shape: ', predictions.shape)  # Expected: torch.Size([32, 2])"
   ]
  },
  {
   "cell_type": "markdown",
   "metadata": {
    "id": "YPVW-OPeqH7S"
   },
   "source": [
    "### (c) Training"
   ]
  },
  {
   "cell_type": "markdown",
   "metadata": {
    "id": "NCOadxzvqH7S"
   },
   "source": [
    "We already laid out most of the code structure you need to start training once you have your dataset and model defined. This code usually does not change much between projects; this is why there exist many different libraries to simplify it even more (you can take a look at pytorch lightning for example if you are interested). We will stick to the standard pytorch way of doing things for these exercises.\n",
    "\n",
    "The most important things left to do are:\n",
    "1. Define the data loaders. They take the samples you provide in your dataset implementation and take care of loading multiple samples in parallel, shuffling the dataset, and combining samples into batches.\n",
    "2. Define a loss function. For classification, this is usually `torch.nn.CrossEntropyLoss`\n",
    "3. Instantiate the optimizer. Mostly, this will be ADAM (`torch.optim.Adam`) unless you have a good reason to use another one.\n",
    "4. Implement the training loop: Get a batch of data from the data loader, move it to the GPU, perform a forward pass, compute the loss, calculate gradients in the backward pass, adjust weights in an optimizer step, repeat.\n",
    "\n",
    "Note: You have to move some stuff to the correct compute device (usually the GPU) by calling `.to(device)`: The model and loss function as well as the data you get from each batch.\n",
    "\n",
    "Take a look at the structure of `main` since you will also use it for the next exercise parts and fill in code in `train` at the blanks marked with TODO. Then, start the training below. For this exercise, we don't care too much about the results since it is a very easy classification task anyways. Your model should be able to get to > 98% validation accuracy, though. You can stop the training once that is the case."
   ]
  },
  {
   "cell_type": "code",
   "execution_count": 33,
   "metadata": {
    "ExecuteTime": {
     "end_time": "2023-12-05T19:39:48.087108814Z",
     "start_time": "2023-12-05T19:39:05.444157385Z"
    },
    "colab": {
     "base_uri": "https://localhost:8080/",
     "height": 1000
    },
    "executionInfo": {
     "elapsed": 34316,
     "status": "error",
     "timestamp": 1701723970117,
     "user": {
      "displayName": "Berfin Kavşut",
      "userId": "14341270727018230240"
     },
     "user_tz": -60
    },
    "id": "ZBBosdatqH7S",
    "outputId": "b270149a-94a5-4ae8-89fd-482df08f0f16",
    "scrolled": true
   },
   "outputs": [
    {
     "name": "stdout",
     "output_type": "stream",
     "text": [
      "Using device: cuda:0\n",
      "Generating toy data ...\n",
      "Generating toy data ...\n",
      "[000/00024] train_loss: 0.489\n",
      "[000/00049] train_loss: 0.368\n",
      "[000/00074] train_loss: 0.272\n",
      "[000/00099] train_loss: 0.213\n",
      "[000/00099] val_loss: 0.192, val_accuracy: 94.629%\n",
      "[000/00124] train_loss: 0.162\n",
      "[001/00021] train_loss: 0.130\n",
      "[001/00046] train_loss: 0.140\n",
      "[001/00071] train_loss: 0.115\n",
      "[001/00071] val_loss: 0.125, val_accuracy: 97.168%\n",
      "[001/00096] train_loss: 0.105\n",
      "[001/00121] train_loss: 0.117\n",
      "[002/00018] train_loss: 0.071\n",
      "[002/00043] train_loss: 0.082\n",
      "[002/00043] val_loss: 0.103, val_accuracy: 97.852%\n",
      "[002/00068] train_loss: 0.113\n",
      "[002/00093] train_loss: 0.104\n",
      "[002/00118] train_loss: 0.096\n",
      "[003/00015] train_loss: 0.051\n",
      "[003/00015] val_loss: 0.085, val_accuracy: 97.266%\n",
      "[003/00040] train_loss: 0.107\n",
      "[003/00065] train_loss: 0.137\n",
      "[003/00090] train_loss: 0.078\n",
      "[003/00115] train_loss: 0.072\n",
      "[003/00115] val_loss: 0.096, val_accuracy: 96.777%\n",
      "[004/00012] train_loss: 0.027\n",
      "[004/00037] train_loss: 0.074\n",
      "[004/00062] train_loss: 0.061\n",
      "[004/00087] train_loss: 0.131\n",
      "[004/00087] val_loss: 0.116, val_accuracy: 97.168%\n",
      "[004/00112] train_loss: 0.063\n",
      "[005/00009] train_loss: 0.030\n",
      "[005/00034] train_loss: 0.068\n",
      "[005/00059] train_loss: 0.065\n",
      "[005/00059] val_loss: 0.059, val_accuracy: 98.145%\n",
      "[005/00084] train_loss: 0.067\n",
      "[005/00109] train_loss: 0.076\n",
      "[006/00006] train_loss: 0.016\n",
      "[006/00031] train_loss: 0.063\n",
      "[006/00031] val_loss: 0.060, val_accuracy: 98.535%\n",
      "[006/00056] train_loss: 0.068\n",
      "[006/00081] train_loss: 0.039\n",
      "[006/00106] train_loss: 0.044\n",
      "[007/00003] train_loss: 0.015\n",
      "[007/00003] val_loss: 0.240, val_accuracy: 92.285%\n",
      "[007/00028] train_loss: 0.090\n",
      "[007/00053] train_loss: 0.040\n",
      "[007/00078] train_loss: 0.054\n",
      "[007/00103] train_loss: 0.055\n",
      "[007/00103] val_loss: 0.052, val_accuracy: 98.535%\n",
      "[008/00000] train_loss: 0.000\n",
      "[008/00025] train_loss: 0.068\n",
      "[008/00050] train_loss: 0.074\n",
      "[008/00075] train_loss: 0.060\n",
      "[008/00075] val_loss: 0.048, val_accuracy: 98.535%\n",
      "[008/00100] train_loss: 0.031\n",
      "[008/00125] train_loss: 0.042\n",
      "[009/00022] train_loss: 0.061\n",
      "[009/00047] train_loss: 0.042\n",
      "[009/00047] val_loss: 0.048, val_accuracy: 98.633%\n",
      "[009/00072] train_loss: 0.048\n",
      "[009/00097] train_loss: 0.049\n",
      "[009/00122] train_loss: 0.051\n",
      "[010/00019] train_loss: 0.024\n",
      "[010/00019] val_loss: 0.039, val_accuracy: 98.926%\n",
      "[010/00044] train_loss: 0.037\n",
      "[010/00069] train_loss: 0.044\n",
      "[010/00094] train_loss: 0.050\n",
      "[010/00119] train_loss: 0.050\n",
      "[010/00119] val_loss: 0.053, val_accuracy: 98.730%\n",
      "[011/00016] train_loss: 0.013\n",
      "[011/00041] train_loss: 0.052\n",
      "[011/00066] train_loss: 0.037\n",
      "[011/00091] train_loss: 0.084\n",
      "[011/00091] val_loss: 0.210, val_accuracy: 92.090%\n",
      "[011/00116] train_loss: 0.211\n",
      "[012/00013] train_loss: 0.069\n",
      "[012/00038] train_loss: 0.076\n",
      "[012/00063] train_loss: 0.064\n",
      "[012/00063] val_loss: 0.050, val_accuracy: 98.730%\n",
      "[012/00088] train_loss: 0.039\n",
      "[012/00113] train_loss: 0.067\n",
      "[013/00010] train_loss: 0.035\n",
      "[013/00035] train_loss: 0.073\n",
      "[013/00035] val_loss: 0.070, val_accuracy: 97.949%\n",
      "[013/00060] train_loss: 0.054\n",
      "[013/00085] train_loss: 0.052\n",
      "[013/00110] train_loss: 0.071\n",
      "[014/00007] train_loss: 0.011\n",
      "[014/00007] val_loss: 0.039, val_accuracy: 99.023%\n",
      "[014/00032] train_loss: 0.048\n",
      "[014/00057] train_loss: 0.052\n",
      "[014/00082] train_loss: 0.035\n",
      "[014/00107] train_loss: 0.033\n",
      "[014/00107] val_loss: 0.061, val_accuracy: 98.438%\n",
      "[015/00004] train_loss: 0.027\n",
      "[015/00029] train_loss: 0.050\n",
      "[015/00054] train_loss: 0.039\n",
      "[015/00079] train_loss: 0.022\n",
      "[015/00079] val_loss: 0.035, val_accuracy: 99.023%\n",
      "[015/00104] train_loss: 0.029\n",
      "[016/00001] train_loss: 0.002\n",
      "[016/00026] train_loss: 0.028\n",
      "[016/00051] train_loss: 0.022\n",
      "[016/00051] val_loss: 0.035, val_accuracy: 99.121%\n",
      "[016/00076] train_loss: 0.038\n",
      "[016/00101] train_loss: 0.046\n",
      "[016/00126] train_loss: 0.047\n",
      "[017/00023] train_loss: 0.055\n",
      "[017/00023] val_loss: 0.153, val_accuracy: 93.848%\n",
      "[017/00048] train_loss: 0.110\n",
      "[017/00073] train_loss: 0.054\n",
      "[017/00098] train_loss: 0.028\n",
      "[017/00123] train_loss: 0.046\n",
      "[017/00123] val_loss: 0.042, val_accuracy: 99.219%\n",
      "[018/00020] train_loss: 0.026\n",
      "[018/00045] train_loss: 0.033\n",
      "[018/00070] train_loss: 0.040\n",
      "[018/00095] train_loss: 0.085\n",
      "[018/00095] val_loss: 0.052, val_accuracy: 98.438%\n",
      "[018/00120] train_loss: 0.040\n",
      "[019/00017] train_loss: 0.062\n",
      "[019/00042] train_loss: 0.108\n",
      "[019/00067] train_loss: 0.030\n",
      "[019/00067] val_loss: 0.037, val_accuracy: 99.023%\n",
      "[019/00092] train_loss: 0.029\n",
      "[019/00117] train_loss: 0.028\n",
      "[020/00014] train_loss: 0.016\n",
      "[020/00039] train_loss: 0.037\n",
      "[020/00039] val_loss: 0.032, val_accuracy: 99.023%\n",
      "[020/00064] train_loss: 0.048\n",
      "[020/00089] train_loss: 0.048\n",
      "[020/00114] train_loss: 0.030\n",
      "[021/00011] train_loss: 0.023\n",
      "[021/00011] val_loss: 0.051, val_accuracy: 98.926%\n",
      "[021/00036] train_loss: 0.053\n",
      "[021/00061] train_loss: 0.062\n",
      "[021/00086] train_loss: 0.036\n",
      "[021/00111] train_loss: 0.019\n",
      "[021/00111] val_loss: 0.027, val_accuracy: 99.121%\n",
      "[022/00008] train_loss: 0.011\n",
      "[022/00033] train_loss: 0.035\n",
      "[022/00058] train_loss: 0.046\n",
      "[022/00083] train_loss: 0.069\n",
      "[022/00083] val_loss: 0.083, val_accuracy: 97.754%\n",
      "[022/00108] train_loss: 0.100\n",
      "[023/00005] train_loss: 0.014\n",
      "[023/00030] train_loss: 0.036\n",
      "[023/00055] train_loss: 0.046\n",
      "[023/00055] val_loss: 0.035, val_accuracy: 99.023%\n",
      "[023/00080] train_loss: 0.025\n",
      "[023/00105] train_loss: 0.035\n",
      "[024/00002] train_loss: 0.001\n",
      "[024/00027] train_loss: 0.023\n",
      "[024/00027] val_loss: 0.030, val_accuracy: 99.219%\n",
      "[024/00052] train_loss: 0.056\n",
      "[024/00077] train_loss: 0.051\n",
      "[024/00102] train_loss: 0.041\n",
      "[024/00127] train_loss: 0.033\n",
      "[024/00127] val_loss: 0.041, val_accuracy: 98.730%\n",
      "[025/00024] train_loss: 0.051\n",
      "[025/00049] train_loss: 0.031\n",
      "[025/00074] train_loss: 0.031\n",
      "[025/00099] train_loss: 0.020\n",
      "[025/00099] val_loss: 0.028, val_accuracy: 99.316%\n",
      "[025/00124] train_loss: 0.022\n",
      "[026/00021] train_loss: 0.023\n",
      "[026/00046] train_loss: 0.028\n",
      "[026/00071] train_loss: 0.046\n",
      "[026/00071] val_loss: 0.160, val_accuracy: 97.168%\n",
      "[026/00096] train_loss: 0.071\n",
      "[026/00121] train_loss: 0.074\n",
      "[027/00018] train_loss: 0.050\n",
      "[027/00043] train_loss: 0.061\n",
      "[027/00043] val_loss: 0.176, val_accuracy: 93.066%\n",
      "[027/00068] train_loss: 0.057\n",
      "[027/00093] train_loss: 0.060\n",
      "[027/00118] train_loss: 0.083\n",
      "[028/00015] train_loss: 0.074\n",
      "[028/00015] val_loss: 0.084, val_accuracy: 98.730%\n",
      "[028/00040] train_loss: 0.063\n",
      "[028/00065] train_loss: 0.054\n",
      "[028/00090] train_loss: 0.052\n",
      "[028/00115] train_loss: 0.030\n",
      "[028/00115] val_loss: 0.042, val_accuracy: 98.730%\n",
      "[029/00012] train_loss: 0.028\n",
      "[029/00037] train_loss: 0.033\n",
      "[029/00062] train_loss: 0.034\n",
      "[029/00087] train_loss: 0.023\n",
      "[029/00087] val_loss: 0.043, val_accuracy: 99.219%\n",
      "[029/00112] train_loss: 0.039\n",
      "[030/00009] train_loss: 0.013\n",
      "[030/00034] train_loss: 0.044\n",
      "[030/00059] train_loss: 0.043\n",
      "[030/00059] val_loss: 0.031, val_accuracy: 99.023%\n",
      "[030/00084] train_loss: 0.029\n",
      "[030/00109] train_loss: 0.033\n",
      "[031/00006] train_loss: 0.013\n",
      "[031/00031] train_loss: 0.034\n",
      "[031/00031] val_loss: 0.027, val_accuracy: 99.219%\n",
      "[031/00056] train_loss: 0.027\n",
      "[031/00081] train_loss: 0.043\n",
      "[031/00106] train_loss: 0.015\n",
      "[032/00003] train_loss: 0.006\n",
      "[032/00003] val_loss: 0.030, val_accuracy: 99.316%\n",
      "[032/00028] train_loss: 0.024\n",
      "[032/00053] train_loss: 0.023\n",
      "[032/00078] train_loss: 0.023\n",
      "[032/00103] train_loss: 0.034\n",
      "[032/00103] val_loss: 0.034, val_accuracy: 99.121%\n",
      "[033/00000] train_loss: 0.001\n",
      "[033/00025] train_loss: 0.020\n",
      "[033/00050] train_loss: 0.029\n",
      "[033/00075] train_loss: 0.023\n",
      "[033/00075] val_loss: 0.023, val_accuracy: 99.414%\n",
      "[033/00100] train_loss: 0.039\n",
      "[033/00125] train_loss: 0.032\n",
      "[034/00022] train_loss: 0.028\n",
      "[034/00047] train_loss: 0.033\n",
      "[034/00047] val_loss: 0.031, val_accuracy: 99.219%\n",
      "[034/00072] train_loss: 0.024\n",
      "[034/00097] train_loss: 0.025\n",
      "[034/00122] train_loss: 0.017\n",
      "[035/00019] train_loss: 0.037\n",
      "[035/00019] val_loss: 0.032, val_accuracy: 99.121%\n",
      "[035/00044] train_loss: 0.056\n",
      "[035/00069] train_loss: 0.042\n",
      "[035/00094] train_loss: 0.043\n",
      "[035/00119] train_loss: 0.051\n",
      "[035/00119] val_loss: 0.047, val_accuracy: 98.926%\n",
      "[036/00016] train_loss: 0.034\n",
      "[036/00041] train_loss: 0.042\n",
      "[036/00066] train_loss: 0.021\n",
      "[036/00091] train_loss: 0.018\n",
      "[036/00091] val_loss: 0.025, val_accuracy: 99.414%\n",
      "[036/00116] train_loss: 0.021\n",
      "[037/00013] train_loss: 0.014\n",
      "[037/00038] train_loss: 0.032\n"
     ]
    },
    {
     "name": "stdout",
     "output_type": "stream",
     "text": [
      "[037/00063] train_loss: 0.024\n",
      "[037/00063] val_loss: 0.029, val_accuracy: 99.219%\n",
      "[037/00088] train_loss: 0.032\n",
      "[037/00113] train_loss: 0.039\n",
      "[038/00010] train_loss: 0.011\n",
      "[038/00035] train_loss: 0.028\n",
      "[038/00035] val_loss: 0.029, val_accuracy: 99.414%\n",
      "[038/00060] train_loss: 0.034\n",
      "[038/00085] train_loss: 0.021\n",
      "[038/00110] train_loss: 0.030\n",
      "[039/00007] train_loss: 0.001\n",
      "[039/00007] val_loss: 0.021, val_accuracy: 99.512%\n",
      "[039/00032] train_loss: 0.026\n",
      "[039/00057] train_loss: 0.024\n",
      "[039/00082] train_loss: 0.026\n",
      "[039/00107] train_loss: 0.032\n",
      "[039/00107] val_loss: 0.022, val_accuracy: 99.316%\n",
      "[040/00004] train_loss: 0.004\n",
      "[040/00029] train_loss: 0.029\n",
      "[040/00054] train_loss: 0.012\n",
      "[040/00079] train_loss: 0.025\n",
      "[040/00079] val_loss: 0.041, val_accuracy: 99.609%\n",
      "[040/00104] train_loss: 0.018\n",
      "[041/00001] train_loss: 0.007\n",
      "[041/00026] train_loss: 0.014\n",
      "[041/00051] train_loss: 0.015\n",
      "[041/00051] val_loss: 0.022, val_accuracy: 99.512%\n",
      "[041/00076] train_loss: 0.026\n",
      "[041/00101] train_loss: 0.038\n",
      "[041/00126] train_loss: 0.038\n",
      "[042/00023] train_loss: 0.026\n",
      "[042/00023] val_loss: 0.037, val_accuracy: 99.121%\n",
      "[042/00048] train_loss: 0.029\n",
      "[042/00073] train_loss: 0.036\n",
      "[042/00098] train_loss: 0.043\n",
      "[042/00123] train_loss: 0.057\n",
      "[042/00123] val_loss: 0.043, val_accuracy: 99.316%\n",
      "[043/00020] train_loss: 0.018\n",
      "[043/00045] train_loss: 0.036\n",
      "[043/00070] train_loss: 0.024\n",
      "[043/00095] train_loss: 0.031\n",
      "[043/00095] val_loss: 0.034, val_accuracy: 99.219%\n",
      "[043/00120] train_loss: 0.041\n",
      "[044/00017] train_loss: 0.020\n",
      "[044/00042] train_loss: 0.016\n",
      "[044/00067] train_loss: 0.027\n",
      "[044/00067] val_loss: 0.030, val_accuracy: 99.512%\n",
      "[044/00092] train_loss: 0.017\n",
      "[044/00117] train_loss: 0.029\n",
      "[045/00014] train_loss: 0.007\n",
      "[045/00039] train_loss: 0.008\n",
      "[045/00039] val_loss: 0.024, val_accuracy: 99.316%\n",
      "[045/00064] train_loss: 0.019\n",
      "[045/00089] train_loss: 0.022\n",
      "[045/00114] train_loss: 0.031\n",
      "[046/00011] train_loss: 0.013\n",
      "[046/00011] val_loss: 0.034, val_accuracy: 99.023%\n",
      "[046/00036] train_loss: 0.028\n",
      "[046/00061] train_loss: 0.057\n",
      "[046/00086] train_loss: 0.032\n",
      "[046/00111] train_loss: 0.023\n",
      "[046/00111] val_loss: 0.031, val_accuracy: 99.316%\n",
      "[047/00008] train_loss: 0.001\n",
      "[047/00033] train_loss: 0.035\n",
      "[047/00058] train_loss: 0.018\n",
      "[047/00083] train_loss: 0.048\n",
      "[047/00083] val_loss: 0.036, val_accuracy: 99.414%\n",
      "[047/00108] train_loss: 0.034\n",
      "[048/00005] train_loss: 0.012\n",
      "[048/00030] train_loss: 0.045\n",
      "[048/00055] train_loss: 0.023\n",
      "[048/00055] val_loss: 0.024, val_accuracy: 99.414%\n",
      "[048/00080] train_loss: 0.025\n",
      "[048/00105] train_loss: 0.029\n",
      "[049/00002] train_loss: 0.001\n",
      "[049/00027] train_loss: 0.029\n",
      "[049/00027] val_loss: 0.026, val_accuracy: 99.512%\n",
      "[049/00052] train_loss: 0.020\n",
      "[049/00077] train_loss: 0.052\n",
      "[049/00102] train_loss: 0.066\n",
      "[049/00127] train_loss: 0.028\n",
      "[049/00127] val_loss: 0.037, val_accuracy: 99.609%\n"
     ]
    }
   ],
   "source": [
    "from exercise_2 import simple_nn\n",
    "\n",
    "config={\n",
    "    'experiment_name': '2_2_simple_nn',\n",
    "    'device': 'cuda:0',  # change this to cpu if you do not have a GPU\n",
    "    'batch_size': 32,\n",
    "    'resume_ckpt': None,\n",
    "    'learning_rate': 0.001,\n",
    "    'max_epochs': 50,\n",
    "    'print_every_n': 25,\n",
    "    'validate_every_n': 100\n",
    "}\n",
    "\n",
    "simple_nn.main(config)  # should have val_accuracy > 99%"
   ]
  },
  {
   "cell_type": "markdown",
   "metadata": {
    "id": "ITOjhrtqqH7S"
   },
   "source": [
    "That's it! In the following parts, we will now move on to more complicated problems and more involved network models."
   ]
  },
  {
   "cell_type": "markdown",
   "metadata": {
    "id": "Q7xA4uZiqH7S"
   },
   "source": [
    "## 2.3. Shape Classification using 3DCNN\n",
    "\n",
    "### (a) Download and extract voxelized ShapeNet training data"
   ]
  },
  {
   "cell_type": "markdown",
   "metadata": {
    "id": "-43gC_x-qH7S"
   },
   "source": [
    "Each folder in the `exercise_2/data/ShapeNetVox32` directory represents a shape category represented by a number, e.g. `02691156`.\n",
    "We provide the mapping between these numbers and the corresponding names in `exercise_2/data/shape_info.json`. Each of these shape category folders contains a number of shapes\n",
    "represented as voxels and stored in a `binvox` format.\n",
    "\n",
    "```\n",
    "# contents of exercise_2/data/ShapeNetVox32\n",
    "\n",
    "02691156/                                   # Shape category folder with all it's shapes\n",
    "    ├── 1a04e3eab45ca15dd86060f189eb133/    # A single shape of the category\n",
    "        ├── model.binvox                    # Voxel representation of the shape in binvox format\n",
    "    ├── 1a6ad7a24bb89733f412783097373bdc/   # Another shape of the category\n",
    "    ├── 1a9b552befd6306cc8f2d5fe7449af61/\n",
    "    ├── :                                   # And so on ...\n",
    "    ├── :\n",
    "02828884/                                   # Another shape category folder\n",
    "02933112/                                   # In total you should have 13 shape category folders\n",
    ":\n",
    ":\n",
    "```"
   ]
  },
  {
   "cell_type": "code",
   "execution_count": null,
   "metadata": {
    "ExecuteTime": {
     "end_time": "2023-12-05T19:40:30.167239249Z",
     "start_time": "2023-12-05T19:39:48.089534568Z"
    },
    "colab": {
     "base_uri": "https://localhost:8080/"
    },
    "executionInfo": {
     "elapsed": 1670303,
     "status": "ok",
     "timestamp": 1701725969029,
     "user": {
      "displayName": "Berfin Kavşut",
      "userId": "14341270727018230240"
     },
     "user_tz": -60
    },
    "id": "0OaLyFUuqH7T",
    "outputId": "c4c286dc-7708-4eed-fc7d-1a04dc4ef3a8"
   },
   "outputs": [],
   "source": [
    "print('Downloading ...')\n",
    "!wget http://cvgl.stanford.edu/data2/ShapeNetVox32.tgz -P exercise_2/data\n",
    "print('Extracting ...')\n",
    "!tar -xzf exercise_2/data/ShapeNetVox32.tgz -C exercise_2/data\n",
    "!rm exercise_2/data/ShapeNetVox32.tgz\n",
    "print('Done.')"
   ]
  },
  {
   "cell_type": "markdown",
   "metadata": {
    "id": "4XPCFH85qH7T"
   },
   "source": [
    "### (b) Dataloading and exploring the data\n",
    "\n",
    "We already provide you with a training and validation split in files `train.txt` and `val.txt` in folder `exercise_2/data/splits/shapenet`.\n",
    "All the shapes in the list `train.txt` make up the training samples, while all the samples in `val.txt` constitute the validation set.\n",
    "Additionally, we provide `overfit.txt` as the set of shapes we'll use for overfitting / debugging later.\n",
    "\n",
    "Now let's write a Pytorch Dataset class that can load this data from the disk. Check out `ShapeNetVox` class in file `exercise_2/data/shapenet.py`\n",
    "for a partial implementation of such a dataset.\n",
    "\n",
    "The dataset class is instantiated with the type of the split, e.g. `train`, `val` or `overfit` and loads all\n",
    "shape names for that split as a list in its member variable `self.items`. The class also provides utility method `get_shape_voxels(shapenet_id)`\n",
    "which given a `shapenet_id` of the form `<shape_class>/<shape_identifier>` returns a 32x32x32 numpy array representing the voxels of the shape.\n",
    "The class also provides a list of all shape categories as the static member `ShapeNetVox.classes`.\n",
    "\n",
    "Your task is to fill out the missing implementations of functions `__getitem__` and `__len__` as specified by their docstrings.\n",
    "Once done, test your implementation below."
   ]
  },
  {
   "cell_type": "code",
   "execution_count": 21,
   "metadata": {
    "ExecuteTime": {
     "end_time": "2023-12-05T19:40:30.237200005Z",
     "start_time": "2023-12-05T19:40:30.167487825Z"
    },
    "executionInfo": {
     "elapsed": 3672,
     "status": "ok",
     "timestamp": 1701723978051,
     "user": {
      "displayName": "Berfin Kavşut",
      "userId": "14341270727018230240"
     },
     "user_tz": -60
    },
    "id": "7G7UUWXBqH7T"
   },
   "outputs": [],
   "source": [
    "from exercise_2.data.shapenet import ShapeNetVox\n",
    "# Let's test your implementation"
   ]
  },
  {
   "cell_type": "code",
   "execution_count": 22,
   "metadata": {
    "ExecuteTime": {
     "end_time": "2023-12-05T19:40:30.344989849Z",
     "start_time": "2023-12-05T19:40:30.220324810Z"
    },
    "colab": {
     "base_uri": "https://localhost:8080/"
    },
    "executionInfo": {
     "elapsed": 455,
     "status": "ok",
     "timestamp": 1701723978505,
     "user": {
      "displayName": "Berfin Kavşut",
      "userId": "14341270727018230240"
     },
     "user_tz": -60
    },
    "id": "Hud7SQQqqH7T",
    "outputId": "2769b9b1-f2d7-493c-b8b0-b8f16875d0b8"
   },
   "outputs": [
    {
     "name": "stdout",
     "output_type": "stream",
     "text": [
      "Length of train set: 21705\n"
     ]
    }
   ],
   "source": [
    "# Create a dataset with train split\n",
    "trainset = ShapeNetVox('train')\n",
    "\n",
    "# Get length, which is a call to __len__ function\n",
    "print(f'Length of train set: {len(trainset)}')  # expected output: 21705"
   ]
  },
  {
   "cell_type": "code",
   "execution_count": 23,
   "metadata": {
    "ExecuteTime": {
     "end_time": "2023-12-05T19:40:30.395513160Z",
     "start_time": "2023-12-05T19:40:30.345194673Z"
    },
    "colab": {
     "base_uri": "https://localhost:8080/"
    },
    "executionInfo": {
     "elapsed": 653,
     "status": "ok",
     "timestamp": 1701723979155,
     "user": {
      "displayName": "Berfin Kavşut",
      "userId": "14341270727018230240"
     },
     "user_tz": -60
    },
    "id": "QLmLVTr7qH7T",
    "outputId": "8083cf00-7105-44ec-8ccd-aeca5811f249"
   },
   "outputs": [
    {
     "name": "stdout",
     "output_type": "stream",
     "text": [
      "Length of validation set: 5426\n"
     ]
    }
   ],
   "source": [
    "# Create a dataset with val split and print its length\n",
    "valset = ShapeNetVox('val')\n",
    "print(f'Length of validation set: {len(valset)}')  # expected output: 5426"
   ]
  },
  {
   "cell_type": "code",
   "execution_count": 24,
   "metadata": {
    "ExecuteTime": {
     "end_time": "2023-12-05T19:40:47.876072643Z",
     "start_time": "2023-12-05T19:40:47.787545435Z"
    },
    "colab": {
     "base_uri": "https://localhost:8080/",
     "height": 584,
     "referenced_widgets": [
      "c31e6301159649aaa36ad6b9b9f8cce1",
      "2280e10bd6224e949130b21e4836f1c1",
      "1c7dcdd227884c53bff767cb1d578d13",
      "0ca249bcbd43434aac6d0b04bc88e8d8"
     ]
    },
    "executionInfo": {
     "elapsed": 37089,
     "status": "ok",
     "timestamp": 1701724018246,
     "user": {
      "displayName": "Berfin Kavşut",
      "userId": "14341270727018230240"
     },
     "user_tz": -60
    },
    "id": "XV7BIYD6qH7T",
    "outputId": "323485f6-6a0c-4a29-a0e3-ac054ea6f1eb"
   },
   "outputs": [
    {
     "name": "stdout",
     "output_type": "stream",
     "text": [
      "Name: 04379243/d120d47f8c9bc5028640bc5712201c4a\n",
      "Voxel Dimensions: (1, 32, 32, 32)\n",
      "Label: 10 | 04379243\n"
     ]
    },
    {
     "data": {
      "application/vnd.jupyter.widget-view+json": {
       "model_id": "d64c414c88bf4e8bae566614b52e551f",
       "version_major": 2,
       "version_minor": 0
      },
      "text/plain": [
       "Output()"
      ]
     },
     "metadata": {},
     "output_type": "display_data"
    }
   ],
   "source": [
    "# Visualize some shapes\n",
    "from exercise_2.util.visualization import visualize_occupancy\n",
    "\n",
    "shape_data = trainset[0]\n",
    "print(f'Name: {shape_data[\"name\"]}')  # expected output: 04379243/d120d47f8c9bc5028640bc5712201c4a\n",
    "print(f'Voxel Dimensions: {shape_data[\"voxel\"].shape}')  # expected output: (1, 32, 32, 32)\n",
    "print(f'Label: {shape_data[\"label\"]} | {ShapeNetVox.classes[shape_data[\"label\"]]}')  # expected output: 10, 04379243\n",
    "\n",
    "visualize_occupancy(shape_data[\"voxel\"].squeeze(), flip_axes=True)"
   ]
  },
  {
   "cell_type": "code",
   "execution_count": 25,
   "metadata": {
    "ExecuteTime": {
     "end_time": "2023-12-05T19:40:53.750123662Z",
     "start_time": "2023-12-05T19:40:53.665888174Z"
    },
    "colab": {
     "base_uri": "https://localhost:8080/",
     "height": 584,
     "referenced_widgets": [
      "0c9a28680ad948fcbcd84447249adedf",
      "5047c7a6340847d881f0da803b4f75dd",
      "979e4e552e2c4c74adc58e8bf4481652",
      "3b51fa19699d4c50997a1126d5c1b1eb"
     ]
    },
    "executionInfo": {
     "elapsed": 9969,
     "status": "ok",
     "timestamp": 1701724028212,
     "user": {
      "displayName": "Berfin Kavşut",
      "userId": "14341270727018230240"
     },
     "user_tz": -60
    },
    "id": "yvU51CcBqH7T",
    "outputId": "22cb7bb8-de46-4794-9414-51b676a3fe5a"
   },
   "outputs": [
    {
     "name": "stdout",
     "output_type": "stream",
     "text": [
      "Name: 03211117/edfc3a8ecc5b07e9feb0fb1dff94c98a\n",
      "Voxel Dimensions: (1, 32, 32, 32)\n",
      "Label: 5 | 03211117\n"
     ]
    },
    {
     "data": {
      "application/vnd.jupyter.widget-view+json": {
       "model_id": "d79a379ec4594102ac00fc5757c92288",
       "version_major": 2,
       "version_minor": 0
      },
      "text/plain": [
       "Output()"
      ]
     },
     "metadata": {},
     "output_type": "display_data"
    }
   ],
   "source": [
    "shape_data = trainset[7]\n",
    "print(f'Name: {shape_data[\"name\"]}')  # expected output: 03211117/edfc3a8ecc5b07e9feb0fb1dff94c98a\n",
    "print(f'Voxel Dimensions: {shape_data[\"voxel\"].shape}')  # expected output: (1, 32, 32, 32)\n",
    "print(f'Label: {shape_data[\"label\"]} | {ShapeNetVox.classes[shape_data[\"label\"]]}')  # expected output: 5, 03211117\n",
    "\n",
    "visualize_occupancy(shape_data[\"voxel\"].squeeze(), flip_axes=True)"
   ]
  },
  {
   "cell_type": "markdown",
   "metadata": {
    "id": "gkihkMTcqH7T"
   },
   "source": [
    "### (c) Defining the model\n",
    "\n",
    "We'll be using the 3DCNN model introduced by Qi et al.[1] to classify shapes. In particular, we'll be using\n",
    "the \"Auxiliary Training by Subvolume Supervision\" model presented in `Section 4.2` / `Fig. 3` of the paper.\n",
    "\n",
    "<img src=\"exercise_2/images/3dcnn.png\" alt=\"3dcnn_architecture\" style=\"width: 1024px;\"/>\n",
    "\n",
    "Fill in the model implementation of `MLPConv` and `ThreeDeeCNN`(which would use `MLPConv` layers) in the file `exercise_2/model/cnn3d.py`.\n",
    "Since the 3DCNN model predicts 9 labels for each samples (1 global + 8 local), we expect the output tensor to be of the shape `(B, 9, N_cls)` where `B` is the batch size, `N_cls` are number of classes (13 in our case).\n",
    "This means that the global and auxilary parts of the network output a score per class.\n",
    "\n",
    "Here are some basic sanity tests for your implemetation."
   ]
  },
  {
   "cell_type": "code",
   "execution_count": 26,
   "metadata": {
    "ExecuteTime": {
     "end_time": "2023-12-05T19:40:56.595598147Z",
     "start_time": "2023-12-05T19:40:56.409343354Z"
    },
    "colab": {
     "base_uri": "https://localhost:8080/"
    },
    "executionInfo": {
     "elapsed": 442,
     "status": "ok",
     "timestamp": 1701724101469,
     "user": {
      "displayName": "Berfin Kavşut",
      "userId": "14341270727018230240"
     },
     "user_tz": -60
    },
    "id": "BLLRc-beqH7U",
    "outputId": "79a6f86f-8d3e-4dca-b621-c2ee39f94605"
   },
   "outputs": [
    {
     "name": "stdout",
     "output_type": "stream",
     "text": [
      "   | Name                   | Type        | Params  \n",
      "----------------------------------------------------------\n",
      "0  | backbone               | Sequential  | 3764464 \n",
      "1  | backbone.0             | MLPConv     | 15120   \n",
      "2  | backbone.0.model       | Sequential  | 15120   \n",
      "3  | backbone.0.model.conv1 | Conv3d      | 10416   \n",
      "4  | backbone.0.model.relu1 | ReLU        | 0       \n",
      "5  | backbone.0.model.conv2 | Conv3d      | 2352    \n",
      "6  | backbone.0.model.relu2 | ReLU        | 0       \n",
      "7  | backbone.0.model.conv3 | Conv3d      | 2352    \n",
      "8  | backbone.0.model.relu3 | ReLU        | 0       \n",
      "9  | backbone.1             | MLPConv     | 1011680 \n",
      "10 | backbone.1.model       | Sequential  | 1011680 \n",
      "11 | backbone.1.model.conv1 | Conv3d      | 960160  \n",
      "12 | backbone.1.model.relu1 | ReLU        | 0       \n",
      "13 | backbone.1.model.conv2 | Conv3d      | 25760   \n",
      "14 | backbone.1.model.relu2 | ReLU        | 0       \n",
      "15 | backbone.1.model.conv3 | Conv3d      | 25760   \n",
      "16 | backbone.1.model.relu3 | ReLU        | 0       \n",
      "17 | backbone.2             | MLPConv     | 2737664 \n",
      "18 | backbone.2.model       | Sequential  | 2737664 \n",
      "19 | backbone.2.model.conv1 | Conv3d      | 2212352 \n",
      "20 | backbone.2.model.relu1 | ReLU        | 0       \n",
      "21 | backbone.2.model.conv2 | Conv3d      | 262656  \n",
      "22 | backbone.2.model.relu2 | ReLU        | 0       \n",
      "23 | backbone.2.model.conv3 | Conv3d      | 262656  \n",
      "24 | backbone.2.model.relu3 | ReLU        | 0       \n",
      "25 | partial_predictors     | ModuleList  | 53352   \n",
      "26 | partial_predictors.0   | Linear      | 6669    \n",
      "27 | partial_predictors.1   | Linear      | 6669    \n",
      "28 | partial_predictors.2   | Linear      | 6669    \n",
      "29 | partial_predictors.3   | Linear      | 6669    \n",
      "30 | partial_predictors.4   | Linear      | 6669    \n",
      "31 | partial_predictors.5   | Linear      | 6669    \n",
      "32 | partial_predictors.6   | Linear      | 6669    \n",
      "33 | partial_predictors.7   | Linear      | 6669    \n",
      "34 | full_predictor         | Sequential  | 12613645\n",
      "35 | full_predictor.0       | Linear      | 8390656 \n",
      "36 | full_predictor.1       | ReLU        | 0       \n",
      "37 | full_predictor.2       | Linear      | 4196352 \n",
      "38 | full_predictor.3       | ReLU        | 0       \n",
      "39 | full_predictor.4       | Linear      | 26637   \n",
      "40 | TOTAL                  | ThreeDeeCNN | 16431461\n",
      "Output tensor shape:  torch.Size([8, 9, 13])\n",
      "Number of traininable params: 16.43M\n"
     ]
    }
   ],
   "source": [
    "from exercise_2.model.cnn3d import ThreeDeeCNN\n",
    "from exercise_2.util.model import summarize_model\n",
    "\n",
    "cnn3d = ThreeDeeCNN(13)\n",
    "print(summarize_model(cnn3d))  # Expected: Rows 0-40 and TOTAL = 16431461\n",
    "\n",
    "input_tensor = torch.randn(8, 1, 32, 32, 32)\n",
    "predictions = cnn3d(input_tensor)\n",
    "\n",
    "print('Output tensor shape: ', predictions.shape)  # expected output: 8, 9, 13\n",
    "\n",
    "num_trainable_params = sum(p.numel() for p in cnn3d.parameters() if p.requires_grad) / 1e6\n",
    "print(f'Number of traininable params: {num_trainable_params:.2f}M')  # expected output: ~16M"
   ]
  },
  {
   "cell_type": "code",
   "execution_count": null,
   "metadata": {
    "ExecuteTime": {
     "start_time": "2023-12-05T19:40:30.505104539Z"
    },
    "id": "oOiYUggzKgpW"
   },
   "outputs": [],
   "source": [
    "# 35 | full_predictor.0 | Linear | 8390656  => weight(512*2*2*2*2048) + bias(2048)"
   ]
  },
  {
   "cell_type": "code",
   "execution_count": null,
   "metadata": {
    "ExecuteTime": {
     "start_time": "2023-12-05T19:40:30.505364406Z"
    },
    "id": "1CkdICdDLPyu"
   },
   "outputs": [],
   "source": [
    "# 37 | full_predictor.2 | Linear | 4196352 => (2048*2048 + 2048)"
   ]
  },
  {
   "cell_type": "markdown",
   "metadata": {
    "id": "Qzo4i6hnqH7V"
   },
   "source": [
    "### (d) Training Script\n",
    "\n",
    "Now that we have the dataset class and the model class, we just need a training script\n",
    "that trains the model using data from train dataset and evaluates the model's validation\n",
    "performance during training. A partial script is provided in `exercise_2/training/train_3dcnn.py`.\n",
    "Fill in the missing blocks to make the training work."
   ]
  },
  {
   "cell_type": "markdown",
   "metadata": {
    "id": "Dm4dnsGIqH7V"
   },
   "source": [
    "### (e) Overfitting to a few samples\n",
    "Before training on entire data, it is usually a good idea to try training on a small subset of data,\n",
    "to see if your model can do forward and backward passes without any errors, your metrics work, and that you model can\n",
    "overfit with a very low error on this small set."
   ]
  },
  {
   "cell_type": "code",
   "execution_count": null,
   "metadata": {
    "ExecuteTime": {
     "end_time": "2023-12-05T19:44:21.265048804Z",
     "start_time": "2023-12-05T19:41:30.020074546Z"
    },
    "colab": {
     "base_uri": "https://localhost:8080/"
    },
    "executionInfo": {
     "elapsed": 41234,
     "status": "ok",
     "timestamp": 1701726010260,
     "user": {
      "displayName": "Berfin Kavşut",
      "userId": "14341270727018230240"
     },
     "user_tz": -60
    },
    "id": "hek1kPCFqH7V",
    "outputId": "3b974f47-d4ed-4e01-f4b1-2f644f12579d"
   },
   "outputs": [],
   "source": [
    "from exercise_2.training import train_3dcnn\n",
    "config = {\n",
    "    'experiment_name': '2_3_3dcnn_overfitting',\n",
    "    'device': 'cuda:0',                      # change this to cpu if you do not have a GPU\n",
    "    'is_overfit': True,                      # True since we're doing overfitting\n",
    "    'batch_size': 16,\n",
    "    'resume_ckpt': None,\n",
    "    'learning_rate': 0.0005,\n",
    "    'max_epochs': 100,\n",
    "    'print_every_n': 100,\n",
    "    'validate_every_n': 100,\n",
    "}\n",
    "\n",
    "train_3dcnn.main(config)  # should be able to get ~0 loss, 100% accuracy"
   ]
  },
  {
   "cell_type": "markdown",
   "metadata": {
    "id": "amRW-pTXqH7a"
   },
   "source": [
    "### (f) Training over the entire training set\n",
    "If the overfitting works, we can go ahead with training on the entire dataset."
   ]
  },
  {
   "cell_type": "code",
   "execution_count": 28,
   "metadata": {
    "ExecuteTime": {
     "start_time": "2023-12-05T19:46:24.345662035Z"
    },
    "colab": {
     "base_uri": "https://localhost:8080/"
    },
    "id": "rEMw9cMSqH7b",
    "is_executing": true,
    "outputId": "dd365216-0b1f-4182-9f02-936083889b43",
    "scrolled": true
   },
   "outputs": [
    {
     "name": "stdout",
     "output_type": "stream",
     "text": [
      "Using device: cuda:0\n",
      "[000/00099] train_loss: 20.801\n",
      "[000/00199] train_loss: 14.289\n",
      "[000/00249] val_loss: 0.807, val_accuracy: 72.576%\n",
      "[000/00299] train_loss: 9.907\n",
      "[000/00399] train_loss: 7.304\n",
      "[000/00499] train_loss: 6.314\n",
      "[000/00499] val_loss: 0.510, val_accuracy: 84.998%\n",
      "[000/00599] train_loss: 5.946\n",
      "[000/00699] train_loss: 5.193\n",
      "[000/00749] val_loss: 0.397, val_accuracy: 87.136%\n",
      "[000/00799] train_loss: 4.767\n",
      "[000/00899] train_loss: 4.401\n",
      "[000/00999] train_loss: 4.633\n",
      "[000/00999] val_loss: 0.380, val_accuracy: 87.136%\n",
      "[000/01099] train_loss: 4.103\n",
      "[000/01199] train_loss: 4.473\n",
      "[000/01249] val_loss: 0.347, val_accuracy: 88.150%\n",
      "[000/01299] train_loss: 3.971\n",
      "[001/00042] train_loss: 3.888\n",
      "[001/00142] train_loss: 3.622\n",
      "[001/00142] val_loss: 0.345, val_accuracy: 88.555%\n",
      "[001/00242] train_loss: 3.514\n",
      "[001/00342] train_loss: 3.419\n",
      "[001/00392] val_loss: 0.334, val_accuracy: 89.440%\n",
      "[001/00442] train_loss: 3.868\n",
      "[001/00542] train_loss: 3.503\n",
      "[001/00642] train_loss: 3.202\n",
      "[001/00642] val_loss: 0.323, val_accuracy: 88.574%\n",
      "[001/00742] train_loss: 3.552\n",
      "[001/00842] train_loss: 3.718\n",
      "[001/00892] val_loss: 0.320, val_accuracy: 90.011%\n",
      "[001/00942] train_loss: 3.110\n",
      "[001/01042] train_loss: 3.095\n",
      "[001/01142] train_loss: 3.358\n",
      "[001/01142] val_loss: 0.285, val_accuracy: 90.601%\n",
      "[001/01242] train_loss: 3.568\n",
      "[001/01342] train_loss: 3.301\n",
      "[002/00035] val_loss: 0.282, val_accuracy: 90.822%\n",
      "[002/00085] train_loss: 3.178\n",
      "[002/00185] train_loss: 3.056\n",
      "[002/00285] train_loss: 3.074\n",
      "[002/00285] val_loss: 0.271, val_accuracy: 90.988%\n",
      "[002/00385] train_loss: 3.160\n",
      "[002/00485] train_loss: 2.841\n",
      "[002/00535] val_loss: 0.257, val_accuracy: 91.743%\n",
      "[002/00585] train_loss: 3.060\n",
      "[002/00685] train_loss: 2.843\n",
      "[002/00785] train_loss: 3.118\n",
      "[002/00785] val_loss: 0.282, val_accuracy: 90.914%\n",
      "[002/00885] train_loss: 2.723\n",
      "[002/00985] train_loss: 2.952\n",
      "[002/01035] val_loss: 0.262, val_accuracy: 91.283%\n",
      "[002/01085] train_loss: 2.853\n",
      "[002/01185] train_loss: 2.869\n",
      "[002/01285] train_loss: 2.825\n",
      "[002/01285] val_loss: 0.257, val_accuracy: 91.707%\n",
      "[003/00028] train_loss: 2.511\n",
      "[003/00128] train_loss: 3.052\n",
      "[003/00178] val_loss: 0.257, val_accuracy: 91.504%\n",
      "[003/00228] train_loss: 2.770\n",
      "[003/00328] train_loss: 2.637\n",
      "[003/00428] train_loss: 2.273\n",
      "[003/00428] val_loss: 0.253, val_accuracy: 91.578%\n",
      "[003/00528] train_loss: 2.682\n",
      "[003/00628] train_loss: 2.595\n",
      "[003/00678] val_loss: 0.251, val_accuracy: 91.762%\n",
      "[003/00728] train_loss: 2.501\n",
      "[003/00828] train_loss: 2.307\n",
      "[003/00928] train_loss: 2.797\n",
      "[003/00928] val_loss: 0.249, val_accuracy: 92.296%\n",
      "[003/01028] train_loss: 2.401\n",
      "[003/01128] train_loss: 2.800\n",
      "[003/01178] val_loss: 0.238, val_accuracy: 92.204%\n",
      "[003/01228] train_loss: 2.722\n",
      "[003/01328] train_loss: 2.644\n",
      "[004/00071] train_loss: 2.522\n",
      "[004/00071] val_loss: 0.245, val_accuracy: 92.315%\n",
      "[004/00171] train_loss: 2.110\n",
      "[004/00271] train_loss: 2.600\n",
      "[004/00321] val_loss: 0.236, val_accuracy: 92.499%\n",
      "[004/00371] train_loss: 2.194\n",
      "[004/00471] train_loss: 2.519\n",
      "[004/00571] train_loss: 2.251\n",
      "[004/00571] val_loss: 0.231, val_accuracy: 92.628%\n",
      "[004/00671] train_loss: 2.514\n",
      "[004/00771] train_loss: 2.386\n",
      "[004/00821] val_loss: 0.232, val_accuracy: 92.370%\n",
      "[004/00871] train_loss: 2.270\n",
      "[004/00971] train_loss: 2.475\n",
      "[004/01071] train_loss: 2.628\n",
      "[004/01071] val_loss: 0.220, val_accuracy: 92.794%\n",
      "[004/01171] train_loss: 2.160\n",
      "[004/01271] train_loss: 2.286\n",
      "[004/01321] val_loss: 0.234, val_accuracy: 92.167%\n"
     ]
    }
   ],
   "source": [
    "from exercise_2.training import train_3dcnn\n",
    "config = {\n",
    "    'experiment_name': '2_3_3dcnn_generalization',\n",
    "    'device': 'cuda:0',                     # change this to cpu if you do not have a GPU\n",
    "    'is_overfit': False,\n",
    "    'batch_size': 16,\n",
    "    'resume_ckpt': None,\n",
    "    'learning_rate': 0.0005,\n",
    "    'max_epochs': 5,\n",
    "    'print_every_n': 100,\n",
    "    'validate_every_n': 250,\n",
    "}\n",
    "\n",
    "train_3dcnn.main(config)                    # should have accuracy > 88% on val set"
   ]
  },
  {
   "cell_type": "markdown",
   "metadata": {
    "id": "Behi3z6XqH7b"
   },
   "source": [
    "### (g) Inference using the trained model\n",
    "\n",
    "We would now like to make shape category inference given shapes from validation set.\n",
    "Implement the function `infer_single` of class `InferenceHandler3DCNN` in file `exercise_2/inference/infer_3dcnn.py` such that it returns the\n",
    "shape category name predicted by the model given its numpy voxel representation (32x32x32). Note that the network predicts a label in range [0, 12],\n",
    "which can be mapped to a class ID (e.g. 03001627) using `ShapeNetVox.classes` which can further be mapped to a category name (e.g. chair for 03001627) using\n",
    "`ShapeNetVox.class_name_mapping`."
   ]
  },
  {
   "cell_type": "code",
   "execution_count": 46,
   "metadata": {
    "ExecuteTime": {
     "start_time": "2023-12-05T19:46:21.669594745Z"
    },
    "colab": {
     "base_uri": "https://localhost:8080/",
     "height": 403
    },
    "executionInfo": {
     "elapsed": 6,
     "status": "error",
     "timestamp": 1701728562521,
     "user": {
      "displayName": "Berfin Kavşut",
      "userId": "14341270727018230240"
     },
     "user_tz": -60
    },
    "id": "zFXd7VoTqH7b",
    "outputId": "07b76774-8e51-4603-9d41-7cd58b062741"
   },
   "outputs": [],
   "source": [
    "from exercise_2.inference.infer_3dcnn import InferenceHandler3DCNN\n",
    "\n",
    "# create a handler for inference using a trained checkpoint\n",
    "inferer = InferenceHandler3DCNN('exercise_2/runs/2_3_3dcnn_generalization/model_best.ckpt')"
   ]
  },
  {
   "cell_type": "code",
   "execution_count": 47,
   "metadata": {
    "ExecuteTime": {
     "end_time": "2023-12-05T19:46:21.718539663Z",
     "start_time": "2023-12-05T19:46:21.681450523Z"
    },
    "id": "coK8NUB3qH7b"
   },
   "outputs": [
    {
     "data": {
      "application/vnd.jupyter.widget-view+json": {
       "model_id": "c81994dfbf35453090c19124d0385ea9",
       "version_major": 2,
       "version_minor": 0
      },
      "text/plain": [
       "Output()"
      ]
     },
     "metadata": {},
     "output_type": "display_data"
    }
   ],
   "source": [
    "# get shape voxels and visualize\n",
    "shape_voxels = ShapeNetVox.get_shape_voxels('03001627/f913501826c588e89753496ba23f2183')\n",
    "visualize_occupancy(shape_voxels, flip_axes=True)"
   ]
  },
  {
   "cell_type": "code",
   "execution_count": 48,
   "metadata": {
    "ExecuteTime": {
     "start_time": "2023-12-05T19:46:21.695849754Z"
    },
    "id": "YrmcUYNXqH7b"
   },
   "outputs": [
    {
     "name": "stdout",
     "output_type": "stream",
     "text": [
      "Predicted category: chair\n"
     ]
    }
   ],
   "source": [
    "# predict category\n",
    "print('Predicted category:', inferer.infer_single(shape_voxels))  # expected output: chair"
   ]
  },
  {
   "cell_type": "code",
   "execution_count": 49,
   "metadata": {
    "ExecuteTime": {
     "start_time": "2023-12-05T19:46:21.743121546Z"
    },
    "id": "Adfbl4ibqH7b"
   },
   "outputs": [
    {
     "data": {
      "application/vnd.jupyter.widget-view+json": {
       "model_id": "d03da2ca615e4031b5b0633bdf8871a3",
       "version_major": 2,
       "version_minor": 0
      },
      "text/plain": [
       "Output()"
      ]
     },
     "metadata": {},
     "output_type": "display_data"
    }
   ],
   "source": [
    "# get shape voxels and visualize\n",
    "shape_voxels = ShapeNetVox.get_shape_voxels('02691156/6af4383123972f2262b600da24e0965')\n",
    "visualize_occupancy(shape_voxels, flip_axes=True)"
   ]
  },
  {
   "cell_type": "code",
   "execution_count": 50,
   "metadata": {
    "ExecuteTime": {
     "end_time": "2023-12-05T19:46:21.757608584Z",
     "start_time": "2023-12-05T19:46:21.743529593Z"
    },
    "id": "r-6TYwRvqH7b"
   },
   "outputs": [
    {
     "name": "stdout",
     "output_type": "stream",
     "text": [
      "Predicted category: airplane\n"
     ]
    }
   ],
   "source": [
    "# predict category\n",
    "print('Predicted category:', inferer.infer_single(shape_voxels))"
   ]
  },
  {
   "cell_type": "code",
   "execution_count": 51,
   "metadata": {
    "ExecuteTime": {
     "start_time": "2023-12-05T19:46:21.743805228Z"
    },
    "id": "t5dOOjSDqH7b"
   },
   "outputs": [
    {
     "data": {
      "application/vnd.jupyter.widget-view+json": {
       "model_id": "cb9c3fd6f0404dbf9446acbe79c988fe",
       "version_major": 2,
       "version_minor": 0
      },
      "text/plain": [
       "Output()"
      ]
     },
     "metadata": {},
     "output_type": "display_data"
    }
   ],
   "source": [
    "# get shape voxels and visualize\n",
    "shape_voxels = ShapeNetVox.get_shape_voxels('04090263/eae96ddf483e896c805d3d8e378d155e')\n",
    "visualize_occupancy(shape_voxels, flip_axes=True)"
   ]
  },
  {
   "cell_type": "code",
   "execution_count": 52,
   "metadata": {
    "ExecuteTime": {
     "start_time": "2023-12-05T19:46:21.744052188Z"
    },
    "id": "IClryizHqH7b"
   },
   "outputs": [
    {
     "name": "stdout",
     "output_type": "stream",
     "text": [
      "Predicted category: rifle\n"
     ]
    }
   ],
   "source": [
    "# predict category\n",
    "print('Predicted category:', inferer.infer_single(shape_voxels))"
   ]
  },
  {
   "cell_type": "markdown",
   "metadata": {
    "id": "glYtVFHYqH7b"
   },
   "source": [
    "Make sure you submit the trained model `exercise_2/runs/2_3_3dcnn_generalization/model_best.ckpt` in your zip\n",
    "so that we can evaluate it on the test set at our end."
   ]
  },
  {
   "cell_type": "markdown",
   "metadata": {
    "id": "OorOBvp_qH7c"
   },
   "source": [
    "## 2.4. Shape Classification using PointNet"
   ]
  },
  {
   "cell_type": "markdown",
   "metadata": {
    "id": "0KlbHtRzqH7c"
   },
   "source": [
    "The approach you used above works very well when there is voxelized data available. However, many applications require that points are used instead and voxelizing them every time is cumbersome and might lead to unexpected artifacts.\n",
    "\n",
    "This is where PointNet [2] is very useful: It directly takes in a set of points and can perform both classification and semantic segmentation without the need for any gridification or other form of conversion.\n",
    "\n",
    "You already heard a lot about the approach and architecture in the lecture; here, our goal is to create an implementation of it from scratch and try it out on some ShapeNet data."
   ]
  },
  {
   "cell_type": "markdown",
   "metadata": {
    "id": "R9M62T-9qH7c"
   },
   "source": [
    "### (a) Download and prepare the ShapeNetPointClouds dataset\n",
    "We generated point clouds from ShapeNet meshes via uniform sampling. Each point cloud contains 1024 xyz points.\n",
    "\n",
    "The data layout is basically the same as in 2.3.:\n",
    "Each folder in the `exercise_2/data/ShapeNetPointClouds` directory contains one shape category represented by a number, e.g. `02691156`.\n",
    "We provide the mapping between these numbers and the corresponding names in `exercise_2/data/shape_info.json`. Each of these shape category folders contains a number of shapes in obj format.\n",
    "\n",
    "```\n",
    "# contents of exercise_2/data/ShapeNetPointClouds\n",
    "\n",
    "02691156/                                      # Shape category folder with all its shapes\n",
    "    ├── 1a04e3eab45ca15dd86060f189eb133.obj    # A single shape of the category\n",
    "    ├── 1a6ad7a24bb89733f412783097373bdc.obj   # Another shape of the category\n",
    "    ├── :                                      # And so on ...\n",
    "    ├── :\n",
    "02828884/                                      # Another shape category folder\n",
    "02933112/                                      # In total you should have 13 shape category folders\n",
    ":\n",
    ":\n",
    "```"
   ]
  },
  {
   "cell_type": "code",
   "execution_count": null,
   "metadata": {
    "ExecuteTime": {
     "start_time": "2023-12-05T19:46:21.744314848Z"
    },
    "id": "BaS1veNIqH7c",
    "scrolled": true
   },
   "outputs": [],
   "source": [
    "print('Downloading ...')\n",
    "!wget http://kaldir.vc.in.tum.de/cdiller/ShapeNetPointClouds.zip -P exercise_2/data\n",
    "print('Extracting ...')\n",
    "!unzip -q exercise_2/data/ShapeNetPointClouds.zip -d exercise_2/data\n",
    "!rm exercise_2/data/ShapeNetPointClouds.zip\n",
    "print('Done.')\n"
   ]
  },
  {
   "cell_type": "markdown",
   "metadata": {
    "id": "O0UdwmoDqH7c"
   },
   "source": [
    "### (b) Dataset implementation\n",
    "\n",
    "You can use the same split setup as in 2.3: `overfit.txt` for overfitting, `train.txt` for the train samples, and `val.txt` for the val samples in folder `exercise_2/data/splits/shapenet`.\n",
    "\n",
    "The dataset implementation will therefore be very similar to the one from 2.3: Fill out the missing implementations of functions `__getitem__` and `__len__` in class `ShapeNetPoints` in `exercise_2/data/shapenet.py`.\n",
    "\n",
    "The major difference is how the actual data is loaded: We don't have regular voxel grids anymore and instead load arrays of 1024 points each. In `__getitem__`, we now return 'points' instead of 'voxel' and for loading the point clouds, we use `get_point_cloud` instead of `get_shape_voxels`. You can load the point cloud data either by hand (since it is in the same obj format you used in exercise 1) or simply use `trimesh.load`. The point clouds you return from `__getitem__` should have shape 3 x 1024 and datatype `np.float32`.\n",
    "\n",
    "Otherwise, the implementation is very much the same as in 2.3. Once done, test your implementation below."
   ]
  },
  {
   "cell_type": "code",
   "execution_count": 12,
   "metadata": {
    "ExecuteTime": {
     "start_time": "2023-12-05T19:46:21.744605071Z"
    },
    "id": "vYsM3K6aqH7c"
   },
   "outputs": [
    {
     "name": "stdout",
     "output_type": "stream",
     "text": [
      "Length of train set: 21705\n",
      "Length of val set: 5426\n",
      "Length of overfit set: 64\n"
     ]
    }
   ],
   "source": [
    "from exercise_2.data.shapenet import ShapeNetPoints\n",
    "\n",
    "# Create a dataset with train split\n",
    "train_dataset = ShapeNetPoints('train')\n",
    "val_dataset = ShapeNetPoints('val')\n",
    "overfit_dataset = ShapeNetPoints('overfit')\n",
    "\n",
    "# Get length, which is a call to __len__ function\n",
    "print(f'Length of train set: {len(train_dataset)}')  # expected output: 21705\n",
    "# Get length, which is a call to __len__ function\n",
    "print(f'Length of val set: {len(val_dataset)}')  # expected output: 5426\n",
    "# Get length, which is a call to __len__ function\n",
    "print(f'Length of overfit set: {len(overfit_dataset)}')  # expected output: 64"
   ]
  },
  {
   "cell_type": "code",
   "execution_count": 13,
   "metadata": {
    "ExecuteTime": {
     "start_time": "2023-12-05T19:46:21.744778511Z"
    },
    "id": "7Q2xSE21qH7c"
   },
   "outputs": [
    {
     "name": "stdout",
     "output_type": "stream",
     "text": [
      "Name: 02828884/86980fcab93e60151f53db693ffe56c5\n",
      "Voxel Dimensions: (3, 1024)\n",
      "Label: 1 | 02828884 | bench\n"
     ]
    },
    {
     "name": "stderr",
     "output_type": "stream",
     "text": [
      "/home/aleks/.cache/pypoetry/virtualenvs/machine_learning_for_3d_geometry-92qZlvn2-py3.10/lib/python3.10/site-packages/traittypes/traittypes.py:97: UserWarning: Given trait value dtype \"float32\" does not match required type \"float32\". A coerced copy has been created.\n",
      "  warnings.warn(\n"
     ]
    },
    {
     "data": {
      "application/vnd.jupyter.widget-view+json": {
       "model_id": "d643b73b77104488bc51d8afa34fe854",
       "version_major": 2,
       "version_minor": 0
      },
      "text/plain": [
       "Output()"
      ]
     },
     "metadata": {},
     "output_type": "display_data"
    }
   ],
   "source": [
    "# Visualize some shapes\n",
    "from exercise_2.util.visualization import visualize_pointcloud\n",
    "\n",
    "shape_data = train_dataset[np.random.randint(len(train_dataset))]\n",
    "print(f'Name: {shape_data[\"name\"]}')  # expected output: 04379243/d120d47f8c9bc5028640bc5712201c4a\n",
    "print(f'Voxel Dimensions: {shape_data[\"points\"].shape}')  # expected output: (3, 1024)\n",
    "print(f'Label: {shape_data[\"label\"]} | {ShapeNetPoints.classes[shape_data[\"label\"]]} | {ShapeNetPoints.class_name_mapping[ShapeNetPoints.classes[shape_data[\"label\"]]]}')  # expected output: 10, 04379243\n",
    "\n",
    "visualize_pointcloud(shape_data[\"points\"].T, point_size=0.025, flip_axes=True)"
   ]
  },
  {
   "cell_type": "markdown",
   "metadata": {
    "id": "GgxeUmYLqH7c"
   },
   "source": [
    "### (c) Defining the model\n",
    "\n",
    "The model architecture of PointNet was discussed in the lecture and is visualized below:\n",
    "<img src=\"exercise_2/images/pointnet.png\" alt=\"pointnet_architecture\" style=\"width: 800px;\"/>\n",
    "\n",
    "Some hints for the actual implementation:\n",
    "1. We use conv1d layers with kernel size 1 for all \"shared\" mlps to expand the feature channel dimension, e.g. when the input is of shape batch_size x 3 x 1024 and we apply conv1d(in_features=3, out_features=64), then we get to shape batch_size x 64 x 1024\n",
    "2. The mlps in the classification network after the max pooling operation are implemented using Linear layers\n",
    "3. The numbers in parenthesis after mlp() in the visualization above descibe the number of layers with their out_features dimension. Note though that the first mlp from nx3 to nx64 is expressed as two layers in the original tensorflow code but can be implemented as a single conv1d layer going from 3 to 64 features in the pytorch version.\n",
    "4. We define all layers up to and including the max pooling operation as the `PointNetEncoder`. The architecture of the model head depends on the task we are trying to solve: Either classification (`PointNetClassification`, used in this part of the exercise) or segmentation (`PointNetSegmentation`, used in 2.5).\n",
    "5. ReLU and Batch Norms are applied after each layer, except after the last classification layer. In the last layer before the max operation, we only apply Batch Norm but no ReLU.\n",
    "6. Dropout is applied for classification only after the second Linear layer, before the Batch Norm.\n",
    "7. The TNets are basically small PointNets.\n",
    "\n",
    "Implement the missing parts of the PointNet architecture in `TNet`, `PointNetEncoder`, and `PointNetClassification`, as indicated by the TODOs. All of them are located in `exercise_2/models/pointnet.py`. Use the following code cell to sanity check your implementation:"
   ]
  },
  {
   "cell_type": "code",
   "execution_count": 14,
   "metadata": {
    "ExecuteTime": {
     "start_time": "2023-12-05T19:46:21.745012957Z"
    },
    "id": "vYScmoeMqH7c"
   },
   "outputs": [
    {
     "name": "stdout",
     "output_type": "stream",
     "text": [
      "   | Name                                | Type                   | Params \n",
      "---------------------------------------------------------------------------------\n",
      "0  | encoder                             | PointNetEncoder        | 2803529\n",
      "1  | encoder.conv1                       | Conv1d                 | 256    \n",
      "2  | encoder.conv2                       | Conv1d                 | 8320   \n",
      "3  | encoder.conv3                       | Conv1d                 | 132096 \n",
      "4  | encoder.bn1                         | BatchNorm1d            | 128    \n",
      "5  | encoder.bn2                         | BatchNorm1d            | 256    \n",
      "6  | encoder.bn3                         | BatchNorm1d            | 2048   \n",
      "7  | encoder.relu                        | ReLU                   | 0      \n",
      "8  | encoder.input_transform_net         | TNet                   | 803081 \n",
      "9  | encoder.input_transform_net.conv1   | Conv1d                 | 256    \n",
      "10 | encoder.input_transform_net.conv2   | Conv1d                 | 8320   \n",
      "11 | encoder.input_transform_net.conv3   | Conv1d                 | 132096 \n",
      "12 | encoder.input_transform_net.fc1     | Linear                 | 524800 \n",
      "13 | encoder.input_transform_net.fc2     | Linear                 | 131328 \n",
      "14 | encoder.input_transform_net.fc3     | Linear                 | 2313   \n",
      "15 | encoder.input_transform_net.relu    | ReLU                   | 0      \n",
      "16 | encoder.input_transform_net.bn1     | BatchNorm1d            | 128    \n",
      "17 | encoder.input_transform_net.bn2     | BatchNorm1d            | 256    \n",
      "18 | encoder.input_transform_net.bn3     | BatchNorm1d            | 2048   \n",
      "19 | encoder.input_transform_net.bn4     | BatchNorm1d            | 1024   \n",
      "20 | encoder.input_transform_net.bn5     | BatchNorm1d            | 512    \n",
      "21 | encoder.feature_transform_net       | TNet                   | 1857344\n",
      "22 | encoder.feature_transform_net.conv1 | Conv1d                 | 4160   \n",
      "23 | encoder.feature_transform_net.conv2 | Conv1d                 | 8320   \n",
      "24 | encoder.feature_transform_net.conv3 | Conv1d                 | 132096 \n",
      "25 | encoder.feature_transform_net.fc1   | Linear                 | 524800 \n",
      "26 | encoder.feature_transform_net.fc2   | Linear                 | 131328 \n",
      "27 | encoder.feature_transform_net.fc3   | Linear                 | 1052672\n",
      "28 | encoder.feature_transform_net.relu  | ReLU                   | 0      \n",
      "29 | encoder.feature_transform_net.bn1   | BatchNorm1d            | 128    \n",
      "30 | encoder.feature_transform_net.bn2   | BatchNorm1d            | 256    \n",
      "31 | encoder.feature_transform_net.bn3   | BatchNorm1d            | 2048   \n",
      "32 | encoder.feature_transform_net.bn4   | BatchNorm1d            | 1024   \n",
      "33 | encoder.feature_transform_net.bn5   | BatchNorm1d            | 512    \n",
      "34 | fc1                                 | Linear                 | 524800 \n",
      "35 | fc2                                 | Linear                 | 131328 \n",
      "36 | fc3                                 | Linear                 | 3341   \n",
      "37 | dropout                             | Dropout                | 0      \n",
      "38 | bn1                                 | BatchNorm1d            | 1024   \n",
      "39 | bn2                                 | BatchNorm1d            | 512    \n",
      "40 | relu                                | ReLU                   | 0      \n",
      "41 | TOTAL                               | PointNetClassification | 3464534\n",
      "Output tensor shape:  torch.Size([8, 13])\n",
      "Number of traininable params: 3.46M\n"
     ]
    }
   ],
   "source": [
    "from exercise_2.model.pointnet import PointNetClassification\n",
    "from exercise_2.util.model import summarize_model\n",
    "\n",
    "pointnet = PointNetClassification(13)\n",
    "print(summarize_model(pointnet))  # Expected: Rows 0-40 and TOTAL = 3464534\n",
    "\n",
    "input_tensor = torch.randn(8, 3, 1024)\n",
    "predictions = pointnet(input_tensor)\n",
    "\n",
    "print('Output tensor shape: ', predictions.shape)  # Expected: 8, 13\n",
    "num_trainable_params = sum(p.numel() for p in pointnet.parameters() if p.requires_grad) / 1e6\n",
    "print(f'Number of traininable params: {num_trainable_params:.2f}M')  # Expected: ~3M"
   ]
  },
  {
   "cell_type": "markdown",
   "metadata": {
    "id": "RG8NgGuYqH7d"
   },
   "source": [
    "### (d) Training Script and Overfitting\n",
    "\n",
    "You can now go to the train script in `train_pointnet_classification.py` and fill in the missing pieces as in 2.3. Then, verify that your training works by overfitting to a few samples below."
   ]
  },
  {
   "cell_type": "code",
   "execution_count": 15,
   "metadata": {
    "ExecuteTime": {
     "start_time": "2023-12-05T19:46:21.745290787Z"
    },
    "id": "MrofNMjAqH7d"
   },
   "outputs": [
    {
     "name": "stdout",
     "output_type": "stream",
     "text": [
      "Using device: cuda:0\n",
      "[049/00001] train_loss: 0.652\n",
      "[049/00001] val_loss: 0.076, val_accuracy: 100.000%\n",
      "[099/00001] train_loss: 0.114\n",
      "[099/00001] val_loss: 0.248, val_accuracy: 90.625%\n",
      "[149/00001] train_loss: 0.059\n",
      "[149/00001] val_loss: 0.015, val_accuracy: 100.000%\n",
      "[199/00001] train_loss: 0.044\n",
      "[199/00001] val_loss: 0.062, val_accuracy: 98.438%\n",
      "[249/00001] train_loss: 0.051\n",
      "[249/00001] val_loss: 0.013, val_accuracy: 100.000%\n",
      "[299/00001] train_loss: 0.038\n",
      "[299/00001] val_loss: 0.009, val_accuracy: 100.000%\n"
     ]
    }
   ],
   "source": [
    "from exercise_2.training import train_pointnet_classification\n",
    "config = {\n",
    "    'experiment_name': '2_4_pointnet_classification_overfitting',\n",
    "    'device': 'cuda:0',                   # change this to cpu if you do not have a GPU\n",
    "    'is_overfit': True,                   # True since we're doing overfitting\n",
    "    'batch_size': 32,\n",
    "    'resume_ckpt': None,\n",
    "    'learning_rate': 0.001,\n",
    "    'max_epochs': 300,\n",
    "    'print_every_n': 100,\n",
    "    'validate_every_n': 100,\n",
    "}\n",
    "\n",
    "train_pointnet_classification.main(config)  # should be able to get ~0 loss, 100% accuracy"
   ]
  },
  {
   "cell_type": "markdown",
   "metadata": {
    "id": "NuyfJduNqH7d"
   },
   "source": [
    "### (e) Training over the entire training set\n",
    "\n",
    "Once your overfitting completes successfully, you can move on to training on the entire dataset again."
   ]
  },
  {
   "cell_type": "code",
   "execution_count": 16,
   "metadata": {
    "ExecuteTime": {
     "start_time": "2023-12-05T19:46:21.745500526Z"
    },
    "id": "3WtDD0eGqH7d",
    "scrolled": true
   },
   "outputs": [
    {
     "name": "stdout",
     "output_type": "stream",
     "text": [
      "Using device: cuda:0\n",
      "[000/00099] train_loss: 1.060\n",
      "[000/00199] train_loss: 0.701\n",
      "[000/00249] val_loss: 0.611, val_accuracy: 78.492%\n",
      "[000/00299] train_loss: 0.570\n",
      "[000/00399] train_loss: 0.501\n",
      "[000/00499] train_loss: 0.473\n",
      "[000/00499] val_loss: 0.453, val_accuracy: 87.099%\n",
      "[000/00599] train_loss: 0.462\n",
      "[001/00020] train_loss: 0.435\n",
      "[001/00070] val_loss: 0.390, val_accuracy: 88.371%\n",
      "[001/00120] train_loss: 0.430\n",
      "[001/00220] train_loss: 0.374\n",
      "[001/00320] train_loss: 0.358\n",
      "[001/00320] val_loss: 0.346, val_accuracy: 88.518%\n",
      "[001/00420] train_loss: 0.386\n",
      "[001/00520] train_loss: 0.347\n",
      "[001/00570] val_loss: 0.357, val_accuracy: 89.034%\n",
      "[001/00620] train_loss: 0.332\n",
      "[002/00041] train_loss: 0.334\n",
      "[002/00141] train_loss: 0.340\n",
      "[002/00141] val_loss: 0.287, val_accuracy: 91.301%\n",
      "[002/00241] train_loss: 0.323\n",
      "[002/00341] train_loss: 0.296\n",
      "[002/00391] val_loss: 0.287, val_accuracy: 91.375%\n",
      "[002/00441] train_loss: 0.301\n",
      "[002/00541] train_loss: 0.325\n",
      "[002/00641] train_loss: 0.298\n",
      "[002/00641] val_loss: 0.274, val_accuracy: 91.412%\n",
      "[003/00062] train_loss: 0.307\n",
      "[003/00162] train_loss: 0.297\n",
      "[003/00212] val_loss: 0.267, val_accuracy: 91.891%\n",
      "[003/00262] train_loss: 0.297\n",
      "[003/00362] train_loss: 0.285\n",
      "[003/00462] train_loss: 0.299\n",
      "[003/00462] val_loss: 0.304, val_accuracy: 90.048%\n",
      "[003/00562] train_loss: 0.333\n",
      "[003/00662] train_loss: 0.292\n",
      "[004/00033] val_loss: 0.240, val_accuracy: 92.518%\n",
      "[004/00083] train_loss: 0.280\n",
      "[004/00183] train_loss: 0.239\n",
      "[004/00283] train_loss: 0.265\n",
      "[004/00283] val_loss: 0.246, val_accuracy: 92.407%\n",
      "[004/00383] train_loss: 0.280\n",
      "[004/00483] train_loss: 0.275\n",
      "[004/00533] val_loss: 0.255, val_accuracy: 92.075%\n",
      "[004/00583] train_loss: 0.291\n",
      "[005/00004] train_loss: 0.266\n",
      "[005/00104] train_loss: 0.267\n",
      "[005/00104] val_loss: 0.259, val_accuracy: 92.259%\n",
      "[005/00204] train_loss: 0.274\n",
      "[005/00304] train_loss: 0.255\n",
      "[005/00354] val_loss: 0.259, val_accuracy: 91.762%\n",
      "[005/00404] train_loss: 0.250\n",
      "[005/00504] train_loss: 0.258\n",
      "[005/00604] train_loss: 0.241\n",
      "[005/00604] val_loss: 0.253, val_accuracy: 91.928%\n",
      "[006/00025] train_loss: 0.227\n",
      "[006/00125] train_loss: 0.245\n",
      "[006/00175] val_loss: 0.242, val_accuracy: 92.591%\n",
      "[006/00225] train_loss: 0.249\n",
      "[006/00325] train_loss: 0.234\n",
      "[006/00425] train_loss: 0.243\n",
      "[006/00425] val_loss: 0.237, val_accuracy: 92.315%\n",
      "[006/00525] train_loss: 0.243\n",
      "[006/00625] train_loss: 0.249\n",
      "[006/00675] val_loss: 0.250, val_accuracy: 91.965%\n",
      "[007/00046] train_loss: 0.241\n",
      "[007/00146] train_loss: 0.228\n",
      "[007/00246] train_loss: 0.227\n",
      "[007/00246] val_loss: 0.252, val_accuracy: 92.204%\n",
      "[007/00346] train_loss: 0.223\n",
      "[007/00446] train_loss: 0.265\n",
      "[007/00496] val_loss: 0.288, val_accuracy: 90.195%\n",
      "[007/00546] train_loss: 0.242\n",
      "[007/00646] train_loss: 0.225\n",
      "[008/00067] train_loss: 0.223\n",
      "[008/00067] val_loss: 0.238, val_accuracy: 92.370%\n",
      "[008/00167] train_loss: 0.213\n",
      "[008/00267] train_loss: 0.249\n",
      "[008/00317] val_loss: 0.221, val_accuracy: 93.126%\n",
      "[008/00367] train_loss: 0.246\n",
      "[008/00467] train_loss: 0.218\n",
      "[008/00567] train_loss: 0.220\n",
      "[008/00567] val_loss: 0.215, val_accuracy: 93.199%\n",
      "[008/00667] train_loss: 0.203\n",
      "[009/00088] train_loss: 0.243\n",
      "[009/00138] val_loss: 0.192, val_accuracy: 93.900%\n",
      "[009/00188] train_loss: 0.219\n",
      "[009/00288] train_loss: 0.205\n",
      "[009/00388] train_loss: 0.234\n",
      "[009/00388] val_loss: 0.211, val_accuracy: 93.310%\n",
      "[009/00488] train_loss: 0.237\n",
      "[009/00588] train_loss: 0.190\n",
      "[009/00638] val_loss: 0.223, val_accuracy: 92.647%\n"
     ]
    }
   ],
   "source": [
    "from exercise_2.training import train_pointnet_classification\n",
    "config = {\n",
    "    'experiment_name': '2_4_pointnet_classification_generalization',\n",
    "    'device': 'cuda:0',                    # change this to cpu if you do not have a GPU\n",
    "    'is_overfit': False,\n",
    "    'batch_size': 32,\n",
    "    'resume_ckpt': None,\n",
    "    'learning_rate': 0.001,\n",
    "    'max_epochs': 10,\n",
    "    'print_every_n': 100,\n",
    "    'validate_every_n': 250,\n",
    "}\n",
    "\n",
    "train_pointnet_classification.main(config)  # Should be able to get > 92% accuracy on the val set"
   ]
  },
  {
   "cell_type": "markdown",
   "metadata": {
    "id": "fP0wuYUTqH7d"
   },
   "source": [
    "### (f) Inference using the trained model"
   ]
  },
  {
   "cell_type": "code",
   "execution_count": 53,
   "metadata": {
    "ExecuteTime": {
     "start_time": "2023-12-05T19:46:21.745692291Z"
    },
    "id": "WXFYdI-PqH7d"
   },
   "outputs": [],
   "source": [
    "from exercise_2.inference.infer_pointnet_classification import InferenceHandlerPointNetClassification\n",
    "\n",
    "\n",
    "# create a handler for inference using a trained checkpoint\n",
    "inferer = InferenceHandlerPointNetClassification('exercise_2/runs/2_4_pointnet_classification_generalization/model_best.ckpt')"
   ]
  },
  {
   "cell_type": "code",
   "execution_count": 54,
   "metadata": {
    "ExecuteTime": {
     "start_time": "2023-12-05T19:46:21.745871162Z"
    },
    "id": "8L3n2fg7qH7d"
   },
   "outputs": [
    {
     "name": "stdout",
     "output_type": "stream",
     "text": [
      "Predicted category: chair\n"
     ]
    },
    {
     "data": {
      "application/vnd.jupyter.widget-view+json": {
       "model_id": "7505c05568114c379da3808c2267089c",
       "version_major": 2,
       "version_minor": 0
      },
      "text/plain": [
       "Output()"
      ]
     },
     "metadata": {},
     "output_type": "display_data"
    }
   ],
   "source": [
    "# get shape point cloud and visualize\n",
    "shape_points = ShapeNetPoints.get_point_cloud('03001627/f913501826c588e89753496ba23f2183')\n",
    "print('Predicted category:', inferer.infer_single(shape_points))  # expected output: chair\n",
    "visualize_pointcloud(shape_points.T, point_size=0.025, flip_axes=True)"
   ]
  },
  {
   "cell_type": "code",
   "execution_count": 55,
   "metadata": {
    "ExecuteTime": {
     "start_time": "2023-12-05T19:46:21.746057988Z"
    },
    "id": "iR6_9eFaqH7d"
   },
   "outputs": [
    {
     "name": "stdout",
     "output_type": "stream",
     "text": [
      "Predicted category: airplane\n"
     ]
    },
    {
     "data": {
      "application/vnd.jupyter.widget-view+json": {
       "model_id": "569c811e2abe4876a7fcf83aa76de871",
       "version_major": 2,
       "version_minor": 0
      },
      "text/plain": [
       "Output()"
      ]
     },
     "metadata": {},
     "output_type": "display_data"
    }
   ],
   "source": [
    "# get shape point cloud and visualize\n",
    "shape_points = ShapeNetPoints.get_point_cloud('02691156/6af4383123972f2262b600da24e0965')\n",
    "print('Predicted category:', inferer.infer_single(shape_points))\n",
    "visualize_pointcloud(shape_points.T, point_size=0.025, flip_axes=True)"
   ]
  },
  {
   "cell_type": "code",
   "execution_count": 56,
   "metadata": {
    "ExecuteTime": {
     "start_time": "2023-12-05T19:46:21.746240946Z"
    },
    "id": "qXPxZM9sqH7d"
   },
   "outputs": [
    {
     "name": "stdout",
     "output_type": "stream",
     "text": [
      "Predicted category: rifle\n"
     ]
    },
    {
     "data": {
      "application/vnd.jupyter.widget-view+json": {
       "model_id": "c214c966db9948ba879a8906210b49e3",
       "version_major": 2,
       "version_minor": 0
      },
      "text/plain": [
       "Output()"
      ]
     },
     "metadata": {},
     "output_type": "display_data"
    }
   ],
   "source": [
    "# get shape point cloud and visualize\n",
    "shape_points = ShapeNetPoints.get_point_cloud('04090263/eae96ddf483e896c805d3d8e378d155e')\n",
    "print('Predicted category:', inferer.infer_single(shape_points))\n",
    "visualize_pointcloud(shape_points.T, point_size=0.025, flip_axes=True)"
   ]
  },
  {
   "cell_type": "markdown",
   "metadata": {
    "id": "JqrWJJv8qH7d"
   },
   "source": [
    "Make sure you submit the trained model `exercise_2/runs/2_4_pointnet_classification_generalization/model_best.ckpt` in your zip\n",
    "so that we can evaluate it on the test set at our end."
   ]
  },
  {
   "cell_type": "markdown",
   "metadata": {
    "id": "T8zShYR8qH7e"
   },
   "source": [
    "## 2.5. Shape Parts Segmentation using PointNet\n",
    "\n",
    "We now go one step further: We do not just want to learn the overall class label for a given shape but instead for each point in a shape the part it belongs to. We call this Part Segmentation. The good thing is that we can actually re-use most of the PointNet architecture from 2.4."
   ]
  },
  {
   "cell_type": "markdown",
   "metadata": {
    "id": "Qwd3_CM3qH7e"
   },
   "source": [
    "### (a) Download the ShapeNetPart dataset\n",
    "\n",
    "Annotating data for segmentation is a lot of effort since labelling has to be performed within the shape for each part instead of globally for the entire shape.\n",
    "\n",
    "Luckily, there are existing datasets we can use for this. In our case, this is the ShapeNet Part Segmenation dataset that you can download in the cell below.\n",
    "\n",
    "In terms of data layout, the general idea of shape class identifiers and shape IDs is the same; we just have slightly different shape categories now. Also, each point cloud now has a correponding file specifying the part class for every point.\n",
    "\n",
    "We put the shape class labels for this dataset in `exercise_2/data/shape_parts_info.json`, analogous to `shape_info.json` from exercise parts 2.3 and 2.4.\n",
    "\n",
    "The point cloud data is stored as pts files which is basically an even simpler version of obj. It omits the v in front of each line that represents a point and does not support faces. Each line therefore represents one point with its xyz coordinates, separated by a space.\n",
    "\n",
    "```\n",
    "# contents of exercise_2/data/shapenetcore_partanno_segmentation_benchmark_v0\n",
    "\n",
    "02691156/                                         # Shape category folder with all its shapes\n",
    "    ├── points                                    # All point clouds go here\n",
    "        ├── 1a04e3eab45ca15dd86060f189eb133.pts   # Point cloud data\n",
    "        ├── 1a32f10b20170883663e90eaf6b4ca52.pts  # Another point cloud\n",
    "        :\n",
    "        :\n",
    "    ├── points_label                              # Part labels for each point in the corresponding pts file\n",
    "        ├── 1a04e3eab45ca15dd86060f189eb133.seg   # Each line represents the local part class of a point\n",
    "        ├── 1a32f10b20170883663e90eaf6b4ca52.seg  # Another segmentation file\n",
    "        :\n",
    "        :\n",
    "    ├── seg_img                                   # Visualizations of the original mesh part segmentation\n",
    "02773838/                                         # Another shape category folder\n",
    "02954340/                                         # In total you should have 16 shape category folders\n",
    ":\n",
    ":\n",
    "train_test_split/                                 # Official split IDs\n",
    "```"
   ]
  },
  {
   "cell_type": "code",
   "execution_count": null,
   "metadata": {
    "ExecuteTime": {
     "end_time": "2023-12-05T19:40:30.561547901Z",
     "start_time": "2023-12-05T19:40:30.556324655Z"
    },
    "id": "ST5aom42qH7e"
   },
   "outputs": [],
   "source": [
    "print('Downloading ...')\n",
    "!wget https://shapenet.cs.stanford.edu/ericyi/shapenetcore_partanno_segmentation_benchmark_v0.zip --no-check-certificate -P exercise_2/data\n",
    "print('Extracting ...')\n",
    "!unzip -q exercise_2/data/shapenetcore_partanno_segmentation_benchmark_v0.zip -d exercise_2/data\n",
    "!rm exercise_2/data/shapenetcore_partanno_segmentation_benchmark_v0.zip\n",
    "print('Done.')\n"
   ]
  },
  {
   "cell_type": "markdown",
   "metadata": {
    "id": "k6dKu5aVqH7e"
   },
   "source": [
    "### (b) Dataset implementation\n",
    "\n",
    "You can use the same split setup as in 2.3 and 2.4: `overfit.txt` for overfitting, `train.txt` for the train samples, and `val.txt` for the val samples; This time, use the files in folder `exercise_2/data/splits/shapenet_parts`.\n",
    "\n",
    "The dataset implementation will be similar to 2.3 and 2.4: Fill out the missing implementations of functions `__getitem__` and `__len__` in class `ShapeNetPoints` in `exercise_2/data/shapenet_parts.py`. Note that you now need to load not only the point cloud but also the per-point segmentation labels in function `get_point_cloud_with_labels`. Since each point cloud in this dataset contains more than 1024 points, we also need to sub-sample the raw points list. Use `np.random.choice` for this: Randomizing the sampling will work as augmentation which in turn helps prevent overfitting. Make sure to sample the corresponding points and labels when doing so.\n",
    "\n",
    "Once done, test your implementation below."
   ]
  },
  {
   "cell_type": "code",
   "execution_count": 6,
   "metadata": {
    "ExecuteTime": {
     "start_time": "2023-12-05T19:40:30.556446624Z"
    },
    "id": "h9n9LUMgqH7e"
   },
   "outputs": [
    {
     "name": "stdout",
     "output_type": "stream",
     "text": [
      "Length of train set: 12137\n",
      "Length of val set: 1870\n",
      "Length of overfit set: 64\n"
     ]
    }
   ],
   "source": [
    "from exercise_2.data.shapenet_parts import ShapeNetParts\n",
    "\n",
    "# Create a dataset with train split\n",
    "train_dataset = ShapeNetParts('train')\n",
    "val_dataset = ShapeNetParts('val')\n",
    "overfit_dataset = ShapeNetParts('overfit')\n",
    "\n",
    "# Get length, which is a call to __len__ function\n",
    "print(f'Length of train set: {len(train_dataset)}')  # expected output: 12137\n",
    "# Get length, which is a call to __len__ function\n",
    "print(f'Length of val set: {len(val_dataset)}')  # expected output: 1870\n",
    "# Get length, which is a call to __len__ function\n",
    "print(f'Length of overfit set: {len(overfit_dataset)}')  # expected output: 64"
   ]
  },
  {
   "cell_type": "markdown",
   "metadata": {
    "id": "W2sFTwn6qH7e"
   },
   "source": [
    "### (c) Modifying the PointNet Model\n",
    "\n",
    "Take a look at the PointNet architecture again:\n",
    "<img src=\"exercise_2/images/pointnet.png\" alt=\"pointnet_architecture\" style=\"width: 800px;\"/>\n",
    "\n",
    "We only cared about the blue classification part in 2.4. Now, we also want to implement the yellow part. You can re-use your encoder from 2.4.\n",
    "\n",
    "The idea is simple: Take the n points with 64-dimensional point features from the correct layer of the encoder and concatenate the global shape descriptor you get after applying the max function to it. Then, implement the remaining layers as conv1ds with batchnorm and relu after all but the last layer. The final layer reduces the dimensionality per point to m which is 50 in our case since we have 50 overall parts.\n",
    "\n",
    "Add the missing layers to `PointNetSegmentation` in `exercise_2/models/pointnet.py` and finish the implementation of the forward pass."
   ]
  },
  {
   "cell_type": "code",
   "execution_count": 7,
   "metadata": {
    "ExecuteTime": {
     "start_time": "2023-12-05T19:40:30.556599590Z"
    },
    "id": "0Gha77iaqH7e"
   },
   "outputs": [
    {
     "name": "stdout",
     "output_type": "stream",
     "text": [
      "   | Name                                | Type                 | Params \n",
      "-------------------------------------------------------------------------------\n",
      "0  | encoder                             | PointNetEncoder      | 2803529\n",
      "1  | encoder.conv1                       | Conv1d               | 256    \n",
      "2  | encoder.conv2                       | Conv1d               | 8320   \n",
      "3  | encoder.conv3                       | Conv1d               | 132096 \n",
      "4  | encoder.bn1                         | BatchNorm1d          | 128    \n",
      "5  | encoder.bn2                         | BatchNorm1d          | 256    \n",
      "6  | encoder.bn3                         | BatchNorm1d          | 2048   \n",
      "7  | encoder.relu                        | ReLU                 | 0      \n",
      "8  | encoder.input_transform_net         | TNet                 | 803081 \n",
      "9  | encoder.input_transform_net.conv1   | Conv1d               | 256    \n",
      "10 | encoder.input_transform_net.conv2   | Conv1d               | 8320   \n",
      "11 | encoder.input_transform_net.conv3   | Conv1d               | 132096 \n",
      "12 | encoder.input_transform_net.fc1     | Linear               | 524800 \n",
      "13 | encoder.input_transform_net.fc2     | Linear               | 131328 \n",
      "14 | encoder.input_transform_net.fc3     | Linear               | 2313   \n",
      "15 | encoder.input_transform_net.relu    | ReLU                 | 0      \n",
      "16 | encoder.input_transform_net.bn1     | BatchNorm1d          | 128    \n",
      "17 | encoder.input_transform_net.bn2     | BatchNorm1d          | 256    \n",
      "18 | encoder.input_transform_net.bn3     | BatchNorm1d          | 2048   \n",
      "19 | encoder.input_transform_net.bn4     | BatchNorm1d          | 1024   \n",
      "20 | encoder.input_transform_net.bn5     | BatchNorm1d          | 512    \n",
      "21 | encoder.feature_transform_net       | TNet                 | 1857344\n",
      "22 | encoder.feature_transform_net.conv1 | Conv1d               | 4160   \n",
      "23 | encoder.feature_transform_net.conv2 | Conv1d               | 8320   \n",
      "24 | encoder.feature_transform_net.conv3 | Conv1d               | 132096 \n",
      "25 | encoder.feature_transform_net.fc1   | Linear               | 524800 \n",
      "26 | encoder.feature_transform_net.fc2   | Linear               | 131328 \n",
      "27 | encoder.feature_transform_net.fc3   | Linear               | 1052672\n",
      "28 | encoder.feature_transform_net.relu  | ReLU                 | 0      \n",
      "29 | encoder.feature_transform_net.bn1   | BatchNorm1d          | 128    \n",
      "30 | encoder.feature_transform_net.bn2   | BatchNorm1d          | 256    \n",
      "31 | encoder.feature_transform_net.bn3   | BatchNorm1d          | 2048   \n",
      "32 | encoder.feature_transform_net.bn4   | BatchNorm1d          | 1024   \n",
      "33 | encoder.feature_transform_net.bn5   | BatchNorm1d          | 512    \n",
      "34 | conv1                               | Conv1d               | 557568 \n",
      "35 | conv2                               | Conv1d               | 131328 \n",
      "36 | conv3                               | Conv1d               | 32896  \n",
      "37 | conv4                               | Conv1d               | 6450   \n",
      "38 | bn1                                 | BatchNorm1d          | 1024   \n",
      "39 | bn2                                 | BatchNorm1d          | 512    \n",
      "40 | bn3                                 | BatchNorm1d          | 256    \n",
      "41 | relu                                | ReLU                 | 0      \n",
      "42 | TOTAL                               | PointNetSegmentation | 3533563\n",
      "Output tensor shape:  torch.Size([8, 1024, 50])\n",
      "Number of traininable params: 3.53M\n"
     ]
    }
   ],
   "source": [
    "from exercise_2.model.pointnet import PointNetSegmentation\n",
    "from exercise_2.util.model import summarize_model\n",
    "\n",
    "pointnet = PointNetSegmentation(50)\n",
    "print(summarize_model(pointnet))  # Expected: Rows 0-40 and TOTAL = 3533563\n",
    "\n",
    "input_tensor = torch.randn(8, 3, 1024)\n",
    "predictions = pointnet(input_tensor)\n",
    "\n",
    "print('Output tensor shape: ', predictions.shape)  # Expected: 8, 1024, 50\n",
    "num_trainable_params = sum(p.numel() for p in pointnet.parameters() if p.requires_grad) / 1e6\n",
    "print(f'Number of traininable params: {num_trainable_params:.2f}M')  # Expected: ~3M"
   ]
  },
  {
   "cell_type": "markdown",
   "metadata": {
    "id": "Rnc8RIuqqH7e"
   },
   "source": [
    "### (d) Training Script and Overfitting\n",
    "\n",
    "You can now go to the train script in `train_pointnet_segmentation.py` and fill in the missing pieces as in 2.3 and 2.4. Then, verify that your training work by overfitting to a few samples below."
   ]
  },
  {
   "cell_type": "code",
   "execution_count": null,
   "metadata": {
    "ExecuteTime": {
     "start_time": "2023-12-05T19:40:30.557895398Z"
    },
    "id": "xLVF-4B5qH7e",
    "scrolled": false
   },
   "outputs": [],
   "source": [
    "from exercise_2.training import train_pointnet_segmentation\n",
    "config = {\n",
    "    'experiment_name': '2_5_pointnet_segmentation_overfitting',\n",
    "    'device': 'cuda:0',                   # change this to cpu if you do not have a GPU\n",
    "    'is_overfit': True,                   # True since we're doing overfitting\n",
    "    'batch_size': 16,\n",
    "    'resume_ckpt': None,\n",
    "    'learning_rate': 0.001,\n",
    "    'max_epochs': 1000,\n",
    "    'print_every_n': 100,\n",
    "    'validate_every_n': 100,\n",
    "}\n",
    "\n",
    "train_pointnet_segmentation.main(config)  # should be able to get ~0.03 loss, >97% accuracy, >0.95 iou"
   ]
  },
  {
   "cell_type": "markdown",
   "metadata": {
    "id": "zclh447xqH7e"
   },
   "source": [
    "### (e) Training over the entire training set\n",
    "\n",
    "Once your overfitting completes successfully, you can move on to training on the entire dataset again."
   ]
  },
  {
   "cell_type": "code",
   "execution_count": 3,
   "metadata": {
    "ExecuteTime": {
     "start_time": "2023-12-05T19:40:30.559689409Z"
    },
    "id": "oEA3gqPZqH7f",
    "scrolled": true
   },
   "outputs": [
    {
     "name": "stdout",
     "output_type": "stream",
     "text": [
      "Using device: cuda:0\n",
      "[000/00099] train_loss: 139.043\n",
      "[000/00199] train_loss: 138.012\n",
      "[000/00249] val_loss: 3.328, val_accuracy: 63.083%, val_iou: 0.700\n",
      "[000/00299] train_loss: 137.925\n",
      "[000/00399] train_loss: 137.908\n",
      "[000/00499] train_loss: 137.657\n",
      "[000/00499] val_loss: 3.296, val_accuracy: 65.039%, val_iou: 0.693\n",
      "[000/00599] train_loss: 137.575\n",
      "[000/00699] train_loss: 137.592\n",
      "[000/00749] val_loss: 3.257, val_accuracy: 69.250%, val_iou: 0.703\n",
      "[001/00040] train_loss: 137.423\n",
      "[001/00140] train_loss: 137.455\n",
      "[001/00240] train_loss: 137.209\n",
      "[001/00240] val_loss: 3.233, val_accuracy: 71.927%, val_iou: 0.698\n",
      "[001/00340] train_loss: 137.206\n",
      "[001/00440] train_loss: 137.014\n",
      "[001/00490] val_loss: 3.227, val_accuracy: 72.247%, val_iou: 0.701\n",
      "[001/00540] train_loss: 137.153\n",
      "[001/00640] train_loss: 137.250\n",
      "[001/00740] train_loss: 137.159\n",
      "[001/00740] val_loss: 3.221, val_accuracy: 72.868%, val_iou: 0.703\n",
      "[002/00081] train_loss: 137.007\n",
      "[002/00181] train_loss: 137.180\n",
      "[002/00231] val_loss: 3.186, val_accuracy: 76.871%, val_iou: 0.720\n",
      "[002/00281] train_loss: 136.950\n",
      "[002/00381] train_loss: 136.631\n",
      "[002/00481] train_loss: 136.633\n",
      "[002/00481] val_loss: 3.172, val_accuracy: 77.865%, val_iou: 0.737\n",
      "[002/00581] train_loss: 136.453\n",
      "[002/00681] train_loss: 136.375\n",
      "[002/00731] val_loss: 3.178, val_accuracy: 77.222%, val_iou: 0.741\n",
      "[003/00022] train_loss: 136.443\n",
      "[003/00122] train_loss: 136.426\n",
      "[003/00222] train_loss: 136.316\n",
      "[003/00222] val_loss: 3.170, val_accuracy: 77.797%, val_iou: 0.734\n",
      "[003/00322] train_loss: 136.446\n",
      "[003/00422] train_loss: 136.601\n",
      "[003/00472] val_loss: 3.164, val_accuracy: 78.481%, val_iou: 0.742\n",
      "[003/00522] train_loss: 136.394\n",
      "[003/00622] train_loss: 136.213\n",
      "[003/00722] train_loss: 136.324\n",
      "[003/00722] val_loss: 3.166, val_accuracy: 78.259%, val_iou: 0.738\n",
      "[004/00063] train_loss: 136.260\n",
      "[004/00163] train_loss: 136.182\n",
      "[004/00213] val_loss: 3.160, val_accuracy: 78.814%, val_iou: 0.732\n",
      "[004/00263] train_loss: 136.419\n",
      "[004/00363] train_loss: 136.311\n",
      "[004/00463] train_loss: 136.205\n",
      "[004/00463] val_loss: 3.159, val_accuracy: 78.878%, val_iou: 0.739\n",
      "[004/00563] train_loss: 136.227\n",
      "[004/00663] train_loss: 136.212\n",
      "[004/00713] val_loss: 3.164, val_accuracy: 78.515%, val_iou: 0.730\n",
      "[005/00004] train_loss: 136.069\n",
      "[005/00104] train_loss: 136.314\n",
      "[005/00204] train_loss: 136.051\n",
      "[005/00204] val_loss: 3.150, val_accuracy: 79.757%, val_iou: 0.739\n",
      "[005/00304] train_loss: 136.148\n",
      "[005/00404] train_loss: 136.132\n",
      "[005/00454] val_loss: 3.146, val_accuracy: 80.158%, val_iou: 0.742\n",
      "[005/00504] train_loss: 136.208\n",
      "[005/00604] train_loss: 136.043\n",
      "[005/00704] train_loss: 136.079\n",
      "[005/00704] val_loss: 3.150, val_accuracy: 79.753%, val_iou: 0.738\n",
      "[006/00045] train_loss: 136.254\n",
      "[006/00145] train_loss: 136.110\n",
      "[006/00195] val_loss: 3.150, val_accuracy: 79.804%, val_iou: 0.733\n",
      "[006/00245] train_loss: 136.117\n",
      "[006/00345] train_loss: 135.929\n",
      "[006/00445] train_loss: 135.994\n",
      "[006/00445] val_loss: 3.131, val_accuracy: 81.912%, val_iou: 0.758\n",
      "[006/00545] train_loss: 136.039\n",
      "[006/00645] train_loss: 135.971\n",
      "[006/00695] val_loss: 3.127, val_accuracy: 82.119%, val_iou: 0.754\n",
      "[006/00745] train_loss: 135.921\n",
      "[007/00086] train_loss: 135.894\n",
      "[007/00186] train_loss: 135.744\n",
      "[007/00186] val_loss: 3.120, val_accuracy: 82.784%, val_iou: 0.755\n",
      "[007/00286] train_loss: 135.979\n",
      "[007/00386] train_loss: 135.972\n",
      "[007/00436] val_loss: 3.128, val_accuracy: 82.066%, val_iou: 0.760\n",
      "[007/00486] train_loss: 136.125\n",
      "[007/00586] train_loss: 135.698\n",
      "[007/00686] train_loss: 135.777\n",
      "[007/00686] val_loss: 3.103, val_accuracy: 84.729%, val_iou: 0.796\n",
      "[008/00027] train_loss: 135.759\n",
      "[008/00127] train_loss: 135.740\n",
      "[008/00177] val_loss: 3.094, val_accuracy: 85.522%, val_iou: 0.802\n",
      "[008/00227] train_loss: 135.939\n",
      "[008/00327] train_loss: 135.814\n",
      "[008/00427] train_loss: 135.860\n",
      "[008/00427] val_loss: 3.094, val_accuracy: 85.420%, val_iou: 0.797\n",
      "[008/00527] train_loss: 135.624\n",
      "[008/00627] train_loss: 135.742\n",
      "[008/00677] val_loss: 3.096, val_accuracy: 85.329%, val_iou: 0.800\n",
      "[008/00727] train_loss: 135.644\n",
      "[009/00068] train_loss: 135.741\n",
      "[009/00168] train_loss: 135.780\n",
      "[009/00168] val_loss: 3.097, val_accuracy: 85.161%, val_iou: 0.798\n",
      "[009/00268] train_loss: 135.778\n",
      "[009/00368] train_loss: 135.737\n",
      "[009/00418] val_loss: 3.095, val_accuracy: 85.461%, val_iou: 0.802\n",
      "[009/00468] train_loss: 135.713\n",
      "[009/00568] train_loss: 135.586\n",
      "[009/00668] train_loss: 135.703\n",
      "[009/00668] val_loss: 3.094, val_accuracy: 85.408%, val_iou: 0.802\n",
      "[010/00009] train_loss: 135.698\n",
      "[010/00109] train_loss: 135.621\n",
      "[010/00159] val_loss: 3.093, val_accuracy: 85.634%, val_iou: 0.802\n",
      "[010/00209] train_loss: 135.675\n",
      "[010/00309] train_loss: 135.745\n",
      "[010/00409] train_loss: 135.834\n",
      "[010/00409] val_loss: 3.094, val_accuracy: 85.457%, val_iou: 0.798\n",
      "[010/00509] train_loss: 135.606\n",
      "[010/00609] train_loss: 135.724\n",
      "[010/00659] val_loss: 3.092, val_accuracy: 85.651%, val_iou: 0.804\n",
      "[010/00709] train_loss: 135.706\n",
      "[011/00050] train_loss: 135.670\n",
      "[011/00150] train_loss: 135.716\n",
      "[011/00150] val_loss: 3.090, val_accuracy: 85.786%, val_iou: 0.804\n",
      "[011/00250] train_loss: 135.636\n",
      "[011/00350] train_loss: 135.659\n",
      "[011/00400] val_loss: 3.095, val_accuracy: 85.353%, val_iou: 0.794\n",
      "[011/00450] train_loss: 135.587\n",
      "[011/00550] train_loss: 135.803\n",
      "[011/00650] train_loss: 135.655\n",
      "[011/00650] val_loss: 3.090, val_accuracy: 85.860%, val_iou: 0.808\n",
      "[011/00750] train_loss: 135.569\n",
      "[012/00091] train_loss: 135.699\n",
      "[012/00141] val_loss: 3.086, val_accuracy: 86.284%, val_iou: 0.803\n",
      "[012/00191] train_loss: 135.520\n",
      "[012/00291] train_loss: 135.628\n",
      "[012/00391] train_loss: 135.789\n",
      "[012/00391] val_loss: 3.085, val_accuracy: 86.313%, val_iou: 0.810\n",
      "[012/00491] train_loss: 135.721\n",
      "[012/00591] train_loss: 135.567\n",
      "[012/00641] val_loss: 3.088, val_accuracy: 85.963%, val_iou: 0.806\n",
      "[012/00691] train_loss: 135.733\n",
      "[013/00032] train_loss: 135.642\n",
      "[013/00132] train_loss: 135.568\n",
      "[013/00132] val_loss: 3.090, val_accuracy: 85.963%, val_iou: 0.798\n",
      "[013/00232] train_loss: 135.754\n",
      "[013/00332] train_loss: 135.540\n",
      "[013/00382] val_loss: 3.083, val_accuracy: 86.517%, val_iou: 0.809\n",
      "[013/00432] train_loss: 135.606\n",
      "[013/00532] train_loss: 135.569\n",
      "[013/00632] train_loss: 135.591\n",
      "[013/00632] val_loss: 3.082, val_accuracy: 86.783%, val_iou: 0.805\n",
      "[013/00732] train_loss: 135.704\n",
      "[014/00073] train_loss: 135.441\n",
      "[014/00123] val_loss: 3.082, val_accuracy: 86.835%, val_iou: 0.803\n",
      "[014/00173] train_loss: 135.684\n",
      "[014/00273] train_loss: 135.487\n",
      "[014/00373] train_loss: 135.500\n",
      "[014/00373] val_loss: 3.078, val_accuracy: 87.177%, val_iou: 0.803\n",
      "[014/00473] train_loss: 135.666\n",
      "[014/00573] train_loss: 135.619\n",
      "[014/00623] val_loss: 3.074, val_accuracy: 87.583%, val_iou: 0.812\n",
      "[014/00673] train_loss: 135.580\n",
      "[015/00014] train_loss: 135.571\n",
      "[015/00114] train_loss: 135.659\n",
      "[015/00114] val_loss: 3.073, val_accuracy: 87.668%, val_iou: 0.818\n",
      "[015/00214] train_loss: 135.560\n",
      "[015/00314] train_loss: 135.702\n",
      "[015/00364] val_loss: 3.070, val_accuracy: 87.885%, val_iou: 0.806\n",
      "[015/00414] train_loss: 135.604\n",
      "[015/00514] train_loss: 135.456\n",
      "[015/00614] train_loss: 135.460\n",
      "[015/00614] val_loss: 3.075, val_accuracy: 87.372%, val_iou: 0.810\n",
      "[015/00714] train_loss: 135.407\n",
      "[016/00055] train_loss: 135.469\n",
      "[016/00105] val_loss: 3.074, val_accuracy: 87.362%, val_iou: 0.805\n",
      "[016/00155] train_loss: 135.523\n",
      "[016/00255] train_loss: 135.593\n",
      "[016/00355] train_loss: 135.490\n",
      "[016/00355] val_loss: 3.072, val_accuracy: 87.759%, val_iou: 0.823\n",
      "[016/00455] train_loss: 135.549\n",
      "[016/00555] train_loss: 135.534\n",
      "[016/00605] val_loss: 3.076, val_accuracy: 87.318%, val_iou: 0.813\n",
      "[016/00655] train_loss: 135.477\n",
      "[016/00755] train_loss: 135.429\n",
      "[017/00096] train_loss: 135.467\n",
      "[017/00096] val_loss: 3.078, val_accuracy: 87.204%, val_iou: 0.814\n",
      "[017/00196] train_loss: 135.522\n",
      "[017/00296] train_loss: 135.461\n",
      "[017/00346] val_loss: 3.075, val_accuracy: 87.208%, val_iou: 0.811\n",
      "[017/00396] train_loss: 135.550\n",
      "[017/00496] train_loss: 135.482\n",
      "[017/00596] train_loss: 135.535\n",
      "[017/00596] val_loss: 3.071, val_accuracy: 87.654%, val_iou: 0.810\n",
      "[017/00696] train_loss: 135.572\n",
      "[018/00037] train_loss: 135.566\n",
      "[018/00087] val_loss: 3.068, val_accuracy: 88.105%, val_iou: 0.812\n",
      "[018/00137] train_loss: 135.430\n",
      "[018/00237] train_loss: 135.453\n",
      "[018/00337] train_loss: 135.437\n",
      "[018/00337] val_loss: 3.069, val_accuracy: 88.122%, val_iou: 0.808\n"
     ]
    },
    {
     "name": "stdout",
     "output_type": "stream",
     "text": [
      "[018/00437] train_loss: 135.514\n",
      "[018/00537] train_loss: 135.482\n",
      "[018/00587] val_loss: 3.073, val_accuracy: 87.500%, val_iou: 0.799\n",
      "[018/00637] train_loss: 135.540\n",
      "[018/00737] train_loss: 135.483\n",
      "[019/00078] train_loss: 135.405\n",
      "[019/00078] val_loss: 3.065, val_accuracy: 88.180%, val_iou: 0.808\n",
      "[019/00178] train_loss: 135.460\n",
      "[019/00278] train_loss: 135.514\n",
      "[019/00328] val_loss: 3.068, val_accuracy: 88.091%, val_iou: 0.804\n",
      "[019/00378] train_loss: 135.455\n",
      "[019/00478] train_loss: 135.424\n",
      "[019/00578] train_loss: 135.527\n",
      "[019/00578] val_loss: 3.063, val_accuracy: 88.761%, val_iou: 0.813\n",
      "[019/00678] train_loss: 135.471\n",
      "[020/00019] train_loss: 135.438\n",
      "[020/00069] val_loss: 3.067, val_accuracy: 88.353%, val_iou: 0.824\n",
      "[020/00119] train_loss: 135.377\n",
      "[020/00219] train_loss: 135.399\n",
      "[020/00319] train_loss: 135.342\n",
      "[020/00319] val_loss: 3.060, val_accuracy: 89.050%, val_iou: 0.814\n",
      "[020/00419] train_loss: 135.469\n",
      "[020/00519] train_loss: 135.429\n",
      "[020/00569] val_loss: 3.060, val_accuracy: 88.886%, val_iou: 0.818\n",
      "[020/00619] train_loss: 135.570\n",
      "[020/00719] train_loss: 135.520\n",
      "[021/00060] train_loss: 135.505\n",
      "[021/00060] val_loss: 3.053, val_accuracy: 89.676%, val_iou: 0.829\n",
      "[021/00160] train_loss: 135.433\n",
      "[021/00260] train_loss: 135.617\n",
      "[021/00310] val_loss: 3.049, val_accuracy: 90.037%, val_iou: 0.832\n",
      "[021/00360] train_loss: 135.449\n",
      "[021/00460] train_loss: 135.515\n",
      "[021/00560] train_loss: 135.285\n",
      "[021/00560] val_loss: 3.050, val_accuracy: 89.824%, val_iou: 0.822\n",
      "[021/00660] train_loss: 135.405\n",
      "[022/00001] train_loss: 135.423\n",
      "[022/00051] val_loss: 3.046, val_accuracy: 90.327%, val_iou: 0.832\n",
      "[022/00101] train_loss: 135.504\n",
      "[022/00201] train_loss: 135.491\n",
      "[022/00301] train_loss: 135.365\n",
      "[022/00301] val_loss: 3.048, val_accuracy: 90.078%, val_iou: 0.832\n",
      "[022/00401] train_loss: 135.447\n",
      "[022/00501] train_loss: 135.395\n",
      "[022/00551] val_loss: 3.052, val_accuracy: 89.729%, val_iou: 0.838\n",
      "[022/00601] train_loss: 135.425\n",
      "[022/00701] train_loss: 135.274\n",
      "[023/00042] train_loss: 135.445\n",
      "[023/00042] val_loss: 3.050, val_accuracy: 89.888%, val_iou: 0.826\n",
      "[023/00142] train_loss: 135.446\n",
      "[023/00242] train_loss: 135.510\n",
      "[023/00292] val_loss: 3.050, val_accuracy: 89.865%, val_iou: 0.839\n",
      "[023/00342] train_loss: 135.403\n",
      "[023/00442] train_loss: 135.337\n",
      "[023/00542] train_loss: 135.398\n",
      "[023/00542] val_loss: 3.048, val_accuracy: 90.073%, val_iou: 0.824\n",
      "[023/00642] train_loss: 135.452\n",
      "[023/00742] train_loss: 135.356\n"
     ]
    }
   ],
   "source": [
    "from exercise_2.training import train_pointnet_segmentation\n",
    "config = {\n",
    "    'experiment_name': '2_5_pointnet_segmentation_generalization',\n",
    "    'device': 'cuda:0',                   # change this to cpu if you do not have a GPU\n",
    "    'is_overfit': False,\n",
    "    'batch_size': 16,\n",
    "    'resume_ckpt': None,\n",
    "    'learning_rate': 0.001,\n",
    "    'max_epochs': 24,\n",
    "    'print_every_n': 100,\n",
    "    'validate_every_n': 250,\n",
    "}\n",
    "\n",
    "train_pointnet_segmentation.main(config)  # Should be able to get > 90% accuracy and > 0.8 iou on the val set"
   ]
  },
  {
   "cell_type": "markdown",
   "metadata": {
    "id": "-JzJgdDLqH7f"
   },
   "source": [
    "### (f) Inference using the trained model"
   ]
  },
  {
   "cell_type": "code",
   "execution_count": 8,
   "metadata": {
    "ExecuteTime": {
     "start_time": "2023-12-05T19:40:30.560973124Z"
    },
    "id": "6q9WJe6dqH7f"
   },
   "outputs": [],
   "source": [
    "from exercise_2.inference.infer_pointnet_segmentation import InferenceHandlerPointNetSegmentation\n",
    "from exercise_2.util.visualization import visualize_pointcloud\n",
    "from matplotlib import cm, colors\n",
    "import numpy as np\n",
    "\n",
    "# create a handler for inference using a trained checkpoint\n",
    "inferer = InferenceHandlerPointNetSegmentation('exercise_2/runs/2_5_pointnet_segmentation_generalization/model_best.ckpt')"
   ]
  },
  {
   "cell_type": "code",
   "execution_count": 9,
   "metadata": {
    "ExecuteTime": {
     "end_time": "2023-12-05T19:40:30.602598755Z",
     "start_time": "2023-12-05T19:40:30.563058350Z"
    },
    "id": "cG9wl_WiqH7f"
   },
   "outputs": [
    {
     "name": "stderr",
     "output_type": "stream",
     "text": [
      "/home/aleks/.cache/pypoetry/virtualenvs/machine_learning_for_3d_geometry-92qZlvn2-py3.10/lib/python3.10/site-packages/traittypes/traittypes.py:97: UserWarning: Given trait value dtype \"int64\" does not match required type \"uint32\". A coerced copy has been created.\n",
      "  warnings.warn(\n"
     ]
    },
    {
     "data": {
      "application/vnd.jupyter.widget-view+json": {
       "model_id": "a5b61bf82ac84ad8b827bdf7e7302a5b",
       "version_major": 2,
       "version_minor": 0
      },
      "text/plain": [
       "Output()"
      ]
     },
     "metadata": {},
     "output_type": "display_data"
    }
   ],
   "source": [
    "# Get shape point cloud, predict labels, and visualize colored point cloud\n",
    "shape_points = ShapeNetParts.get_point_cloud_with_labels('02691156/1c4b8662938adf41da2b0f839aba40f9')[0]\n",
    "point_labels = inferer.infer_single(shape_points)\n",
    "point_labels = (point_labels - min(point_labels)) / (max(point_labels) - min(point_labels))\n",
    "point_colors = cm.get_cmap('hsv')(point_labels)[:, :3]\n",
    "point_colors = np.sum((point_colors * 255).astype(int) * [255*255, 255, 1], axis=1)\n",
    "visualize_pointcloud(shape_points.T, colors=point_colors, point_size=0.025, flip_axes=True)"
   ]
  },
  {
   "cell_type": "code",
   "execution_count": 10,
   "metadata": {
    "ExecuteTime": {
     "start_time": "2023-12-05T19:40:30.565757928Z"
    },
    "id": "yuLuZjaeqH7f"
   },
   "outputs": [
    {
     "data": {
      "application/vnd.jupyter.widget-view+json": {
       "model_id": "98efbf9b9cb348cca5623d676ecd0cd5",
       "version_major": 2,
       "version_minor": 0
      },
      "text/plain": [
       "Output()"
      ]
     },
     "metadata": {},
     "output_type": "display_data"
    }
   ],
   "source": [
    "# Get shape point cloud, predict labels, and visualize colored point cloud\n",
    "shape_points = ShapeNetParts.get_point_cloud_with_labels('03948459/e017cf5dac1e39b013d74211a209ce')[0]\n",
    "point_labels = inferer.infer_single(shape_points)\n",
    "point_labels = (point_labels - min(point_labels)) / (max(point_labels) - min(point_labels))\n",
    "point_colors = cm.get_cmap('hsv')(point_labels)[:, :3]\n",
    "point_colors = np.sum((point_colors * 255).astype(int) * [255*255, 255, 1], axis=1)\n",
    "visualize_pointcloud(shape_points.T, colors=point_colors, point_size=0.025, flip_axes=True)"
   ]
  },
  {
   "cell_type": "code",
   "execution_count": 11,
   "metadata": {
    "ExecuteTime": {
     "start_time": "2023-12-05T19:40:30.568164216Z"
    },
    "id": "n8ATibx_qH7f"
   },
   "outputs": [
    {
     "data": {
      "application/vnd.jupyter.widget-view+json": {
       "model_id": "0cc818ed88384606859e65bae987909b",
       "version_major": 2,
       "version_minor": 0
      },
      "text/plain": [
       "Output()"
      ]
     },
     "metadata": {},
     "output_type": "display_data"
    }
   ],
   "source": [
    "# Get shape point cloud, predict labels, and visualize colored point cloud\n",
    "shape_points = ShapeNetParts.get_point_cloud_with_labels('03790512/86b6dc954e1ca8e948272812609617e2')[0]\n",
    "point_labels = inferer.infer_single(shape_points)\n",
    "point_labels = (point_labels - min(point_labels)) / (max(point_labels) - min(point_labels))\n",
    "point_colors = cm.get_cmap('hsv')(point_labels)[:, :3]\n",
    "point_colors = np.sum((point_colors * 255).astype(int) * [255*255, 255, 1], axis=1)\n",
    "visualize_pointcloud(shape_points.T, colors=point_colors, point_size=0.025, flip_axes=True)"
   ]
  },
  {
   "cell_type": "markdown",
   "metadata": {
    "id": "OJFVZiJ3qH7f"
   },
   "source": [
    "Make sure you submit the trained model exercise_2/runs/2_5_pointnet_segmentation_generalization/model_best.ckpt in your zip so that we can evaluate it on the test set at our end."
   ]
  },
  {
   "cell_type": "markdown",
   "metadata": {
    "id": "Cb5qmbXlqH7f"
   },
   "source": [
    "## Submission\n",
    "\n",
    "This is the end of exercise 2 🙂. Please create a zip containing all files we provided, everything you modified, and all of your generated output/visualization files, including your checkpoints. Name it with your matriculation number(s) as described in exercise 1. Make sure this notebook can be run without problems. Then, submit via Moodle.\n",
    "\n",
    "**Submission Deadline**: 12.12.2023, 23:55"
   ]
  },
  {
   "cell_type": "markdown",
   "metadata": {
    "id": "pBqWobuQqH7f"
   },
   "source": [
    "## References\n",
    "\n"
   ]
  },
  {
   "cell_type": "markdown",
   "metadata": {
    "id": "3s_STf89qH7f"
   },
   "source": [
    "[1] Qi, C. et al. “Volumetric and Multi-view CNNs for Object Classification on 3D Data.” 2016 IEEE Conference on Computer Vision and Pattern Recognition (CVPR) (2016): 5648-5656.\n",
    "\n",
    "[2] Qi, C. et al. “PointNet: Deep Learning on Point Sets for 3D Classification and Segmentation.” 2017 IEEE Conference on Computer Vision and Pattern Recognition (CVPR) (2017): 77-85."
   ]
  }
 ],
 "metadata": {
  "colab": {
   "provenance": []
  },
  "kernelspec": {
   "display_name": "Python 3 (ipykernel)",
   "language": "python",
   "name": "python3"
  },
  "language_info": {
   "codemirror_mode": {
    "name": "ipython",
    "version": 3
   },
   "file_extension": ".py",
   "mimetype": "text/x-python",
   "name": "python",
   "nbconvert_exporter": "python",
   "pygments_lexer": "ipython3",
   "version": "3.10.10"
  },
  "widgets": {
   "application/vnd.jupyter.widget-state+json": {
    "0c9a28680ad948fcbcd84447249adedf": {
     "model_module": "@jupyter-widgets/output",
     "model_module_version": "1.0.0",
     "model_name": "OutputModel",
     "state": {
      "_dom_classes": [],
      "_model_module": "@jupyter-widgets/output",
      "_model_module_version": "1.0.0",
      "_model_name": "OutputModel",
      "_view_count": null,
      "_view_module": "@jupyter-widgets/output",
      "_view_module_version": "1.0.0",
      "_view_name": "OutputView",
      "layout": "IPY_MODEL_5047c7a6340847d881f0da803b4f75dd",
      "msg_id": "",
      "outputs": [
       {
        "data": {
         "application/vnd.jupyter.widget-view+json": {
          "model_id": "979e4e552e2c4c74adc58e8bf4481652",
          "version_major": 2,
          "version_minor": 0
         },
         "text/plain": "Plot(antialias=3, axes=['x', 'y', 'z'], axes_helper=1.0, axes_helper_colors=[16711680, 65280, 255], background…"
        },
        "metadata": {
         "application/vnd.jupyter.widget-view+json": {
          "colab": {
           "custom_widget_manager": {
            "url": "https://ssl.gstatic.com/colaboratory-static/widgets/colab-cdn-widget-manager/b3e629b1971e1542/manager.min.js"
           }
          }
         }
        },
        "output_type": "display_data"
       }
      ]
     }
    },
    "0ca249bcbd43434aac6d0b04bc88e8d8": {
     "model_module": "@jupyter-widgets/base",
     "model_module_version": "1.2.0",
     "model_name": "LayoutModel",
     "state": {
      "_model_module": "@jupyter-widgets/base",
      "_model_module_version": "1.2.0",
      "_model_name": "LayoutModel",
      "_view_count": null,
      "_view_module": "@jupyter-widgets/base",
      "_view_module_version": "1.2.0",
      "_view_name": "LayoutView",
      "align_content": null,
      "align_items": null,
      "align_self": null,
      "border": null,
      "bottom": null,
      "display": null,
      "flex": null,
      "flex_flow": null,
      "grid_area": null,
      "grid_auto_columns": null,
      "grid_auto_flow": null,
      "grid_auto_rows": null,
      "grid_column": null,
      "grid_gap": null,
      "grid_row": null,
      "grid_template_areas": null,
      "grid_template_columns": null,
      "grid_template_rows": null,
      "height": null,
      "justify_content": null,
      "justify_items": null,
      "left": null,
      "margin": null,
      "max_height": null,
      "max_width": null,
      "min_height": null,
      "min_width": null,
      "object_fit": null,
      "object_position": null,
      "order": null,
      "overflow": null,
      "overflow_x": null,
      "overflow_y": null,
      "padding": null,
      "right": null,
      "top": null,
      "visibility": null,
      "width": null
     }
    },
    "1c7dcdd227884c53bff767cb1d578d13": {
     "model_module": "k3d",
     "model_module_version": "2.16.0",
     "model_name": "PlotModel",
     "state": {
      "_backend_version": "2.16.0",
      "_dom_classes": [],
      "_model_module": "k3d",
      "_model_module_version": "2.16.0",
      "_model_name": "PlotModel",
      "_view_count": null,
      "_view_module": "k3d",
      "_view_module_version": "2.16.0",
      "_view_name": "PlotView",
      "antialias": 3,
      "auto_rendering": true,
      "axes": [
       "x",
       "y",
       "z"
      ],
      "axes_helper": 1,
      "axes_helper_colors": [
       16711680,
       65280,
       255
      ],
      "background_color": 16777215,
      "camera": [],
      "camera_animation": [],
      "camera_auto_fit": true,
      "camera_damping_factor": 0,
      "camera_fov": 60,
      "camera_mode": "trackball",
      "camera_no_pan": false,
      "camera_no_rotate": false,
      "camera_no_zoom": false,
      "camera_pan_speed": 0.3,
      "camera_rotate_speed": 1,
      "camera_zoom_speed": 1.2,
      "clipping_planes": [],
      "colorbar_object_id": -1,
      "colorbar_scientific": false,
      "custom_data": null,
      "fps": 25,
      "fps_meter": false,
      "grid": [
       -0.55,
       -0.55,
       -0.55,
       0.55,
       0.55,
       0.55
      ],
      "grid_auto_fit": true,
      "grid_color": 15132390,
      "grid_visible": false,
      "height": 512,
      "label_color": 4473924,
      "layout": "IPY_MODEL_0ca249bcbd43434aac6d0b04bc88e8d8",
      "lighting": 1.5,
      "logarithmic_depth_buffer": true,
      "manipulate_mode": "translate",
      "menu_visibility": true,
      "minimum_fps": -1,
      "mode": "view",
      "name": "occupancy_grid",
      "object_ids": [
       135594433894560
      ],
      "rendering_steps": 1,
      "screenshot": "",
      "screenshot_scale": 2,
      "snapshot": "",
      "snapshot_type": "full",
      "time": 0,
      "voxel_paint_color": 0
     }
    },
    "2280e10bd6224e949130b21e4836f1c1": {
     "model_module": "@jupyter-widgets/base",
     "model_module_version": "1.2.0",
     "model_name": "LayoutModel",
     "state": {
      "_model_module": "@jupyter-widgets/base",
      "_model_module_version": "1.2.0",
      "_model_name": "LayoutModel",
      "_view_count": null,
      "_view_module": "@jupyter-widgets/base",
      "_view_module_version": "1.2.0",
      "_view_name": "LayoutView",
      "align_content": null,
      "align_items": null,
      "align_self": null,
      "border": null,
      "bottom": null,
      "display": null,
      "flex": null,
      "flex_flow": null,
      "grid_area": null,
      "grid_auto_columns": null,
      "grid_auto_flow": null,
      "grid_auto_rows": null,
      "grid_column": null,
      "grid_gap": null,
      "grid_row": null,
      "grid_template_areas": null,
      "grid_template_columns": null,
      "grid_template_rows": null,
      "height": null,
      "justify_content": null,
      "justify_items": null,
      "left": null,
      "margin": null,
      "max_height": null,
      "max_width": null,
      "min_height": null,
      "min_width": null,
      "object_fit": null,
      "object_position": null,
      "order": null,
      "overflow": null,
      "overflow_x": null,
      "overflow_y": null,
      "padding": null,
      "right": null,
      "top": null,
      "visibility": null,
      "width": null
     }
    },
    "3b51fa19699d4c50997a1126d5c1b1eb": {
     "model_module": "@jupyter-widgets/base",
     "model_module_version": "1.2.0",
     "model_name": "LayoutModel",
     "state": {
      "_model_module": "@jupyter-widgets/base",
      "_model_module_version": "1.2.0",
      "_model_name": "LayoutModel",
      "_view_count": null,
      "_view_module": "@jupyter-widgets/base",
      "_view_module_version": "1.2.0",
      "_view_name": "LayoutView",
      "align_content": null,
      "align_items": null,
      "align_self": null,
      "border": null,
      "bottom": null,
      "display": null,
      "flex": null,
      "flex_flow": null,
      "grid_area": null,
      "grid_auto_columns": null,
      "grid_auto_flow": null,
      "grid_auto_rows": null,
      "grid_column": null,
      "grid_gap": null,
      "grid_row": null,
      "grid_template_areas": null,
      "grid_template_columns": null,
      "grid_template_rows": null,
      "height": null,
      "justify_content": null,
      "justify_items": null,
      "left": null,
      "margin": null,
      "max_height": null,
      "max_width": null,
      "min_height": null,
      "min_width": null,
      "object_fit": null,
      "object_position": null,
      "order": null,
      "overflow": null,
      "overflow_x": null,
      "overflow_y": null,
      "padding": null,
      "right": null,
      "top": null,
      "visibility": null,
      "width": null
     }
    },
    "5047c7a6340847d881f0da803b4f75dd": {
     "model_module": "@jupyter-widgets/base",
     "model_module_version": "1.2.0",
     "model_name": "LayoutModel",
     "state": {
      "_model_module": "@jupyter-widgets/base",
      "_model_module_version": "1.2.0",
      "_model_name": "LayoutModel",
      "_view_count": null,
      "_view_module": "@jupyter-widgets/base",
      "_view_module_version": "1.2.0",
      "_view_name": "LayoutView",
      "align_content": null,
      "align_items": null,
      "align_self": null,
      "border": null,
      "bottom": null,
      "display": null,
      "flex": null,
      "flex_flow": null,
      "grid_area": null,
      "grid_auto_columns": null,
      "grid_auto_flow": null,
      "grid_auto_rows": null,
      "grid_column": null,
      "grid_gap": null,
      "grid_row": null,
      "grid_template_areas": null,
      "grid_template_columns": null,
      "grid_template_rows": null,
      "height": null,
      "justify_content": null,
      "justify_items": null,
      "left": null,
      "margin": null,
      "max_height": null,
      "max_width": null,
      "min_height": null,
      "min_width": null,
      "object_fit": null,
      "object_position": null,
      "order": null,
      "overflow": null,
      "overflow_x": null,
      "overflow_y": null,
      "padding": null,
      "right": null,
      "top": null,
      "visibility": null,
      "width": null
     }
    },
    "979e4e552e2c4c74adc58e8bf4481652": {
     "model_module": "k3d",
     "model_module_version": "2.16.0",
     "model_name": "PlotModel",
     "state": {
      "_backend_version": "2.16.0",
      "_dom_classes": [],
      "_model_module": "k3d",
      "_model_module_version": "2.16.0",
      "_model_name": "PlotModel",
      "_view_count": null,
      "_view_module": "k3d",
      "_view_module_version": "2.16.0",
      "_view_name": "PlotView",
      "antialias": 3,
      "auto_rendering": true,
      "axes": [
       "x",
       "y",
       "z"
      ],
      "axes_helper": 1,
      "axes_helper_colors": [
       16711680,
       65280,
       255
      ],
      "background_color": 16777215,
      "camera": [],
      "camera_animation": [],
      "camera_auto_fit": true,
      "camera_damping_factor": 0,
      "camera_fov": 60,
      "camera_mode": "trackball",
      "camera_no_pan": false,
      "camera_no_rotate": false,
      "camera_no_zoom": false,
      "camera_pan_speed": 0.3,
      "camera_rotate_speed": 1,
      "camera_zoom_speed": 1.2,
      "clipping_planes": [],
      "colorbar_object_id": -1,
      "colorbar_scientific": false,
      "custom_data": null,
      "fps": 25,
      "fps_meter": false,
      "grid": [
       -0.55,
       -0.55,
       -0.55,
       0.55,
       0.55,
       0.55
      ],
      "grid_auto_fit": true,
      "grid_color": 15132390,
      "grid_visible": false,
      "height": 512,
      "label_color": 4473924,
      "layout": "IPY_MODEL_3b51fa19699d4c50997a1126d5c1b1eb",
      "lighting": 1.5,
      "logarithmic_depth_buffer": true,
      "manipulate_mode": "translate",
      "menu_visibility": true,
      "minimum_fps": -1,
      "mode": "view",
      "name": "occupancy_grid",
      "object_ids": [
       135594433893408
      ],
      "rendering_steps": 1,
      "screenshot": "",
      "screenshot_scale": 2,
      "snapshot": "",
      "snapshot_type": "full",
      "time": 0,
      "voxel_paint_color": 0
     }
    },
    "c31e6301159649aaa36ad6b9b9f8cce1": {
     "model_module": "@jupyter-widgets/output",
     "model_module_version": "1.0.0",
     "model_name": "OutputModel",
     "state": {
      "_dom_classes": [],
      "_model_module": "@jupyter-widgets/output",
      "_model_module_version": "1.0.0",
      "_model_name": "OutputModel",
      "_view_count": null,
      "_view_module": "@jupyter-widgets/output",
      "_view_module_version": "1.0.0",
      "_view_name": "OutputView",
      "layout": "IPY_MODEL_2280e10bd6224e949130b21e4836f1c1",
      "msg_id": "",
      "outputs": [
       {
        "data": {
         "application/vnd.jupyter.widget-view+json": {
          "model_id": "1c7dcdd227884c53bff767cb1d578d13",
          "version_major": 2,
          "version_minor": 0
         },
         "text/plain": "Plot(antialias=3, axes=['x', 'y', 'z'], axes_helper=1.0, axes_helper_colors=[16711680, 65280, 255], background…"
        },
        "metadata": {
         "application/vnd.jupyter.widget-view+json": {
          "colab": {
           "custom_widget_manager": {
            "url": "https://ssl.gstatic.com/colaboratory-static/widgets/colab-cdn-widget-manager/b3e629b1971e1542/manager.min.js"
           }
          }
         }
        },
        "output_type": "display_data"
       }
      ]
     }
    }
   }
  }
 },
 "nbformat": 4,
 "nbformat_minor": 1
}
